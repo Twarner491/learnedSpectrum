{
  "cells": [
    {
      "cell_type": "markdown",
      "metadata": {
        "id": "RiSeSKEWOt6k"
      },
      "source": [
        "# **fMRI Learning Stage Classification with Vision Transformers**\n",
        "\n",
        "This notebook implements a Vision Transformer model to classify different stages of learning from fMRI data."
      ]
    },
    {
      "cell_type": "markdown",
      "metadata": {
        "id": "IGj1K8Snf-Jh"
      },
      "source": [
        "# Abstract\n",
        "This study presents a novel approach to assessing an individual's knowledge level on a subject using functional Magnetic Resonance Imaging (fMRI) data processed by vision transformers. We introduce a state-of-the-art neural network architecture that combines 3D vision transformers, task-specific feature extraction, and temporal modeling to analyze fMRI data from multiple datasets (\"[Classification Learning](https://openfmri.org/dataset/ds000002/)\", \"[Classification learning and tone-counting](https://openfmri.org/dataset/ds000011/)\", \"[Classification learning and stop-signal](https://openfmri.org/dataset/ds000017/)\", and \"[Classification learning and reversal](https://openfmri.org/dataset/ds000052/)\" from the OpenfMRI project) involving classification learning tasks. Our model incorporates multi-task learning to predict knowledgeability scores, brain region activation, cognitive states, and task performance. We employ advanced techniques such as dynamic functional connectivity analysis, reinforcement learning, and explainable AI methods to enhance the model's performance and interpretability. The proposed approach demonstrates significant improvements in accurately classifying an individual's knowledge level compared to traditional methods, offering new insights into the neural correlates of learning and recall processes."
      ]
    },
    {
      "cell_type": "markdown",
      "metadata": {
        "id": "Lx1TeALigBgw"
      },
      "source": [
        "# 1. Introduction\n",
        "\n",
        "The ability to objectively assess an individual's knowledge level on a subject has long been a challenge in cognitive neuroscience and education. Traditional methods often rely on behavioral measures or standardized tests, which may not fully capture the underlying neural processes involved in knowledge acquisition and retrieval. Recent advancements in neuroimaging techniques, particularly functional Magnetic Resonance Imaging (fMRI), have opened new avenues for understanding the brain's activity patterns associated with learning and recall.\n",
        "\n",
        "This study aims to leverage these advancements by developing a novel approach to knowledge assessment using fMRI data. We propose a state-of-the-art neural network architecture that utilizes vision transformers to process volumetric fMRI data, enabling us to capture complex spatial and temporal patterns associated with different cognitive states. By analyzing fMRI data from multiple datasets involving various classification learning tasks, our model seeks to provide a more comprehensive and nuanced understanding of an individual's knowledge level.\n",
        "\n",
        "Our approach integrates several cutting-edge techniques in machine learning and neuroscience, including:\n",
        "\n",
        "1. 3D vision transformers for processing volumetric fMRI data\n",
        "2. Task-specific feature extraction for different types of classification learning tasks\n",
        "3. Temporal modeling to capture dynamic patterns in fMRI sequences\n",
        "4. Multi-task learning for predicting multiple related outcomes\n",
        "5. Attention visualization for enhanced interpretability\n",
        "6. Dynamic functional connectivity analysis\n",
        "7. Reinforcement learning components for modeling learning processes\n",
        "8. Explainable AI techniques for detailed prediction explanations\n",
        "\n",
        "By combining these advanced methods, we aim to develop a more accurate and interpretable model for assessing knowledgeability based on neural activity patterns. This research has potential implications for personalized education, cognitive assessment, and our understanding of the neural basis of learning and memory."
      ]
    },
    {
      "cell_type": "markdown",
      "metadata": {
        "id": "Bjq3rj7sgR7I"
      },
      "source": [
        "# 2. Background\n",
        "\n",
        "### 2.1 fMRI in Cognitive Neuroscience\n",
        "\n",
        "Functional Magnetic Resonance Imaging (fMRI) has become a cornerstone technique in cognitive neuroscience for studying brain activity patterns associated with various cognitive processes. By measuring changes in blood oxygenation and flow, fMRI provides indirect measures of neural activity with high spatial resolution. Numerous studies have utilized fMRI to investigate the neural correlates of learning, memory, and knowledge retrieval.\n",
        "\n",
        "### 2.2 Machine Learning in Neuroimaging Analysis\n",
        "\n",
        "The application of machine learning techniques to neuroimaging data has grown exponentially in recent years. Traditional approaches often relied on univariate analyses or simple multivariate techniques. However, the advent of deep learning has revolutionized the field, enabling the extraction of complex, hierarchical features from high-dimensional neuroimaging data.\n",
        "\n",
        "### 2.3 Vision Transformers in Medical Imaging\n",
        "\n",
        "Vision Transformers (ViT), initially developed for computer vision tasks, have recently shown promising results in medical imaging analysis. Their ability to capture long-range dependencies and process data in a hierarchical manner makes them particularly suitable for analyzing complex 3D medical imaging data, including fMRI.\n",
        "\n",
        "### 2.4 Multi-Task Learning in Neuroscience\n",
        "\n",
        "Multi-task learning has emerged as a powerful approach in neuroscience, allowing models to simultaneously predict multiple related outcomes. This approach can lead to improved generalization and more robust feature representations, particularly when dealing with limited sample sizes often encountered in neuroimaging studies.\n",
        "\n",
        "### 2.5 Explainable AI in Neuroscience\n",
        "\n",
        "As machine learning models become more complex, the need for interpretability and explainability has grown. In neuroscience, explainable AI techniques are crucial for validating model predictions against existing neuroscientific knowledge and for generating new hypotheses about brain function.\n",
        "\n",
        "Our study builds upon these foundations, integrating state-of-the-art techniques from machine learning and cognitive neuroscience to develop a novel approach for assessing knowledgeability through fMRI data analysis. By leveraging the strengths of vision transformers, multi-task learning, and explainable AI, we aim to create a more accurate and interpretable model of knowledge assessment based on neural activity patterns."
      ]
    },
    {
      "cell_type": "markdown",
      "metadata": {
        "id": "GLVvaw2igy28"
      },
      "source": [
        "# 3. Model Architecture\n",
        "\n",
        "The proposed model architecture is designed to process 3D fMRI data using a Vision Transformer approach, adapted for volumetric input. The architecture consists of several key components:\n",
        "\n",
        "### 3.1 Patch Embedding\n",
        "\n",
        "The first step in processing the fMRI data is patch embedding. This module converts the input fMRI volume into a sequence of flattened patches. It uses a 3D convolutional layer to project the input volume into a sequence of embedded patches, each representing a small 3D region of the brain.\n",
        "\n",
        "### 3.2 Position Embedding\n",
        "\n",
        "After patch embedding, the model adds learnable position embeddings to the patch embeddings. This allows the model to retain information about the spatial relationships between different parts of the brain, which is crucial for understanding the overall brain activity patterns.\n",
        "\n",
        "### 3.3 Transformer Encoder\n",
        "\n",
        "The core of the model is a Transformer encoder, which consists of multiple layers of self-attention and feed-forward networks. Each layer in the Transformer encoder includes:\n",
        "\n",
        "1. Multi-Head Attention: This allows the model to attend to different parts of the input simultaneously, capturing complex relationships in the data.\n",
        "2. Feed-Forward Network: This processes the output of the attention layer, allowing for non-linear transformations of the data.\n",
        "3. Layer Normalization: Applied before each sub-layer to stabilize the learning process.\n",
        "4. Residual Connections: These help in training deeper networks by allowing gradients to flow more easily through the network.\n",
        "\n",
        "### 3.4 Multi-Task Prediction Heads\n",
        "\n",
        "The output of the Transformer encoder is fed into multiple prediction heads, each corresponding to a different task:\n",
        "\n",
        "1. Knowledgeability Score: A linear layer that predicts a single value representing the overall knowledgeability of the subject.\n",
        "2. Brain Region Activation: A linear layer that predicts activation levels for different brain regions.\n",
        "3. Cognitive State Classification: A linear layer that outputs probabilities for different cognitive states.\n",
        "\n",
        "### 3.5 Full Model\n",
        "\n",
        "The full FMRITransformer model combines all these components. It first embeds the input fMRI data into patches, adds position embeddings, processes the sequence through the Transformer encoder, and finally applies the multi-task prediction heads to generate the desired outputs.\n",
        "\n",
        "This architecture is designed to process 3D fMRI data efficiently, capturing both local and global patterns in brain activity. The use of a Vision Transformer approach allows the model to handle the high-dimensional nature of fMRI data while also capturing long-range dependencies, which is crucial for understanding complex brain activity patterns associated with knowledge and learning.\n",
        "\n",
        "The multi-task design of the model allows it to simultaneously predict multiple related outcomes, potentially leading to more robust and generalizable features. This approach aligns well with the complex nature of brain function, where different aspects of cognition and knowledge are often interrelated."
      ]
    },
    {
      "cell_type": "markdown",
      "metadata": {
        "id": "bjYsMDqFg1oh"
      },
      "source": [
        "## Setup and Dependencies"
      ]
    },
    {
      "cell_type": "markdown",
      "metadata": {
        "id": "hGqWJ55Bg4Y0"
      },
      "source": [
        "#### Import libraries\n",
        "Data Loading"
      ]
    },
    {
      "cell_type": "code",
      "execution_count": null,
      "metadata": {
        "id": "8112V4f6g6h8"
      },
      "outputs": [],
      "source": [
        "import os\n",
        "import urllib.request\n",
        "from tqdm import tqdm\n",
        "from pathlib import Path\n",
        "import zipfile\n",
        "import tarfile\n",
        "from google.colab import drive"
      ]
    },
    {
      "cell_type": "markdown",
      "metadata": {
        "id": "TpHYZFRRznOH"
      },
      "source": [
        "Data Processing"
      ]
    },
    {
      "cell_type": "code",
      "execution_count": null,
      "metadata": {
        "id": "UyFTw6ITzoJx"
      },
      "outputs": [],
      "source": [
        "import numpy as np\n",
        "import torch\n",
        "import nibabel as nib\n",
        "from torch.utils.data import Dataset, DataLoader\n",
        "from torchvision import transforms\n",
        "from sklearn.preprocessing import StandardScaler\n",
        "from typing import Dict, List, Tuple, Optional\n",
        "import random\n",
        "import matplotlib.pyplot as plt\n",
        "import seaborn as sns\n",
        "from IPython.display import display, HTML"
      ]
    },
    {
      "cell_type": "markdown",
      "metadata": {
        "id": "I2TjjKg86NxX"
      },
      "source": [
        "Vision Transformer"
      ]
    },
    {
      "cell_type": "code",
      "execution_count": null,
      "metadata": {
        "id": "_g1cPnMi6QQV"
      },
      "outputs": [],
      "source": [
        "import torch\n",
        "import torch.nn as nn\n",
        "import torch.nn.functional as F\n",
        "from einops import rearrange, repeat\n",
        "from einops.layers.torch import Rearrange"
      ]
    },
    {
      "cell_type": "markdown",
      "metadata": {
        "id": "N8rGaiep6ohC"
      },
      "source": [
        "Training Setup"
      ]
    },
    {
      "cell_type": "code",
      "execution_count": null,
      "metadata": {
        "id": "T9ywOKt26pw_"
      },
      "outputs": [],
      "source": [
        "from torch.cuda.amp import autocast, GradScaler\n",
        "import gc"
      ]
    },
    {
      "cell_type": "markdown",
      "metadata": {
        "id": "es1MFNVYKu5Y"
      },
      "source": [
        "Training Loop"
      ]
    },
    {
      "cell_type": "code",
      "execution_count": null,
      "metadata": {
        "colab": {
          "base_uri": "https://localhost:8080/"
        },
        "id": "eZhlnpX0Kuqh",
        "outputId": "a1a755c0-e1ae-44d4-cb00-c6bc0c2cb76b"
      },
      "outputs": [
        {
          "output_type": "stream",
          "name": "stderr",
          "text": [
            "/usr/local/lib/python3.10/dist-packages/timm/models/layers/__init__.py:48: FutureWarning: Importing from timm.models.layers is deprecated, please import via timm.layers\n",
            "  warnings.warn(f\"Importing from {__name__} is deprecated, please import via timm.layers\", FutureWarning)\n"
          ]
        }
      ],
      "source": [
        "import wandb\n",
        "import math\n",
        "from collections import defaultdict\n",
        "from timm.models.layers import DropPath"
      ]
    },
    {
      "cell_type": "markdown",
      "metadata": {
        "id": "bEj6pMUDGp6r"
      },
      "source": [
        "Analysis & Visualization"
      ]
    },
    {
      "cell_type": "code",
      "execution_count": null,
      "metadata": {
        "colab": {
          "base_uri": "https://localhost:8080/"
        },
        "id": "xDp38v6EInHK",
        "outputId": "38726575-75a1-489e-a346-f7378631299b"
      },
      "outputs": [
        {
          "output_type": "stream",
          "name": "stdout",
          "text": [
            "Collecting captum\n",
            "  Downloading captum-0.7.0-py3-none-any.whl.metadata (26 kB)\n",
            "Requirement already satisfied: matplotlib in /usr/local/lib/python3.10/dist-packages (from captum) (3.8.0)\n",
            "Requirement already satisfied: numpy in /usr/local/lib/python3.10/dist-packages (from captum) (1.26.4)\n",
            "Requirement already satisfied: torch>=1.6 in /usr/local/lib/python3.10/dist-packages (from captum) (2.5.0+cu121)\n",
            "Requirement already satisfied: tqdm in /usr/local/lib/python3.10/dist-packages (from captum) (4.66.6)\n",
            "Requirement already satisfied: filelock in /usr/local/lib/python3.10/dist-packages (from torch>=1.6->captum) (3.16.1)\n",
            "Requirement already satisfied: typing-extensions>=4.8.0 in /usr/local/lib/python3.10/dist-packages (from torch>=1.6->captum) (4.12.2)\n",
            "Requirement already satisfied: networkx in /usr/local/lib/python3.10/dist-packages (from torch>=1.6->captum) (3.4.2)\n",
            "Requirement already satisfied: jinja2 in /usr/local/lib/python3.10/dist-packages (from torch>=1.6->captum) (3.1.4)\n",
            "Requirement already satisfied: fsspec in /usr/local/lib/python3.10/dist-packages (from torch>=1.6->captum) (2024.10.0)\n",
            "Requirement already satisfied: sympy==1.13.1 in /usr/local/lib/python3.10/dist-packages (from torch>=1.6->captum) (1.13.1)\n",
            "Requirement already satisfied: mpmath<1.4,>=1.1.0 in /usr/local/lib/python3.10/dist-packages (from sympy==1.13.1->torch>=1.6->captum) (1.3.0)\n",
            "Requirement already satisfied: contourpy>=1.0.1 in /usr/local/lib/python3.10/dist-packages (from matplotlib->captum) (1.3.0)\n",
            "Requirement already satisfied: cycler>=0.10 in /usr/local/lib/python3.10/dist-packages (from matplotlib->captum) (0.12.1)\n",
            "Requirement already satisfied: fonttools>=4.22.0 in /usr/local/lib/python3.10/dist-packages (from matplotlib->captum) (4.54.1)\n",
            "Requirement already satisfied: kiwisolver>=1.0.1 in /usr/local/lib/python3.10/dist-packages (from matplotlib->captum) (1.4.7)\n",
            "Requirement already satisfied: packaging>=20.0 in /usr/local/lib/python3.10/dist-packages (from matplotlib->captum) (24.1)\n",
            "Requirement already satisfied: pillow>=6.2.0 in /usr/local/lib/python3.10/dist-packages (from matplotlib->captum) (10.4.0)\n",
            "Requirement already satisfied: pyparsing>=2.3.1 in /usr/local/lib/python3.10/dist-packages (from matplotlib->captum) (3.2.0)\n",
            "Requirement already satisfied: python-dateutil>=2.7 in /usr/local/lib/python3.10/dist-packages (from matplotlib->captum) (2.8.2)\n",
            "Requirement already satisfied: six>=1.5 in /usr/local/lib/python3.10/dist-packages (from python-dateutil>=2.7->matplotlib->captum) (1.16.0)\n",
            "Requirement already satisfied: MarkupSafe>=2.0 in /usr/local/lib/python3.10/dist-packages (from jinja2->torch>=1.6->captum) (3.0.2)\n",
            "Downloading captum-0.7.0-py3-none-any.whl (1.3 MB)\n",
            "\u001b[2K   \u001b[90m━━━━━━━━━━━━━━━━━━━━━━━━━━━━━━━━━━━━━━━━\u001b[0m \u001b[32m1.3/1.3 MB\u001b[0m \u001b[31m17.5 MB/s\u001b[0m eta \u001b[36m0:00:00\u001b[0m\n",
            "\u001b[?25hInstalling collected packages: captum\n",
            "Successfully installed captum-0.7.0\n"
          ]
        }
      ],
      "source": [
        "!pip install captum"
      ]
    },
    {
      "cell_type": "code",
      "execution_count": null,
      "metadata": {
        "id": "elUWN0RQGg8A"
      },
      "outputs": [],
      "source": [
        "from captum.attr import GradientShap"
      ]
    },
    {
      "cell_type": "markdown",
      "metadata": {
        "id": "C5Zl0AOihM8B"
      },
      "source": [
        "## Data Loading"
      ]
    },
    {
      "cell_type": "markdown",
      "metadata": {
        "id": "2wDjegragzlg"
      },
      "source": [
        "#### Progress Bar"
      ]
    },
    {
      "cell_type": "code",
      "execution_count": null,
      "metadata": {
        "id": "T2i7bZL4g0xS"
      },
      "outputs": [],
      "source": [
        "class DownloadProgressBar(tqdm):\n",
        "    def update_to(self, b=1, bsize=1, tsize=None):\n",
        "        if tsize is not None:\n",
        "            self.total = tsize\n",
        "        self.update(b * bsize - self.n)"
      ]
    },
    {
      "cell_type": "markdown",
      "metadata": {
        "id": "PkS6DIEBg2mP"
      },
      "source": [
        "#### Download Dataset"
      ]
    },
    {
      "cell_type": "code",
      "execution_count": null,
      "metadata": {
        "id": "ewulvvDwg4Fn"
      },
      "outputs": [],
      "source": [
        "def download_dataset(url, output_path):\n",
        "    with DownloadProgressBar(unit='B', unit_scale=True, miniters=1, desc=url.split('/')[-1]) as t:\n",
        "        urllib.request.urlretrieve(url, filename=output_path, reporthook=t.update_to)"
      ]
    },
    {
      "cell_type": "markdown",
      "metadata": {
        "id": "vD9r5le-g77J"
      },
      "source": [
        "#### Check Dataset Structure"
      ]
    },
    {
      "cell_type": "code",
      "execution_count": null,
      "metadata": {
        "id": "9ls_rEpQg9bz"
      },
      "outputs": [],
      "source": [
        "def dataset_extracted_correctly(extract_path, dataset_id):\n",
        "    extract_path = Path(extract_path)\n",
        "    if not extract_path.exists():\n",
        "        return False\n",
        "\n",
        "    indicators = {\n",
        "        'ds000002': ['sub-01', 'sub-02', 'dataset_description.json'],\n",
        "        'ds000011': ['sub-01', 'sub-02', 'dataset_description.json'],\n",
        "        'ds000017': ['sub-01', 'sub-02', 'dataset_description.json'],\n",
        "        'ds000052': ['sub-01', 'sub-02', 'dataset_description.json']\n",
        "    }\n",
        "    expected_files = indicators.get(dataset_id, [])\n",
        "    return any(Path(p).name in expected_files for p in extract_path.glob('*'))"
      ]
    },
    {
      "cell_type": "markdown",
      "metadata": {
        "id": "XkDdfvK-hBCs"
      },
      "source": [
        "#### Extract Dataset"
      ]
    },
    {
      "cell_type": "code",
      "execution_count": null,
      "metadata": {
        "id": "wnRaW2uGhCe_"
      },
      "outputs": [],
      "source": [
        "def extract_dataset(zip_path, extract_path):\n",
        "    extract_path.mkdir(parents=True, exist_ok=True)\n",
        "    if zip_path.suffix == '.tgz':\n",
        "        with tarfile.open(zip_path, 'r:gz') as tar_ref:\n",
        "            tar_ref.extractall(extract_path)\n",
        "    else:\n",
        "        with zipfile.ZipFile(zip_path, 'r') as zip_ref:\n",
        "            zip_ref.extractall(extract_path)"
      ]
    },
    {
      "cell_type": "markdown",
      "metadata": {
        "id": "IYh6JRQdhE6V"
      },
      "source": [
        "#### Setup Datasets"
      ]
    },
    {
      "cell_type": "code",
      "execution_count": null,
      "metadata": {
        "id": "nb6KHUf4hHLn"
      },
      "outputs": [],
      "source": [
        "def setup_dataset(dataset_id, url, filename, base_path):\n",
        "    zip_path = base_path / filename\n",
        "    extract_path = base_path / 'fmri_data' / dataset_id\n",
        "\n",
        "    if not zip_path.exists():\n",
        "        download_dataset(url, zip_path)\n",
        "\n",
        "    if not extract_path.exists() and not dataset_extracted_correctly(extract_path, dataset_id):\n",
        "        extract_dataset(zip_path, extract_path)\n",
        "\n",
        "    return extract_path"
      ]
    },
    {
      "cell_type": "markdown",
      "metadata": {
        "id": "G_jjtuC4hLGC"
      },
      "source": [
        "#### Dataset Paths"
      ]
    },
    {
      "cell_type": "code",
      "execution_count": null,
      "metadata": {
        "id": "3KlIbS5xhNrN"
      },
      "outputs": [],
      "source": [
        "def setup_datasets(base_path):\n",
        "    datasets = {\n",
        "        'ds000002': {\n",
        "            'url': 'https://s3.amazonaws.com/openneuro/ds000002/ds000002_R2.0.5/compressed/ds000002_R2.0.5_raw.zip',\n",
        "            'filename': 'ds000002_R2.0.5_raw.zip'\n",
        "        },\n",
        "        'ds000011': {\n",
        "            'url': 'https://s3.amazonaws.com/openneuro/ds000011/ds000011_R2.0.1/compressed/ds000011_R2.0.1_raw.zip',\n",
        "            'filename': 'ds000011_R2.0.1_raw.zip'\n",
        "        },\n",
        "        'ds000017': {\n",
        "            'url': 'https://s3.amazonaws.com/openneuro/ds000017/ds000017_R2.0.1/compressed/ds000017_R2.0.1.zip',\n",
        "            'filename': 'ds000017_R2.0.1.zip'\n",
        "        },\n",
        "        'ds000052': {\n",
        "            'url': 'https://s3.amazonaws.com/openneuro/ds000052/ds000052_R2.0.0/compressed/ds052_R2.0.0_01-14.tgz',\n",
        "            'filename': 'ds052_R2.0.0_01-14.tgz'\n",
        "        }\n",
        "    }\n",
        "\n",
        "    dataset_paths = {}\n",
        "    for dataset_id, info in datasets.items():\n",
        "        path = setup_dataset(dataset_id, info['url'], info['filename'], base_path)\n",
        "        dataset_paths[dataset_id] = path\n",
        "\n",
        "    return dataset_paths"
      ]
    },
    {
      "cell_type": "markdown",
      "metadata": {
        "id": "jBNpLbh6hRmx"
      },
      "source": [
        "#### Mount Google Drive"
      ]
    },
    {
      "cell_type": "code",
      "execution_count": null,
      "metadata": {
        "id": "7C5Dmq6ThTvF"
      },
      "outputs": [],
      "source": [
        "def mount_drive():\n",
        "    drive.mount('/content/drive')"
      ]
    },
    {
      "cell_type": "markdown",
      "metadata": {
        "id": "PRD0CaREhVds"
      },
      "source": [
        "#### Execute Setup"
      ]
    },
    {
      "cell_type": "code",
      "execution_count": null,
      "metadata": {
        "colab": {
          "base_uri": "https://localhost:8080/"
        },
        "id": "qoaynb4whXTH",
        "outputId": "3e559d4e-e630-4f35-c03c-8e97b1fbd747"
      },
      "outputs": [
        {
          "output_type": "stream",
          "name": "stdout",
          "text": [
            "Mounted at /content/drive\n"
          ]
        }
      ],
      "source": [
        "mount_drive()\n",
        "base_path = Path('/content/drive/MyDrive/learnedSpectrum')\n",
        "dataset_paths = setup_datasets(base_path)"
      ]
    },
    {
      "cell_type": "markdown",
      "metadata": {
        "id": "B3dAbmrphY6O"
      },
      "source": [
        "Print Dataset Locations"
      ]
    },
    {
      "cell_type": "code",
      "execution_count": null,
      "metadata": {
        "colab": {
          "base_uri": "https://localhost:8080/"
        },
        "id": "PlpeBMEkhaIv",
        "outputId": "ee23b999-b72c-4728-9ead-50587d9950fc"
      },
      "outputs": [
        {
          "output_type": "stream",
          "name": "stdout",
          "text": [
            "ds000002: /content/drive/MyDrive/learnedSpectrum/fmri_data/ds000002\n",
            "ds000011: /content/drive/MyDrive/learnedSpectrum/fmri_data/ds000011\n",
            "ds000017: /content/drive/MyDrive/learnedSpectrum/fmri_data/ds000017\n",
            "ds000052: /content/drive/MyDrive/learnedSpectrum/fmri_data/ds000052\n"
          ]
        }
      ],
      "source": [
        "for dataset_id, path in dataset_paths.items():\n",
        "    print(f\"{dataset_id}: {path}\")"
      ]
    },
    {
      "cell_type": "markdown",
      "metadata": {
        "id": "Gd_4yvivzjW3"
      },
      "source": [
        "## Configuration"
      ]
    },
    {
      "cell_type": "markdown",
      "metadata": {
        "id": "b_7jXzhL0dCi"
      },
      "source": [
        "#### Set up processing parameters"
      ]
    },
    {
      "cell_type": "code",
      "execution_count": null,
      "metadata": {
        "id": "aJLASTaE0efb"
      },
      "outputs": [],
      "source": [
        "class Config:\n",
        "    \"\"\"Unified configuration for data processing and training\"\"\"\n",
        "    def __init__(self):\n",
        "        self.VOLUME_SIZE = (64, 64, 30, 208)\n",
        "        self.TIME_STEPS = 32\n",
        "        self.PATCH_SIZE = 7\n",
        "        self.NUM_PATCHES = 216\n",
        "\n",
        "        self.BATCH_SIZE = 4\n",
        "        self.LEARNING_RATE = 1e-4\n",
        "        self.WEIGHT_DECAY = 0.05\n",
        "        self.NUM_EPOCHS = 10\n",
        "        self.GRAD_CLIP = 1.0\n",
        "        self.DEVICE = 'cuda' if torch.cuda.is_available() else 'cpu'\n",
        "        self.FP16 = True\n",
        "        self.NUM_WORKERS = 0\n",
        "\n",
        "        self.EMBED_DIM = 512\n",
        "        self.NUM_HEADS = 12\n",
        "        self.NUM_LAYERS = 12\n",
        "        self.DROPOUT = 0.2\n",
        "\n",
        "        self.TASK_WEIGHTS = {\n",
        "            'knowledge': 1.0,\n",
        "            'regions': 0.5,\n",
        "            'states': 0.5\n",
        "        }"
      ]
    },
    {
      "cell_type": "markdown",
      "metadata": {
        "id": "vXTJ23DvB85e"
      },
      "source": [
        "Create unified configuration"
      ]
    },
    {
      "cell_type": "code",
      "execution_count": null,
      "metadata": {
        "colab": {
          "base_uri": "https://localhost:8080/"
        },
        "id": "x1mBsFdHB9zW",
        "outputId": "545a9698-0d40-4e3d-ae42-9a82284462bf"
      },
      "outputs": [
        {
          "output_type": "stream",
          "name": "stdout",
          "text": [
            "Created unified configuration\n"
          ]
        }
      ],
      "source": [
        "config = Config()\n",
        "print(\"Created unified configuration\")"
      ]
    },
    {
      "cell_type": "markdown",
      "metadata": {
        "id": "PDYXY3Vf79a_"
      },
      "source": [
        "#### Memory management helpers"
      ]
    },
    {
      "cell_type": "markdown",
      "metadata": {
        "id": "dQZAtpE7fBLW"
      },
      "source": [
        "Clear GPU memory cache"
      ]
    },
    {
      "cell_type": "code",
      "execution_count": null,
      "metadata": {
        "id": "S57VBpnI7-8r"
      },
      "outputs": [],
      "source": [
        "def clear_memory():\n",
        "    gc.collect()\n",
        "    torch.cuda.empty_cache()"
      ]
    },
    {
      "cell_type": "markdown",
      "metadata": {
        "id": "UhtMY5I9fDW4"
      },
      "source": [
        "Print current GPU memory usage"
      ]
    },
    {
      "cell_type": "code",
      "execution_count": null,
      "metadata": {
        "id": "1AZcXC1i7_3P"
      },
      "outputs": [],
      "source": [
        "def print_memory_stats():\n",
        "    if torch.cuda.is_available():\n",
        "        print(\"\\nGPU Memory Stats:\")\n",
        "        print(f\"Allocated: {torch.cuda.memory_allocated()/1e9:.2f} GB\")\n",
        "        print(f\"Reserved: {torch.cuda.memory_reserved()/1e9:.2f} GB\")\n",
        "        print(f\"Max Allocated: {torch.cuda.max_memory_allocated()/1e9:.2f} GB\\n\")"
      ]
    },
    {
      "cell_type": "markdown",
      "metadata": {
        "id": "JxMOZgjY8Bfq"
      },
      "source": [
        "Test memory management"
      ]
    },
    {
      "cell_type": "code",
      "execution_count": null,
      "metadata": {
        "colab": {
          "base_uri": "https://localhost:8080/"
        },
        "id": "EGxcUbcS8CTZ",
        "outputId": "6f1f7d1c-59b0-4a7b-f415-27f39ee26b41"
      },
      "outputs": [
        {
          "output_type": "stream",
          "name": "stdout",
          "text": [
            "\n",
            "GPU Memory Stats:\n",
            "Allocated: 0.00 GB\n",
            "Reserved: 0.00 GB\n",
            "Max Allocated: 0.00 GB\n",
            "\n"
          ]
        }
      ],
      "source": [
        "clear_memory()\n",
        "print_memory_stats()"
      ]
    },
    {
      "cell_type": "markdown",
      "metadata": {
        "id": "YA1yhFDE0fkt"
      },
      "source": [
        "## Data Exploration\n",
        "Explore the structure and content of our datasets with corrected paths"
      ]
    },
    {
      "cell_type": "code",
      "execution_count": null,
      "metadata": {
        "id": "SFMO8fIX0kxF"
      },
      "outputs": [],
      "source": [
        "def explore_dataset(dataset_paths):\n",
        "    first_img = None\n",
        "\n",
        "    for dataset_id, base_path in dataset_paths.items():\n",
        "        print(f\"\\nExploring dataset: {dataset_id}\")\n",
        "\n",
        "        dataset_dir = None\n",
        "        if base_path.exists():\n",
        "            subdirs = list(base_path.iterdir())\n",
        "            if subdirs:\n",
        "                dataset_dir = subdirs[0]\n",
        "\n",
        "        if dataset_dir and dataset_dir.exists():\n",
        "            print(f\"Dataset directory: {dataset_dir}\")\n",
        "\n",
        "            subjects = list(dataset_dir.glob('sub-*'))\n",
        "            print(f\"Number of subjects: {len(subjects)}\")\n",
        "\n",
        "            if subjects:\n",
        "                first_subject = subjects[0]\n",
        "                func_files = list(first_subject.glob('**/func/*bold.nii.gz'))\n",
        "                print(f\"First subject: {first_subject.name}\")\n",
        "                print(f\"Number of functional files: {len(func_files)}\")\n",
        "\n",
        "                if func_files:\n",
        "                    print(f\"First functional file: {func_files[0].name}\")\n",
        "                    img = nib.load(str(func_files[0]))\n",
        "                    print(f\"fMRI dimensions: {img.shape}\")\n",
        "                    print(f\"Data type: {img.get_data_dtype()}\")\n",
        "\n",
        "                    if first_img is None:\n",
        "                        first_img = img\n",
        "        else:\n",
        "            print(f\"Dataset directory not found at {base_path}\")\n",
        "\n",
        "    return first_img"
      ]
    },
    {
      "cell_type": "markdown",
      "metadata": {
        "id": "NlF5YGkk0nO4"
      },
      "source": [
        "Test our datasets"
      ]
    },
    {
      "cell_type": "code",
      "execution_count": null,
      "metadata": {
        "colab": {
          "base_uri": "https://localhost:8080/"
        },
        "id": "S5j3z5DM0oFg",
        "outputId": "35b53fec-a156-4c6d-bbd9-7de15d552b87"
      },
      "outputs": [
        {
          "output_type": "stream",
          "name": "stdout",
          "text": [
            "\n",
            "Exploring dataset: ds000002\n",
            "Dataset directory: /content/drive/MyDrive/learnedSpectrum/fmri_data/ds000002/ds002_R2.0.5\n",
            "Number of subjects: 3\n",
            "First subject: sub-03\n",
            "Number of functional files: 6\n",
            "First functional file: sub-03_task-mixedeventrelatedprobe_run-01_bold.nii.gz\n",
            "fMRI dimensions: (64, 64, 25, 237)\n",
            "Data type: int16\n",
            "\n",
            "Exploring dataset: ds000011\n",
            "Dataset directory: /content/drive/MyDrive/learnedSpectrum/fmri_data/ds000011/ds000011_R2.0.1\n",
            "Number of subjects: 14\n",
            "First subject: sub-03\n",
            "Number of functional files: 6\n",
            "First functional file: sub-03_task-Dualtaskweatherprediction_run-01_bold.nii.gz\n",
            "fMRI dimensions: (64, 64, 30, 208)\n",
            "Data type: int16\n",
            "\n",
            "Exploring dataset: ds000017\n",
            "Dataset directory: /content/drive/MyDrive/learnedSpectrum/fmri_data/ds000017/ds000017_R2.0.1\n",
            "Number of subjects: 8\n",
            "First subject: sub-7\n",
            "Number of functional files: 10\n",
            "First functional file: sub-7_ses-timepoint2_task-selectivestopsignaltask_run-02_bold.nii.gz\n",
            "fMRI dimensions: (64, 64, 33, 182)\n",
            "Data type: int16\n",
            "\n",
            "Exploring dataset: ds000052\n",
            "Dataset directory: /content/drive/MyDrive/learnedSpectrum/fmri_data/ds000052/ds052_R2.0.0\n",
            "Number of subjects: 13\n",
            "First subject: sub-02\n",
            "Number of functional files: 4\n",
            "First functional file: sub-02_task-weatherprediction_run-2_bold.nii.gz\n",
            "fMRI dimensions: (64, 64, 21, 225)\n",
            "Data type: int16\n"
          ]
        }
      ],
      "source": [
        "first_img = explore_dataset(dataset_paths)"
      ]
    },
    {
      "cell_type": "markdown",
      "metadata": {
        "id": "5h5Ma9Jk0sMl"
      },
      "source": [
        "#### Visualize fMRI data\n",
        "Plot a slice from fMRI data"
      ]
    },
    {
      "cell_type": "code",
      "execution_count": null,
      "metadata": {
        "id": "pyOGVKgI0tXk"
      },
      "outputs": [],
      "source": [
        "def plot_fmri_slice(img, slice_idx=None, timepoint=0):\n",
        "    data = img.get_fdata()\n",
        "    if slice_idx is None:\n",
        "        slice_idx = data.shape[2] // 2\n",
        "\n",
        "    plt.figure(figsize=(10, 4))\n",
        "\n",
        "    plt.subplot(131)\n",
        "    plt.imshow(data[slice_idx, :, :, timepoint].T, cmap='viridis')\n",
        "    plt.title('Sagittal View')\n",
        "    plt.axis('off')\n",
        "\n",
        "    plt.subplot(132)\n",
        "    plt.imshow(data[:, slice_idx, :, timepoint].T, cmap='viridis')\n",
        "    plt.title('Coronal View')\n",
        "    plt.axis('off')\n",
        "\n",
        "    plt.subplot(133)\n",
        "    plt.imshow(data[:, :, slice_idx, timepoint].T, cmap='viridis')\n",
        "    plt.title('Axial View')\n",
        "    plt.axis('off')\n",
        "\n",
        "    plt.tight_layout()\n",
        "    plt.show()"
      ]
    },
    {
      "cell_type": "markdown",
      "metadata": {
        "id": "Efjh9qDx0vWp"
      },
      "source": [
        "Visualize first image"
      ]
    },
    {
      "cell_type": "code",
      "execution_count": null,
      "metadata": {
        "colab": {
          "base_uri": "https://localhost:8080/",
          "height": 326
        },
        "id": "_5Y03D6p0wtH",
        "outputId": "8cdadf42-a882-48bd-a6a0-32742520500a"
      },
      "outputs": [
        {
          "output_type": "display_data",
          "data": {
            "text/plain": [
              "<Figure size 1000x400 with 3 Axes>"
            ],
            "image/png": "[encoded data removed]"
          },
          "metadata": {}
        }
      ],
      "source": [
        "if first_img is not None:\n",
        "    plot_fmri_slice(first_img)"
      ]
    },
    {
      "cell_type": "markdown",
      "metadata": {
        "id": "3GP83k8w0zWz"
      },
      "source": [
        "## Data Preprocessing\n",
        "Normalize fMRI data using z-score normalization"
      ]
    },
    {
      "cell_type": "code",
      "execution_count": null,
      "metadata": {
        "id": "JwAMd4Gd02k0"
      },
      "outputs": [],
      "source": [
        "def normalize_fmri(data: np.ndarray) -> np.ndarray:\n",
        "    \"\"\"Normalize fMRI data using z-score normalization.\"\"\"\n",
        "    # Ensure data is contiguous\n",
        "    data = np.ascontiguousarray(data)\n",
        "\n",
        "    original_shape = data.shape\n",
        "    # Reshape to 2D for normalization\n",
        "    data_2d = data.reshape(original_shape[0], -1)\n",
        "\n",
        "    # Apply normalization\n",
        "    scaler = StandardScaler()\n",
        "    data_normalized = scaler.fit_transform(data_2d)\n",
        "\n",
        "    # Reshape back and ensure contiguous\n",
        "    return np.ascontiguousarray(data_normalized.reshape(original_shape))\n"
      ]
    },
    {
      "cell_type": "markdown",
      "metadata": {
        "id": "FtiWRWRAd0PN"
      },
      "source": [
        "Apply temporal bandpass filtering to fMRI data"
      ]
    },
    {
      "cell_type": "code",
      "execution_count": null,
      "metadata": {
        "id": "UbD7A4Rq038P"
      },
      "outputs": [],
      "source": [
        "def temporal_filtering(data: np.ndarray, tr: float = 2.0,\n",
        "                      high_pass: float = 0.01, low_pass: float = 0.1) -> np.ndarray:\n",
        "    \"\"\"Apply temporal bandpass filtering to fMRI data.\"\"\"\n",
        "    from scipy import signal\n",
        "\n",
        "    # Ensure data is contiguous\n",
        "    data = np.ascontiguousarray(data)\n",
        "\n",
        "    nyquist = 1 / (2 * tr)\n",
        "    high = high_pass / nyquist\n",
        "    low = low_pass / nyquist\n",
        "    b, a = signal.butter(3, [high, low], btype='band')\n",
        "\n",
        "    # Apply filtering and ensure output is contiguous\n",
        "    filtered_data = signal.filtfilt(b, a, data, axis=0)\n",
        "    return np.ascontiguousarray(filtered_data)"
      ]
    },
    {
      "cell_type": "markdown",
      "metadata": {
        "id": "PYaXvxVI07V2"
      },
      "source": [
        "Test preprocessing on our first image"
      ]
    },
    {
      "cell_type": "code",
      "execution_count": null,
      "metadata": {
        "colab": {
          "base_uri": "https://localhost:8080/",
          "height": 536
        },
        "id": "DSK7yGMl05qu",
        "outputId": "60f43f9b-dfbc-4887-c043-19d716bc3aed"
      },
      "outputs": [
        {
          "output_type": "stream",
          "name": "stdout",
          "text": [
            "\n",
            "Original data statistics:\n",
            "Mean: 186.388\n",
            "Std: 275.060\n",
            "\n",
            "Normalized data statistics:\n",
            "Mean: 0.000\n",
            "Std: 1.000\n",
            "\n",
            "Filtered data statistics:\n",
            "Mean: -0.023\n",
            "Std: 0.618\n"
          ]
        },
        {
          "output_type": "display_data",
          "data": {
            "text/plain": [
              "<Figure size 1500x500 with 3 Axes>"
            ],
            "image/png": "[encoded data removed]"
          },
          "metadata": {}
        }
      ],
      "source": [
        "if first_img is not None:\n",
        "    data = first_img.get_fdata()\n",
        "    print(\"\\nOriginal data statistics:\")\n",
        "    print(f\"Mean: {np.mean(data):.3f}\")\n",
        "    print(f\"Std: {np.std(data):.3f}\")\n",
        "\n",
        "    normalized_data = normalize_fmri(data)\n",
        "    print(\"\\nNormalized data statistics:\")\n",
        "    print(f\"Mean: {np.mean(normalized_data):.3f}\")\n",
        "    print(f\"Std: {np.std(normalized_data):.3f}\")\n",
        "\n",
        "    filtered_data = temporal_filtering(normalized_data)\n",
        "    print(\"\\nFiltered data statistics:\")\n",
        "    print(f\"Mean: {np.mean(filtered_data):.3f}\")\n",
        "    print(f\"Std: {np.std(filtered_data):.3f}\")\n",
        "\n",
        "    plt.figure(figsize=(15, 5))\n",
        "\n",
        "    plt.subplot(131)\n",
        "    plt.imshow(data[:, :, data.shape[2]//2, 0], cmap='viridis')\n",
        "    plt.title('Original')\n",
        "    plt.axis('off')\n",
        "\n",
        "    plt.subplot(132)\n",
        "    plt.imshow(normalized_data[:, :, data.shape[2]//2, 0], cmap='viridis')\n",
        "    plt.title('Normalized')\n",
        "    plt.axis('off')\n",
        "\n",
        "    plt.subplot(133)\n",
        "    plt.imshow(filtered_data[:, :, data.shape[2]//2, 0], cmap='viridis')\n",
        "    plt.title('Filtered')\n",
        "    plt.axis('off')\n",
        "\n",
        "    plt.tight_layout()\n",
        "    plt.show()"
      ]
    },
    {
      "cell_type": "markdown",
      "metadata": {
        "id": "0_x4FaOi0-YZ"
      },
      "source": [
        "#### Test augmentation functions\n",
        "fMRI-specific data augmentation\n",
        "- Random crop in temporal dimension\n",
        "- Add Gaussian noise to data\n",
        "- Apply random 3D rotation"
      ]
    },
    {
      "cell_type": "code",
      "execution_count": null,
      "metadata": {
        "id": "fufEWm-z0_ey"
      },
      "outputs": [],
      "source": [
        "class FMRIAugmentor:\n",
        "    @staticmethod\n",
        "    def random_temporal_crop(data: np.ndarray,\n",
        "                           target_length: int) -> np.ndarray:\n",
        "        \"\"\"Randomly crop in temporal dimension.\"\"\"\n",
        "        data = np.ascontiguousarray(data)\n",
        "        if data.shape[0] <= target_length:\n",
        "            return data\n",
        "        start_idx = random.randint(0, data.shape[0] - target_length)\n",
        "        return np.ascontiguousarray(data[start_idx:start_idx + target_length])\n",
        "\n",
        "    @staticmethod\n",
        "    def gaussian_noise(data: np.ndarray,\n",
        "                      noise_level: float = 0.01) -> np.ndarray:\n",
        "        \"\"\"Add Gaussian noise to data.\"\"\"\n",
        "        data = np.ascontiguousarray(data)\n",
        "        noise = np.random.normal(0, noise_level, data.shape)\n",
        "        return np.ascontiguousarray(data + noise)\n",
        "\n",
        "    @staticmethod\n",
        "    def random_rotation_3d(data: np.ndarray,\n",
        "                          max_angle: float = 10) -> np.ndarray:\n",
        "        \"\"\"Apply random 3D rotation.\"\"\"\n",
        "        from scipy.ndimage import rotate\n",
        "        data = np.ascontiguousarray(data)\n",
        "        angles = np.random.uniform(-max_angle, max_angle, 3)\n",
        "        rotated_data = data.copy()\n",
        "\n",
        "        for i, angle in enumerate(angles):\n",
        "            rotated_data = rotate(rotated_data, angle,\n",
        "                                axes=((1,2), (1,3), (2,3))[i],\n",
        "                                reshape=False, mode='nearest')\n",
        "        return np.ascontiguousarray(rotated_data)"
      ]
    },
    {
      "cell_type": "code",
      "execution_count": null,
      "metadata": {
        "colab": {
          "base_uri": "https://localhost:8080/",
          "height": 314
        },
        "id": "_4MJIpTW1CKh",
        "outputId": "41e1dd87-0978-42c3-f29a-6367b2ce6ef7"
      },
      "outputs": [
        {
          "output_type": "display_data",
          "data": {
            "text/plain": [
              "<Figure size 1500x500 with 3 Axes>"
            ],
            "image/png": "[encoded data removed]"
          },
          "metadata": {}
        }
      ],
      "source": [
        "if first_img is not None:\n",
        "    augmentor = FMRIAugmentor()\n",
        "    data = first_img.get_fdata()\n",
        "\n",
        "    noisy_data = augmentor.gaussian_noise(data)\n",
        "    rotated_data = augmentor.random_rotation_3d(data)\n",
        "\n",
        "    plt.figure(figsize=(15, 5))\n",
        "\n",
        "    plt.subplot(131)\n",
        "    plt.imshow(data[:, :, data.shape[2]//2, 0], cmap='viridis')\n",
        "    plt.title('Original')\n",
        "    plt.axis('off')\n",
        "\n",
        "    plt.subplot(132)\n",
        "    plt.imshow(noisy_data[:, :, data.shape[2]//2, 0], cmap='viridis')\n",
        "    plt.title('With Noise')\n",
        "    plt.axis('off')\n",
        "\n",
        "    plt.subplot(133)\n",
        "    plt.imshow(rotated_data[:, :, data.shape[2]//2, 0], cmap='viridis')\n",
        "    plt.title('Rotated')\n",
        "    plt.axis('off')\n",
        "\n",
        "    plt.tight_layout()\n",
        "    plt.show()"
      ]
    },
    {
      "cell_type": "markdown",
      "metadata": {
        "id": "TPJTQW4E1ET0"
      },
      "source": [
        "#### Create and test dataset class\n",
        "preprocesses and caches standardized fMRI data"
      ]
    },
    {
      "cell_type": "code",
      "execution_count": null,
      "metadata": {
        "id": "_K8OkykJ1GAG"
      },
      "outputs": [],
      "source": [
        "class StandardizedFMRIDataset(Dataset):\n",
        "    def __init__(self,\n",
        "                 data_paths: List[str],\n",
        "                 labels: Dict[str, float],\n",
        "                 config: Config,\n",
        "                 cache_dir: Optional[str] = None,\n",
        "                 augment: bool = True):\n",
        "        self.data_paths = data_paths\n",
        "        self.labels = labels\n",
        "        self.config = config\n",
        "        self.augment = augment\n",
        "        self.cache_dir = cache_dir\n",
        "        self.augmentor = FMRIAugmentor()\n",
        "\n",
        "        self.standard_shape = self.config.VOLUME_SIZE\n",
        "\n",
        "        # Preprocess and store all valid data\n",
        "        self.preprocessed_data = {}\n",
        "        print(\"\\nPreprocessing dataset...\")\n",
        "        for idx, path in enumerate(tqdm(self.data_paths)):\n",
        "            try:\n",
        "                data = self._load_and_preprocess(path)\n",
        "                if data is not None:\n",
        "                    self.preprocessed_data[idx] = data\n",
        "            except Exception as e:\n",
        "                print(f\"\\nError processing file {idx}: {e}\")\n",
        "                continue\n",
        "\n",
        "        print(f\"\\nSuccessfully preprocessed {len(self.preprocessed_data)} files\")\n",
        "\n",
        "        # Create a mapping from external to internal indices\n",
        "        self.valid_indices = sorted(list(self.preprocessed_data.keys()))\n",
        "\n",
        "    def resize_data(self, data: np.ndarray) -> np.ndarray:\n",
        "        \"\"\"Resize data to standard shape using scipy's zoom function.\"\"\"\n",
        "        from scipy.ndimage import zoom\n",
        "\n",
        "        # Ensure data is contiguous and in the correct order\n",
        "        data = np.ascontiguousarray(data)\n",
        "\n",
        "        current_shape = np.array(data.shape)\n",
        "        target_shape = np.array(self.standard_shape)\n",
        "        zoom_factors = target_shape / current_shape\n",
        "\n",
        "        try:\n",
        "            print(f\"\\nResizing data from {current_shape} to {target_shape}\")\n",
        "            print(f\"Zoom factors: {zoom_factors}\")\n",
        "\n",
        "            # Apply zoom with order=1 (linear interpolation) and ensure output is contiguous\n",
        "            resized = zoom(data, zoom_factors, order=1, mode='reflect')\n",
        "            resized = np.ascontiguousarray(resized)\n",
        "            print(f\"Resized shape: {resized.shape}\")\n",
        "\n",
        "            return resized\n",
        "\n",
        "        except Exception as e:\n",
        "            print(f\"Error in resize_data: {e}\")\n",
        "            raise\n",
        "\n",
        "    def _load_and_preprocess(self, path: str) -> Optional[torch.Tensor]:\n",
        "        \"\"\"Load and preprocess a single fMRI file.\"\"\"\n",
        "        try:\n",
        "            print(f\"\\nProcessing: {path}\")\n",
        "            img = nib.load(str(path))\n",
        "\n",
        "            # Get data and ensure it's contiguous\n",
        "            data = np.ascontiguousarray(img.get_fdata())\n",
        "            print(f\"Original shape: {data.shape}\")\n",
        "\n",
        "            if data.shape != self.standard_shape:\n",
        "                data = self.resize_data(data)\n",
        "\n",
        "            # Normalize and filter\n",
        "            data = normalize_fmri(data)\n",
        "            data = temporal_filtering(data)\n",
        "\n",
        "            # Ensure data is contiguous before converting to tensor\n",
        "            data = np.ascontiguousarray(data)\n",
        "            return torch.from_numpy(data).float()\n",
        "\n",
        "        except Exception as e:\n",
        "            print(f\"Error loading {path}: {e}\")\n",
        "            return None\n",
        "\n",
        "    def __len__(self):\n",
        "        return len(self.valid_indices)\n",
        "\n",
        "    def __getitem__(self, idx: int) -> Tuple[torch.Tensor, torch.Tensor]:\n",
        "        if idx >= len(self.valid_indices):\n",
        "            raise IndexError(f\"Index {idx} out of bounds for dataset of size {len(self.valid_indices)}\")\n",
        "\n",
        "        # Map external index to internal index\n",
        "        internal_idx = self.valid_indices[idx]\n",
        "\n",
        "        data = self.preprocessed_data[internal_idx]\n",
        "\n",
        "        # Apply augmentations if needed\n",
        "        if self.augment:\n",
        "            if data.shape[0] > self.config.TIME_STEPS:\n",
        "                data = self.augmentor.random_temporal_crop(data, self.config.TIME_STEPS)\n",
        "            data = self.augmentor.gaussian_noise(data)\n",
        "\n",
        "        # Get label\n",
        "        path = self.data_paths[internal_idx]\n",
        "        subject_id = str(path).split('/')[-3]\n",
        "        label = self.labels.get(subject_id, 0.0)\n",
        "\n",
        "        return data, torch.tensor(label, dtype=torch.float32)"
      ]
    },
    {
      "cell_type": "markdown",
      "metadata": {
        "id": "YqHA_qt-1H4A"
      },
      "source": [
        "Test dataset creation"
      ]
    },
    {
      "cell_type": "code",
      "execution_count": null,
      "metadata": {
        "id": "kRUTcdy31Mf5"
      },
      "outputs": [],
      "source": [
        "def test_fixed_dataset():\n",
        "    print(\"\\nTesting fixed dataset implementation...\")\n",
        "\n",
        "    dummy_labels = {}\n",
        "    for dataset_path in dataset_paths.values():\n",
        "        if dataset_path.exists():\n",
        "            try:\n",
        "                dataset_dir = next(dataset_path.iterdir())\n",
        "                for subject in dataset_dir.glob('sub-*'):\n",
        "                    subject_id = subject.name\n",
        "                    dummy_labels[subject_id] = random.random()\n",
        "            except StopIteration:\n",
        "                continue\n",
        "\n",
        "    all_paths = []\n",
        "    for dataset_path in dataset_paths.values():\n",
        "        if dataset_path.exists():\n",
        "            dataset_dir = next(dataset_path.iterdir())\n",
        "            all_paths.extend(list(dataset_dir.glob('sub-*/func/*bold.nii.gz')))\n",
        "\n",
        "    test_paths = all_paths[:3]\n",
        "\n",
        "    try:\n",
        "        test_dataset = StandardizedFMRIDataset(\n",
        "            test_paths,\n",
        "            dummy_labels,\n",
        "            config,\n",
        "            augment=True\n",
        "        )\n",
        "\n",
        "        print(\"\\nTesting data loading...\")\n",
        "        sample_data, sample_label = test_dataset[0]\n",
        "        print(f\"Sample data shape: {sample_data.shape}\")\n",
        "        print(f\"Sample label value: {sample_label.item():.3f}\")\n",
        "\n",
        "        return test_dataset\n",
        "\n",
        "    except Exception as e:\n",
        "        print(f\"Error in dataset creation/loading: {e}\")\n",
        "        return None"
      ]
    },
    {
      "cell_type": "code",
      "execution_count": null,
      "metadata": {
        "colab": {
          "base_uri": "https://localhost:8080/"
        },
        "id": "7vWip95PCkBp",
        "outputId": "5886803e-8f37-40ea-dfed-78a84ee4836b"
      },
      "outputs": [
        {
          "output_type": "stream",
          "name": "stdout",
          "text": [
            "\n",
            "Testing fixed dataset implementation...\n",
            "\n",
            "Preprocessing dataset...\n"
          ]
        },
        {
          "output_type": "stream",
          "name": "stderr",
          "text": [
            "\r  0%|          | 0/3 [00:00<?, ?it/s]"
          ]
        },
        {
          "output_type": "stream",
          "name": "stdout",
          "text": [
            "\n",
            "Processing: /content/drive/MyDrive/learnedSpectrum/fmri_data/ds000002/ds002_R2.0.5/sub-03/func/sub-03_task-mixedeventrelatedprobe_run-01_bold.nii.gz\n",
            "Original shape: (64, 64, 25, 237)\n",
            "\n",
            "Resizing data from [ 64  64  25 237] to [ 64  64  30 208]\n",
            "Zoom factors: [1.         1.         1.2        0.87763713]\n",
            "Resized shape: (64, 64, 30, 208)\n"
          ]
        },
        {
          "output_type": "stream",
          "name": "stderr",
          "text": [
            "\r 33%|███▎      | 1/3 [00:06<00:13,  6.63s/it]"
          ]
        },
        {
          "output_type": "stream",
          "name": "stdout",
          "text": [
            "\n",
            "Processing: /content/drive/MyDrive/learnedSpectrum/fmri_data/ds000002/ds002_R2.0.5/sub-03/func/sub-03_task-probabilisticclassification_run-01_bold.nii.gz\n",
            "Original shape: (64, 64, 25, 180)\n",
            "\n",
            "Resizing data from [ 64  64  25 180] to [ 64  64  30 208]\n",
            "Zoom factors: [1.         1.         1.2        1.15555556]\n",
            "Resized shape: (64, 64, 30, 208)\n"
          ]
        },
        {
          "output_type": "stream",
          "name": "stderr",
          "text": [
            "\r 67%|██████▋   | 2/3 [00:14<00:07,  7.08s/it]"
          ]
        },
        {
          "output_type": "stream",
          "name": "stdout",
          "text": [
            "\n",
            "Processing: /content/drive/MyDrive/learnedSpectrum/fmri_data/ds000002/ds002_R2.0.5/sub-03/func/sub-03_task-mixedeventrelatedprobe_run-02_bold.nii.gz\n",
            "Original shape: (64, 64, 25, 237)\n",
            "\n",
            "Resizing data from [ 64  64  25 237] to [ 64  64  30 208]\n",
            "Zoom factors: [1.         1.         1.2        0.87763713]\n",
            "Resized shape: (64, 64, 30, 208)\n"
          ]
        },
        {
          "output_type": "stream",
          "name": "stderr",
          "text": [
            "100%|██████████| 3/3 [00:21<00:00,  7.00s/it]\n"
          ]
        },
        {
          "output_type": "stream",
          "name": "stdout",
          "text": [
            "\n",
            "Successfully preprocessed 3 files\n",
            "\n",
            "Testing data loading...\n",
            "Sample data shape: (32, 64, 30, 208)\n",
            "Sample label value: 0.717\n",
            "\n",
            "Dataset creation successful!\n",
            "\n",
            "Sample data shape: (32, 64, 30, 208)\n",
            "Sample label value: 0.717\n"
          ]
        }
      ],
      "source": [
        "test_dataset = test_fixed_dataset()\n",
        "if test_dataset is not None:\n",
        "    print(\"\\nDataset creation successful!\")\n",
        "\n",
        "    sample_data, sample_label = test_dataset[0]\n",
        "    print(f\"\\nSample data shape: {sample_data.shape}\")\n",
        "    print(f\"Sample label value: {sample_label.item():.3f}\")\n",
        "else:\n",
        "    print(\"\\nDataset creation failed!\")"
      ]
    },
    {
      "cell_type": "markdown",
      "metadata": {
        "id": "BydEiGMu49lc"
      },
      "source": [
        "## Visualization\n",
        "Visualize a batch of fMRI data\n",
        "    \n",
        "Args:\n",
        "```\n",
        "    batch_data: 5D tensor (batch, time, x, y, z)\n",
        "    batch_labels: 1D tensor of labels\n",
        "```"
      ]
    },
    {
      "cell_type": "code",
      "execution_count": null,
      "metadata": {
        "id": "4BXepq1g5BxN"
      },
      "outputs": [],
      "source": [
        "def visualize_batch(batch_data, batch_labels):\n",
        "    print(f\"\\nBatch information:\")\n",
        "    print(f\"Batch shape: {batch_data.shape}\")\n",
        "    print(f\"Labels shape: {batch_labels.shape}\")\n",
        "\n",
        "    sample = batch_data[0]\n",
        "\n",
        "    plt.figure(figsize=(15, 5))\n",
        "\n",
        "    plt.subplot(131)\n",
        "    middle_x = sample.shape[1] // 2\n",
        "    middle_time = sample.shape[0] // 2\n",
        "    plt.imshow(sample[middle_time, middle_x, :, :].numpy(), cmap='viridis')\n",
        "    plt.title('Sagittal View')\n",
        "    plt.colorbar()\n",
        "    plt.axis('off')\n",
        "\n",
        "    plt.subplot(132)\n",
        "    middle_y = sample.shape[2] // 2\n",
        "    plt.imshow(sample[middle_time, :, middle_y, :].numpy(), cmap='viridis')\n",
        "    plt.title('Coronal View')\n",
        "    plt.colorbar()\n",
        "    plt.axis('off')\n",
        "\n",
        "    plt.subplot(133)\n",
        "    middle_z = sample.shape[3] // 2\n",
        "    plt.imshow(sample[middle_time, :, :, middle_z].numpy(), cmap='viridis')\n",
        "    plt.title('Axial View')\n",
        "    plt.colorbar()\n",
        "    plt.axis('off')\n",
        "\n",
        "    plt.tight_layout()\n",
        "    plt.show()\n",
        "\n",
        "    plt.figure(figsize=(10, 3))\n",
        "    central_x = sample.shape[1] // 2\n",
        "    central_y = sample.shape[2] // 2\n",
        "    central_z = sample.shape[3] // 2\n",
        "    temporal_profile = sample[:, central_x, central_y, central_z].numpy()\n",
        "    plt.plot(temporal_profile)\n",
        "    plt.title('Temporal Profile of Central Voxel')\n",
        "    plt.xlabel('Time Point')\n",
        "    plt.ylabel('Signal Intensity')\n",
        "    plt.grid(True)\n",
        "    plt.show()\n"
      ]
    },
    {
      "cell_type": "markdown",
      "metadata": {
        "id": "4IPITLGf1UvC"
      },
      "source": [
        "## Create DataLoader"
      ]
    },
    {
      "cell_type": "code",
      "execution_count": null,
      "metadata": {
        "id": "moOppmOr1Xts"
      },
      "outputs": [],
      "source": [
        "def create_dataloaders(dataset_paths, labels, config):\n",
        "    all_paths = []\n",
        "    for dataset_path in dataset_paths.values():\n",
        "        if dataset_path.exists():\n",
        "            dataset_dir = next(dataset_path.iterdir())\n",
        "            all_paths.extend(list(dataset_dir.glob('sub-*/func/*bold.nii.gz')))\n",
        "\n",
        "    random.shuffle(all_paths)\n",
        "    split_idx = int(len(all_paths) * 0.8)\n",
        "    train_paths = all_paths[:split_idx]\n",
        "    val_paths = all_paths[split_idx:]\n",
        "\n",
        "    print(f\"Total number of fMRI files found: {len(all_paths)}\")\n",
        "    print(f\"Training samples: {len(train_paths)}\")\n",
        "    print(f\"Validation samples: {len(val_paths)}\")\n",
        "\n",
        "    train_dataset = StandardizedFMRIDataset(\n",
        "        train_paths, labels, config, augment=True)\n",
        "    val_dataset = StandardizedFMRIDataset(\n",
        "        val_paths, labels, config, augment=False)\n",
        "\n",
        "    train_loader = DataLoader(\n",
        "        train_dataset,\n",
        "        batch_size=config.BATCH_SIZE,\n",
        "        shuffle=True,\n",
        "        num_workers=config.NUM_WORKERS,\n",
        "        pin_memory=True\n",
        "    )\n",
        "\n",
        "    val_loader = DataLoader(\n",
        "        val_dataset,\n",
        "        batch_size=config.BATCH_SIZE,\n",
        "        shuffle=False,\n",
        "        num_workers=config.NUM_WORKERS,\n",
        "        pin_memory=True\n",
        "    )\n",
        "\n",
        "    return train_loader, val_loader"
      ]
    },
    {
      "cell_type": "markdown",
      "metadata": {
        "id": "0jJfjhX61Y-4"
      },
      "source": [
        "Test dataloader creation"
      ]
    },
    {
      "cell_type": "code",
      "execution_count": null,
      "metadata": {
        "colab": {
          "base_uri": "https://localhost:8080/"
        },
        "id": "P_2hZcr71Z8V",
        "outputId": "fc4d29ea-989a-4f82-d8dc-f776bcaa9bb0"
      },
      "outputs": [
        {
          "output_type": "stream",
          "name": "stdout",
          "text": [
            "Created dummy labels for subjects: 22\n"
          ]
        }
      ],
      "source": [
        "dummy_labels = {}\n",
        "for dataset_path in dataset_paths.values():\n",
        "    if dataset_path.exists():\n",
        "        try:\n",
        "            dataset_dir = next(dataset_path.iterdir())\n",
        "            for subject in dataset_dir.glob('sub-*'):\n",
        "                subject_id = subject.name\n",
        "                dummy_labels[subject_id] = random.random()\n",
        "        except StopIteration:\n",
        "            continue\n",
        "\n",
        "print(\"Created dummy labels for subjects:\", len(dummy_labels))"
      ]
    },
    {
      "cell_type": "markdown",
      "metadata": {
        "id": "bc6w3yPd1a4p"
      },
      "source": [
        "Test loading a batch"
      ]
    },
    {
      "cell_type": "code",
      "execution_count": null,
      "metadata": {
        "colab": {
          "base_uri": "https://localhost:8080/"
        },
        "id": "0tUgQW6G1bqV",
        "outputId": "6bc68a3f-b9d3-4c65-8865-8ed805eb885d"
      },
      "outputs": [
        {
          "output_type": "stream",
          "name": "stdout",
          "text": [
            "\n",
            "Created new configuration with standardized naming\n"
          ]
        }
      ],
      "source": [
        "config = Config()\n",
        "print(\"\\nCreated new configuration with standardized naming\")"
      ]
    },
    {
      "cell_type": "code",
      "execution_count": null,
      "metadata": {
        "colab": {
          "base_uri": "https://localhost:8080/"
        },
        "id": "Vqk9TA4E5NdF",
        "outputId": "04439052-ccf9-4184-9029-58c500777fe6"
      },
      "outputs": [
        {
          "output_type": "stream",
          "name": "stdout",
          "text": [
            "\n",
            "Creating dataloaders...\n",
            "Total number of fMRI files found: 151\n",
            "Training samples: 120\n",
            "Validation samples: 31\n",
            "\n",
            "Preprocessing dataset...\n"
          ]
        },
        {
          "output_type": "stream",
          "name": "stderr",
          "text": [
            "\r  0%|          | 0/120 [00:00<?, ?it/s]"
          ]
        },
        {
          "output_type": "stream",
          "name": "stdout",
          "text": [
            "\n",
            "Processing: /content/drive/MyDrive/learnedSpectrum/fmri_data/ds000052/ds052_R2.0.0/sub-12/func/sub-12_task-reversalweatherprediction_run-2_bold.nii.gz\n",
            "Original shape: (64, 64, 21, 225)\n",
            "\n",
            "Resizing data from [ 64  64  21 225] to [ 64  64  30 208]\n",
            "Zoom factors: [1.         1.         1.42857143 0.92444444]\n",
            "Resized shape: (64, 64, 30, 208)\n"
          ]
        },
        {
          "output_type": "stream",
          "name": "stderr",
          "text": [
            "\r  1%|          | 1/120 [00:07<13:53,  7.01s/it]"
          ]
        },
        {
          "output_type": "stream",
          "name": "stdout",
          "text": [
            "\n",
            "Processing: /content/drive/MyDrive/learnedSpectrum/fmri_data/ds000052/ds052_R2.0.0/sub-06/func/sub-06_task-reversalweatherprediction_run-2_bold.nii.gz\n",
            "Original shape: (64, 64, 21, 225)\n",
            "\n",
            "Resizing data from [ 64  64  21 225] to [ 64  64  30 208]\n",
            "Zoom factors: [1.         1.         1.42857143 0.92444444]\n",
            "Resized shape: (64, 64, 30, 208)\n"
          ]
        },
        {
          "output_type": "stream",
          "name": "stderr",
          "text": [
            "\r  2%|▏         | 2/120 [00:13<13:36,  6.92s/it]"
          ]
        },
        {
          "output_type": "stream",
          "name": "stdout",
          "text": [
            "\n",
            "Processing: /content/drive/MyDrive/learnedSpectrum/fmri_data/ds000011/ds000011_R2.0.1/sub-08/func/sub-08_task-Singletaskweatherprediction_run-01_bold.nii.gz\n",
            "Original shape: (64, 64, 30, 208)\n"
          ]
        },
        {
          "output_type": "stream",
          "name": "stderr",
          "text": [
            "\r  2%|▎         | 3/120 [00:17<10:52,  5.58s/it]"
          ]
        },
        {
          "output_type": "stream",
          "name": "stdout",
          "text": [
            "\n",
            "Processing: /content/drive/MyDrive/learnedSpectrum/fmri_data/ds000011/ds000011_R2.0.1/sub-12/func/sub-12_task-tonecounting_bold.nii.gz\n",
            "Original shape: (64, 64, 30, 112)\n",
            "\n",
            "Resizing data from [ 64  64  30 112] to [ 64  64  30 208]\n",
            "Zoom factors: [1.         1.         1.         1.85714286]\n",
            "Resized shape: (64, 64, 30, 208)\n"
          ]
        },
        {
          "output_type": "stream",
          "name": "stderr",
          "text": [
            "\r  3%|▎         | 4/120 [00:24<11:42,  6.06s/it]"
          ]
        },
        {
          "output_type": "stream",
          "name": "stdout",
          "text": [
            "\n",
            "Processing: /content/drive/MyDrive/learnedSpectrum/fmri_data/ds000011/ds000011_R2.0.1/sub-09/func/sub-09_task-Singletaskweatherprediction_run-02_bold.nii.gz\n",
            "Original shape: (64, 64, 30, 208)\n"
          ]
        },
        {
          "output_type": "stream",
          "name": "stderr",
          "text": [
            "\r  4%|▍         | 5/120 [00:28<10:07,  5.28s/it]"
          ]
        },
        {
          "output_type": "stream",
          "name": "stdout",
          "text": [
            "\n",
            "Processing: /content/drive/MyDrive/learnedSpectrum/fmri_data/ds000002/ds002_R2.0.5/sub-02/func/sub-02_task-probabilisticclassification_run-02_bold.nii.gz\n",
            "Original shape: (64, 64, 25, 180)\n",
            "\n",
            "Resizing data from [ 64  64  25 180] to [ 64  64  30 208]\n",
            "Zoom factors: [1.         1.         1.2        1.15555556]\n",
            "Resized shape: (64, 64, 30, 208)\n"
          ]
        },
        {
          "output_type": "stream",
          "name": "stderr",
          "text": [
            "\r  5%|▌         | 6/120 [00:35<11:07,  5.85s/it]"
          ]
        },
        {
          "output_type": "stream",
          "name": "stdout",
          "text": [
            "\n",
            "Processing: /content/drive/MyDrive/learnedSpectrum/fmri_data/ds000052/ds052_R2.0.0/sub-07/func/sub-07_task-reversalweatherprediction_run-1_bold.nii.gz\n",
            "Original shape: (64, 64, 21, 225)\n",
            "\n",
            "Resizing data from [ 64  64  21 225] to [ 64  64  30 208]\n",
            "Zoom factors: [1.         1.         1.42857143 0.92444444]\n",
            "Resized shape: (64, 64, 30, 208)\n"
          ]
        },
        {
          "output_type": "stream",
          "name": "stderr",
          "text": [
            "\r  6%|▌         | 7/120 [00:42<11:36,  6.16s/it]"
          ]
        },
        {
          "output_type": "stream",
          "name": "stdout",
          "text": [
            "\n",
            "Processing: /content/drive/MyDrive/learnedSpectrum/fmri_data/ds000011/ds000011_R2.0.1/sub-08/func/sub-08_task-tonecounting_bold.nii.gz\n",
            "Original shape: (64, 64, 30, 112)\n",
            "\n",
            "Resizing data from [ 64  64  30 112] to [ 64  64  30 208]\n",
            "Zoom factors: [1.         1.         1.         1.85714286]\n",
            "Resized shape: (64, 64, 30, 208)\n"
          ]
        },
        {
          "output_type": "stream",
          "name": "stderr",
          "text": [
            "\r  7%|▋         | 8/120 [00:49<11:58,  6.41s/it]"
          ]
        },
        {
          "output_type": "stream",
          "name": "stdout",
          "text": [
            "\n",
            "Processing: /content/drive/MyDrive/learnedSpectrum/fmri_data/ds000011/ds000011_R2.0.1/sub-11/func/sub-11_task-Dualtaskweatherprediction_run-01_bold.nii.gz\n",
            "Original shape: (64, 64, 30, 208)\n"
          ]
        },
        {
          "output_type": "stream",
          "name": "stderr",
          "text": [
            "\r  8%|▊         | 9/120 [00:53<10:24,  5.63s/it]"
          ]
        },
        {
          "output_type": "stream",
          "name": "stdout",
          "text": [
            "\n",
            "Processing: /content/drive/MyDrive/learnedSpectrum/fmri_data/ds000052/ds052_R2.0.0/sub-12/func/sub-12_task-reversalweatherprediction_run-1_bold.nii.gz\n",
            "Original shape: (64, 64, 21, 225)\n",
            "\n",
            "Resizing data from [ 64  64  21 225] to [ 64  64  30 208]\n",
            "Zoom factors: [1.         1.         1.42857143 0.92444444]\n",
            "Resized shape: (64, 64, 30, 208)\n"
          ]
        },
        {
          "output_type": "stream",
          "name": "stderr",
          "text": [
            "\r  8%|▊         | 10/120 [01:00<11:01,  6.02s/it]"
          ]
        },
        {
          "output_type": "stream",
          "name": "stdout",
          "text": [
            "\n",
            "Processing: /content/drive/MyDrive/learnedSpectrum/fmri_data/ds000052/ds052_R2.0.0/sub-13/func/sub-13_task-reversalweatherprediction_run-2_bold.nii.gz\n",
            "Original shape: (64, 64, 21, 225)\n",
            "\n",
            "Resizing data from [ 64  64  21 225] to [ 64  64  30 208]\n",
            "Zoom factors: [1.         1.         1.42857143 0.92444444]\n",
            "Resized shape: (64, 64, 30, 208)\n"
          ]
        },
        {
          "output_type": "stream",
          "name": "stderr",
          "text": [
            "\r  9%|▉         | 11/120 [01:07<11:37,  6.40s/it]"
          ]
        },
        {
          "output_type": "stream",
          "name": "stdout",
          "text": [
            "\n",
            "Processing: /content/drive/MyDrive/learnedSpectrum/fmri_data/ds000011/ds000011_R2.0.1/sub-11/func/sub-11_task-Singletaskweatherprediction_run-01_bold.nii.gz\n",
            "Original shape: (64, 64, 30, 208)\n"
          ]
        },
        {
          "output_type": "stream",
          "name": "stderr",
          "text": [
            "\r 10%|█         | 12/120 [01:11<10:09,  5.65s/it]"
          ]
        },
        {
          "output_type": "stream",
          "name": "stdout",
          "text": [
            "\n",
            "Processing: /content/drive/MyDrive/learnedSpectrum/fmri_data/ds000011/ds000011_R2.0.1/sub-06/func/sub-06_task-Classificationprobewithoutfeedback_bold.nii.gz\n",
            "Original shape: (64, 64, 30, 240)\n",
            "\n",
            "Resizing data from [ 64  64  30 240] to [ 64  64  30 208]\n",
            "Zoom factors: [1.         1.         1.         0.86666667]\n",
            "Resized shape: (64, 64, 30, 208)\n"
          ]
        },
        {
          "output_type": "stream",
          "name": "stderr",
          "text": [
            "\r 11%|█         | 13/120 [01:18<10:58,  6.15s/it]"
          ]
        },
        {
          "output_type": "stream",
          "name": "stdout",
          "text": [
            "\n",
            "Processing: /content/drive/MyDrive/learnedSpectrum/fmri_data/ds000052/ds052_R2.0.0/sub-02/func/sub-02_task-reversalweatherprediction_run-1_bold.nii.gz\n",
            "Original shape: (64, 64, 21, 225)\n",
            "\n",
            "Resizing data from [ 64  64  21 225] to [ 64  64  30 208]\n",
            "Zoom factors: [1.         1.         1.42857143 0.92444444]\n",
            "Resized shape: (64, 64, 30, 208)\n"
          ]
        },
        {
          "output_type": "stream",
          "name": "stderr",
          "text": [
            "\r 12%|█▏        | 14/120 [01:25<11:23,  6.44s/it]"
          ]
        },
        {
          "output_type": "stream",
          "name": "stdout",
          "text": [
            "\n",
            "Processing: /content/drive/MyDrive/learnedSpectrum/fmri_data/ds000011/ds000011_R2.0.1/sub-05/func/sub-05_task-tonecounting_bold.nii.gz\n",
            "Original shape: (64, 64, 30, 112)\n",
            "\n",
            "Resizing data from [ 64  64  30 112] to [ 64  64  30 208]\n",
            "Zoom factors: [1.         1.         1.         1.85714286]\n",
            "Resized shape: (64, 64, 30, 208)\n"
          ]
        },
        {
          "output_type": "stream",
          "name": "stderr",
          "text": [
            "\r 12%|█▎        | 15/120 [01:33<11:48,  6.75s/it]"
          ]
        },
        {
          "output_type": "stream",
          "name": "stdout",
          "text": [
            "\n",
            "Processing: /content/drive/MyDrive/learnedSpectrum/fmri_data/ds000011/ds000011_R2.0.1/sub-13/func/sub-13_task-Dualtaskweatherprediction_run-01_bold.nii.gz\n",
            "Original shape: (64, 64, 30, 208)\n"
          ]
        },
        {
          "output_type": "stream",
          "name": "stderr",
          "text": [
            "\r 13%|█▎        | 16/120 [01:36<10:10,  5.87s/it]"
          ]
        },
        {
          "output_type": "stream",
          "name": "stdout",
          "text": [
            "\n",
            "Processing: /content/drive/MyDrive/learnedSpectrum/fmri_data/ds000052/ds052_R2.0.0/sub-07/func/sub-07_task-reversalweatherprediction_run-2_bold.nii.gz\n",
            "Original shape: (64, 64, 21, 225)\n",
            "\n",
            "Resizing data from [ 64  64  21 225] to [ 64  64  30 208]\n",
            "Zoom factors: [1.         1.         1.42857143 0.92444444]\n",
            "Resized shape: (64, 64, 30, 208)\n"
          ]
        },
        {
          "output_type": "stream",
          "name": "stderr",
          "text": [
            "\r 14%|█▍        | 17/120 [01:43<10:37,  6.19s/it]"
          ]
        },
        {
          "output_type": "stream",
          "name": "stdout",
          "text": [
            "\n",
            "Processing: /content/drive/MyDrive/learnedSpectrum/fmri_data/ds000052/ds052_R2.0.0/sub-14/func/sub-14_task-reversalweatherprediction_run-2_bold.nii.gz\n",
            "Original shape: (64, 64, 21, 225)\n",
            "\n",
            "Resizing data from [ 64  64  21 225] to [ 64  64  30 208]\n",
            "Zoom factors: [1.         1.         1.42857143 0.92444444]\n",
            "Resized shape: (64, 64, 30, 208)\n"
          ]
        },
        {
          "output_type": "stream",
          "name": "stderr",
          "text": [
            "\r 15%|█▌        | 18/120 [01:50<10:52,  6.40s/it]"
          ]
        },
        {
          "output_type": "stream",
          "name": "stdout",
          "text": [
            "\n",
            "Processing: /content/drive/MyDrive/learnedSpectrum/fmri_data/ds000052/ds052_R2.0.0/sub-09/func/sub-09_task-weatherprediction_run-1_bold.nii.gz\n",
            "Original shape: (64, 64, 21, 225)\n",
            "\n",
            "Resizing data from [ 64  64  21 225] to [ 64  64  30 208]\n",
            "Zoom factors: [1.         1.         1.42857143 0.92444444]\n",
            "Resized shape: (64, 64, 30, 208)\n"
          ]
        },
        {
          "output_type": "stream",
          "name": "stderr",
          "text": [
            "\r 16%|█▌        | 19/120 [01:57<11:01,  6.55s/it]"
          ]
        },
        {
          "output_type": "stream",
          "name": "stdout",
          "text": [
            "\n",
            "Processing: /content/drive/MyDrive/learnedSpectrum/fmri_data/ds000011/ds000011_R2.0.1/sub-06/func/sub-06_task-Dualtaskweatherprediction_run-02_bold.nii.gz\n",
            "Original shape: (64, 64, 30, 208)\n"
          ]
        },
        {
          "output_type": "stream",
          "name": "stderr",
          "text": [
            "\r 17%|█▋        | 20/120 [02:01<09:38,  5.78s/it]"
          ]
        },
        {
          "output_type": "stream",
          "name": "stdout",
          "text": [
            "\n",
            "Processing: /content/drive/MyDrive/learnedSpectrum/fmri_data/ds000011/ds000011_R2.0.1/sub-07/func/sub-07_task-Singletaskweatherprediction_run-01_bold.nii.gz\n",
            "Original shape: (64, 64, 30, 208)\n"
          ]
        },
        {
          "output_type": "stream",
          "name": "stderr",
          "text": [
            "\r 18%|█▊        | 21/120 [02:05<08:38,  5.24s/it]"
          ]
        },
        {
          "output_type": "stream",
          "name": "stdout",
          "text": [
            "\n",
            "Processing: /content/drive/MyDrive/learnedSpectrum/fmri_data/ds000011/ds000011_R2.0.1/sub-12/func/sub-12_task-Classificationprobewithoutfeedback_bold.nii.gz\n",
            "Original shape: (64, 64, 30, 240)\n",
            "\n",
            "Resizing data from [ 64  64  30 240] to [ 64  64  30 208]\n",
            "Zoom factors: [1.         1.         1.         0.86666667]\n",
            "Resized shape: (64, 64, 30, 208)\n"
          ]
        },
        {
          "output_type": "stream",
          "name": "stderr",
          "text": [
            "\r 18%|█▊        | 22/120 [02:12<09:31,  5.83s/it]"
          ]
        },
        {
          "output_type": "stream",
          "name": "stdout",
          "text": [
            "\n",
            "Processing: /content/drive/MyDrive/learnedSpectrum/fmri_data/ds000011/ds000011_R2.0.1/sub-11/func/sub-11_task-tonecounting_bold.nii.gz\n",
            "Original shape: (64, 64, 30, 112)\n",
            "\n",
            "Resizing data from [ 64  64  30 112] to [ 64  64  30 208]\n",
            "Zoom factors: [1.         1.         1.         1.85714286]\n",
            "Resized shape: (64, 64, 30, 208)\n"
          ]
        },
        {
          "output_type": "stream",
          "name": "stderr",
          "text": [
            "\r 19%|█▉        | 23/120 [02:19<09:52,  6.11s/it]"
          ]
        },
        {
          "output_type": "stream",
          "name": "stdout",
          "text": [
            "\n",
            "Processing: /content/drive/MyDrive/learnedSpectrum/fmri_data/ds000011/ds000011_R2.0.1/sub-12/func/sub-12_task-Dualtaskweatherprediction_run-02_bold.nii.gz\n",
            "Original shape: (64, 64, 30, 208)\n"
          ]
        },
        {
          "output_type": "stream",
          "name": "stderr",
          "text": [
            "\r 20%|██        | 24/120 [02:23<08:44,  5.46s/it]"
          ]
        },
        {
          "output_type": "stream",
          "name": "stdout",
          "text": [
            "\n",
            "Processing: /content/drive/MyDrive/learnedSpectrum/fmri_data/ds000052/ds052_R2.0.0/sub-13/func/sub-13_task-weatherprediction_run-1_bold.nii.gz\n",
            "Original shape: (64, 64, 21, 225)\n",
            "\n",
            "Resizing data from [ 64  64  21 225] to [ 64  64  30 208]\n",
            "Zoom factors: [1.         1.         1.42857143 0.92444444]\n",
            "Resized shape: (64, 64, 30, 208)\n"
          ]
        },
        {
          "output_type": "stream",
          "name": "stderr",
          "text": [
            "\r 21%|██        | 25/120 [02:30<09:22,  5.93s/it]"
          ]
        },
        {
          "output_type": "stream",
          "name": "stdout",
          "text": [
            "\n",
            "Processing: /content/drive/MyDrive/learnedSpectrum/fmri_data/ds000011/ds000011_R2.0.1/sub-05/func/sub-05_task-Singletaskweatherprediction_run-01_bold.nii.gz\n",
            "Original shape: (64, 64, 30, 208)\n"
          ]
        },
        {
          "output_type": "stream",
          "name": "stderr",
          "text": [
            "\r 22%|██▏       | 26/120 [02:34<08:17,  5.30s/it]"
          ]
        },
        {
          "output_type": "stream",
          "name": "stdout",
          "text": [
            "\n",
            "Processing: /content/drive/MyDrive/learnedSpectrum/fmri_data/ds000011/ds000011_R2.0.1/sub-12/func/sub-12_task-Singletaskweatherprediction_run-01_bold.nii.gz\n",
            "Original shape: (64, 64, 30, 208)\n"
          ]
        },
        {
          "output_type": "stream",
          "name": "stderr",
          "text": [
            "\r 22%|██▎       | 27/120 [02:38<07:31,  4.86s/it]"
          ]
        },
        {
          "output_type": "stream",
          "name": "stdout",
          "text": [
            "\n",
            "Processing: /content/drive/MyDrive/learnedSpectrum/fmri_data/ds000011/ds000011_R2.0.1/sub-03/func/sub-03_task-Singletaskweatherprediction_run-02_bold.nii.gz\n",
            "Original shape: (64, 64, 30, 208)\n"
          ]
        },
        {
          "output_type": "stream",
          "name": "stderr",
          "text": [
            "\r 23%|██▎       | 28/120 [02:42<07:03,  4.61s/it]"
          ]
        },
        {
          "output_type": "stream",
          "name": "stdout",
          "text": [
            "\n",
            "Processing: /content/drive/MyDrive/learnedSpectrum/fmri_data/ds000052/ds052_R2.0.0/sub-13/func/sub-13_task-reversalweatherprediction_run-1_bold.nii.gz\n",
            "Original shape: (64, 64, 21, 225)\n",
            "\n",
            "Resizing data from [ 64  64  21 225] to [ 64  64  30 208]\n",
            "Zoom factors: [1.         1.         1.42857143 0.92444444]\n",
            "Resized shape: (64, 64, 30, 208)\n"
          ]
        },
        {
          "output_type": "stream",
          "name": "stderr",
          "text": [
            "\r 24%|██▍       | 29/120 [02:49<08:06,  5.35s/it]"
          ]
        },
        {
          "output_type": "stream",
          "name": "stdout",
          "text": [
            "\n",
            "Processing: /content/drive/MyDrive/learnedSpectrum/fmri_data/ds000002/ds002_R2.0.5/sub-08/func/sub-08_task-probabilisticclassification_run-02_bold.nii.gz\n",
            "Original shape: (64, 64, 30, 180)\n",
            "\n",
            "Resizing data from [ 64  64  30 180] to [ 64  64  30 208]\n",
            "Zoom factors: [1.         1.         1.         1.15555556]\n",
            "Resized shape: (64, 64, 30, 208)\n"
          ]
        },
        {
          "output_type": "stream",
          "name": "stderr",
          "text": [
            "\r 25%|██▌       | 30/120 [02:56<08:45,  5.84s/it]"
          ]
        },
        {
          "output_type": "stream",
          "name": "stdout",
          "text": [
            "\n",
            "Processing: /content/drive/MyDrive/learnedSpectrum/fmri_data/ds000052/ds052_R2.0.0/sub-07/func/sub-07_task-weatherprediction_run-1_bold.nii.gz\n",
            "Original shape: (64, 64, 21, 225)\n",
            "\n",
            "Resizing data from [ 64  64  21 225] to [ 64  64  30 208]\n",
            "Zoom factors: [1.         1.         1.42857143 0.92444444]\n",
            "Resized shape: (64, 64, 30, 208)\n"
          ]
        },
        {
          "output_type": "stream",
          "name": "stderr",
          "text": [
            "\r 26%|██▌       | 31/120 [03:03<09:09,  6.17s/it]"
          ]
        },
        {
          "output_type": "stream",
          "name": "stdout",
          "text": [
            "\n",
            "Processing: /content/drive/MyDrive/learnedSpectrum/fmri_data/ds000011/ds000011_R2.0.1/sub-14/func/sub-14_task-Dualtaskweatherprediction_run-01_bold.nii.gz\n",
            "Original shape: (64, 64, 30, 208)\n"
          ]
        },
        {
          "output_type": "stream",
          "name": "stderr",
          "text": [
            "\r 27%|██▋       | 32/120 [03:07<08:03,  5.50s/it]"
          ]
        },
        {
          "output_type": "stream",
          "name": "stdout",
          "text": [
            "\n",
            "Processing: /content/drive/MyDrive/learnedSpectrum/fmri_data/ds000052/ds052_R2.0.0/sub-10/func/sub-10_task-reversalweatherprediction_run-1_bold.nii.gz\n",
            "Original shape: (64, 64, 21, 225)\n",
            "\n",
            "Resizing data from [ 64  64  21 225] to [ 64  64  30 208]\n",
            "Zoom factors: [1.         1.         1.42857143 0.92444444]\n",
            "Resized shape: (64, 64, 30, 208)\n"
          ]
        },
        {
          "output_type": "stream",
          "name": "stderr",
          "text": [
            "\r 28%|██▊       | 33/120 [03:14<08:33,  5.90s/it]"
          ]
        },
        {
          "output_type": "stream",
          "name": "stdout",
          "text": [
            "\n",
            "Processing: /content/drive/MyDrive/learnedSpectrum/fmri_data/ds000052/ds052_R2.0.0/sub-04/func/sub-04_task-reversalweatherprediction_run-2_bold.nii.gz\n",
            "Original shape: (64, 64, 21, 225)\n",
            "\n",
            "Resizing data from [ 64  64  21 225] to [ 64  64  30 208]\n",
            "Zoom factors: [1.         1.         1.42857143 0.92444444]\n",
            "Resized shape: (64, 64, 30, 208)\n"
          ]
        },
        {
          "output_type": "stream",
          "name": "stderr",
          "text": [
            "\r 28%|██▊       | 34/120 [03:20<08:50,  6.17s/it]"
          ]
        },
        {
          "output_type": "stream",
          "name": "stdout",
          "text": [
            "\n",
            "Processing: /content/drive/MyDrive/learnedSpectrum/fmri_data/ds000011/ds000011_R2.0.1/sub-14/func/sub-14_task-Singletaskweatherprediction_run-02_bold.nii.gz\n",
            "Original shape: (64, 64, 30, 208)\n"
          ]
        },
        {
          "output_type": "stream",
          "name": "stderr",
          "text": [
            "\r 29%|██▉       | 35/120 [03:25<07:57,  5.62s/it]"
          ]
        },
        {
          "output_type": "stream",
          "name": "stdout",
          "text": [
            "\n",
            "Processing: /content/drive/MyDrive/learnedSpectrum/fmri_data/ds000011/ds000011_R2.0.1/sub-08/func/sub-08_task-Singletaskweatherprediction_run-02_bold.nii.gz\n",
            "Original shape: (64, 64, 30, 208)\n"
          ]
        },
        {
          "output_type": "stream",
          "name": "stderr",
          "text": [
            "\r 30%|███       | 36/120 [03:29<07:09,  5.11s/it]"
          ]
        },
        {
          "output_type": "stream",
          "name": "stdout",
          "text": [
            "\n",
            "Processing: /content/drive/MyDrive/learnedSpectrum/fmri_data/ds000011/ds000011_R2.0.1/sub-09/func/sub-09_task-Dualtaskweatherprediction_run-02_bold.nii.gz\n",
            "Original shape: (64, 64, 30, 208)\n"
          ]
        },
        {
          "output_type": "stream",
          "name": "stderr",
          "text": [
            "\r 31%|███       | 37/120 [03:32<06:34,  4.75s/it]"
          ]
        },
        {
          "output_type": "stream",
          "name": "stdout",
          "text": [
            "\n",
            "Processing: /content/drive/MyDrive/learnedSpectrum/fmri_data/ds000052/ds052_R2.0.0/sub-10/func/sub-10_task-reversalweatherprediction_run-2_bold.nii.gz\n",
            "Original shape: (64, 64, 21, 225)\n",
            "\n",
            "Resizing data from [ 64  64  21 225] to [ 64  64  30 208]\n",
            "Zoom factors: [1.         1.         1.42857143 0.92444444]\n",
            "Resized shape: (64, 64, 30, 208)\n"
          ]
        },
        {
          "output_type": "stream",
          "name": "stderr",
          "text": [
            "\r 32%|███▏      | 38/120 [03:39<07:24,  5.42s/it]"
          ]
        },
        {
          "output_type": "stream",
          "name": "stdout",
          "text": [
            "\n",
            "Processing: /content/drive/MyDrive/learnedSpectrum/fmri_data/ds000011/ds000011_R2.0.1/sub-02/func/sub-02_task-Dualtaskweatherprediction_run-01_bold.nii.gz\n",
            "Original shape: (64, 64, 30, 208)\n"
          ]
        },
        {
          "output_type": "stream",
          "name": "stderr",
          "text": [
            "\r 32%|███▎      | 39/120 [03:44<06:45,  5.01s/it]"
          ]
        },
        {
          "output_type": "stream",
          "name": "stdout",
          "text": [
            "\n",
            "Processing: /content/drive/MyDrive/learnedSpectrum/fmri_data/ds000052/ds052_R2.0.0/sub-08/func/sub-08_task-reversalweatherprediction_run-2_bold.nii.gz\n",
            "Original shape: (64, 64, 21, 225)\n",
            "\n",
            "Resizing data from [ 64  64  21 225] to [ 64  64  30 208]\n",
            "Zoom factors: [1.         1.         1.42857143 0.92444444]\n",
            "Resized shape: (64, 64, 30, 208)\n"
          ]
        },
        {
          "output_type": "stream",
          "name": "stderr",
          "text": [
            "\r 33%|███▎      | 40/120 [03:50<07:27,  5.59s/it]"
          ]
        },
        {
          "output_type": "stream",
          "name": "stdout",
          "text": [
            "\n",
            "Processing: /content/drive/MyDrive/learnedSpectrum/fmri_data/ds000011/ds000011_R2.0.1/sub-13/func/sub-13_task-Dualtaskweatherprediction_run-02_bold.nii.gz\n",
            "Original shape: (64, 64, 30, 208)\n"
          ]
        },
        {
          "output_type": "stream",
          "name": "stderr",
          "text": [
            "\r 34%|███▍      | 41/120 [03:55<06:46,  5.14s/it]"
          ]
        },
        {
          "output_type": "stream",
          "name": "stdout",
          "text": [
            "\n",
            "Processing: /content/drive/MyDrive/learnedSpectrum/fmri_data/ds000052/ds052_R2.0.0/sub-04/func/sub-04_task-reversalweatherprediction_run-1_bold.nii.gz\n",
            "Original shape: (64, 64, 21, 225)\n",
            "\n",
            "Resizing data from [ 64  64  21 225] to [ 64  64  30 208]\n",
            "Zoom factors: [1.         1.         1.42857143 0.92444444]\n",
            "Resized shape: (64, 64, 30, 208)\n"
          ]
        },
        {
          "output_type": "stream",
          "name": "stderr",
          "text": [
            "\r 35%|███▌      | 42/120 [04:02<07:24,  5.69s/it]"
          ]
        },
        {
          "output_type": "stream",
          "name": "stdout",
          "text": [
            "\n",
            "Processing: /content/drive/MyDrive/learnedSpectrum/fmri_data/ds000002/ds002_R2.0.5/sub-03/func/sub-03_task-deterministicclassification_run-01_bold.nii.gz\n",
            "Original shape: (64, 64, 25, 180)\n",
            "\n",
            "Resizing data from [ 64  64  25 180] to [ 64  64  30 208]\n",
            "Zoom factors: [1.         1.         1.2        1.15555556]\n",
            "Resized shape: (64, 64, 30, 208)\n"
          ]
        },
        {
          "output_type": "stream",
          "name": "stderr",
          "text": [
            "\r 36%|███▌      | 43/120 [04:09<07:50,  6.10s/it]"
          ]
        },
        {
          "output_type": "stream",
          "name": "stdout",
          "text": [
            "\n",
            "Processing: /content/drive/MyDrive/learnedSpectrum/fmri_data/ds000052/ds052_R2.0.0/sub-12/func/sub-12_task-weatherprediction_run-1_bold.nii.gz\n",
            "Original shape: (64, 64, 21, 225)\n",
            "\n",
            "Resizing data from [ 64  64  21 225] to [ 64  64  30 208]\n",
            "Zoom factors: [1.         1.         1.42857143 0.92444444]\n",
            "Resized shape: (64, 64, 30, 208)\n"
          ]
        },
        {
          "output_type": "stream",
          "name": "stderr",
          "text": [
            "\r 37%|███▋      | 44/120 [04:16<08:10,  6.46s/it]"
          ]
        },
        {
          "output_type": "stream",
          "name": "stdout",
          "text": [
            "\n",
            "Processing: /content/drive/MyDrive/learnedSpectrum/fmri_data/ds000052/ds052_R2.0.0/sub-14/func/sub-14_task-weatherprediction_run-2_bold.nii.gz\n",
            "Original shape: (64, 64, 21, 225)\n",
            "\n",
            "Resizing data from [ 64  64  21 225] to [ 64  64  30 208]\n",
            "Zoom factors: [1.         1.         1.42857143 0.92444444]\n",
            "Resized shape: (64, 64, 30, 208)\n"
          ]
        },
        {
          "output_type": "stream",
          "name": "stderr",
          "text": [
            "\r 38%|███▊      | 45/120 [04:23<08:20,  6.67s/it]"
          ]
        },
        {
          "output_type": "stream",
          "name": "stdout",
          "text": [
            "\n",
            "Processing: /content/drive/MyDrive/learnedSpectrum/fmri_data/ds000011/ds000011_R2.0.1/sub-03/func/sub-03_task-tonecounting_bold.nii.gz\n",
            "Original shape: (64, 64, 30, 113)\n",
            "\n",
            "Resizing data from [ 64  64  30 113] to [ 64  64  30 208]\n",
            "Zoom factors: [1.         1.         1.         1.84070796]\n",
            "Resized shape: (64, 64, 30, 208)\n"
          ]
        },
        {
          "output_type": "stream",
          "name": "stderr",
          "text": [
            "\r 38%|███▊      | 46/120 [04:30<08:12,  6.65s/it]"
          ]
        },
        {
          "output_type": "stream",
          "name": "stdout",
          "text": [
            "\n",
            "Processing: /content/drive/MyDrive/learnedSpectrum/fmri_data/ds000011/ds000011_R2.0.1/sub-08/func/sub-08_task-Dualtaskweatherprediction_run-01_bold.nii.gz\n",
            "Original shape: (64, 64, 30, 208)\n"
          ]
        },
        {
          "output_type": "stream",
          "name": "stderr",
          "text": [
            "\r 39%|███▉      | 47/120 [04:34<07:04,  5.82s/it]"
          ]
        },
        {
          "output_type": "stream",
          "name": "stdout",
          "text": [
            "\n",
            "Processing: /content/drive/MyDrive/learnedSpectrum/fmri_data/ds000011/ds000011_R2.0.1/sub-04/func/sub-04_task-Singletaskweatherprediction_run-01_bold.nii.gz\n",
            "Original shape: (64, 64, 30, 208)\n"
          ]
        },
        {
          "output_type": "stream",
          "name": "stderr",
          "text": [
            "\r 40%|████      | 48/120 [04:38<06:20,  5.29s/it]"
          ]
        },
        {
          "output_type": "stream",
          "name": "stdout",
          "text": [
            "\n",
            "Processing: /content/drive/MyDrive/learnedSpectrum/fmri_data/ds000011/ds000011_R2.0.1/sub-01/func/sub-01_task-Classificationprobewithoutfeedback_bold.nii.gz\n",
            "Original shape: (64, 64, 30, 240)\n",
            "\n",
            "Resizing data from [ 64  64  30 240] to [ 64  64  30 208]\n",
            "Zoom factors: [1.         1.         1.         0.86666667]\n",
            "Resized shape: (64, 64, 30, 208)\n"
          ]
        },
        {
          "output_type": "stream",
          "name": "stderr",
          "text": [
            "\r 41%|████      | 49/120 [04:45<06:59,  5.92s/it]"
          ]
        },
        {
          "output_type": "stream",
          "name": "stdout",
          "text": [
            "\n",
            "Processing: /content/drive/MyDrive/learnedSpectrum/fmri_data/ds000011/ds000011_R2.0.1/sub-02/func/sub-02_task-Dualtaskweatherprediction_run-02_bold.nii.gz\n",
            "Original shape: (64, 64, 30, 208)\n"
          ]
        },
        {
          "output_type": "stream",
          "name": "stderr",
          "text": [
            "\r 42%|████▏     | 50/120 [04:49<06:13,  5.34s/it]"
          ]
        },
        {
          "output_type": "stream",
          "name": "stdout",
          "text": [
            "\n",
            "Processing: /content/drive/MyDrive/learnedSpectrum/fmri_data/ds000011/ds000011_R2.0.1/sub-02/func/sub-02_task-Singletaskweatherprediction_run-02_bold.nii.gz\n",
            "Original shape: (64, 64, 30, 208)\n"
          ]
        },
        {
          "output_type": "stream",
          "name": "stderr",
          "text": [
            "\r 42%|████▎     | 51/120 [04:53<05:40,  4.93s/it]"
          ]
        },
        {
          "output_type": "stream",
          "name": "stdout",
          "text": [
            "\n",
            "Processing: /content/drive/MyDrive/learnedSpectrum/fmri_data/ds000052/ds052_R2.0.0/sub-07/func/sub-07_task-weatherprediction_run-2_bold.nii.gz\n",
            "Original shape: (64, 64, 21, 225)\n",
            "\n",
            "Resizing data from [ 64  64  21 225] to [ 64  64  30 208]\n",
            "Zoom factors: [1.         1.         1.42857143 0.92444444]\n",
            "Resized shape: (64, 64, 30, 208)\n"
          ]
        },
        {
          "output_type": "stream",
          "name": "stderr",
          "text": [
            "\r 43%|████▎     | 52/120 [05:00<06:19,  5.58s/it]"
          ]
        },
        {
          "output_type": "stream",
          "name": "stdout",
          "text": [
            "\n",
            "Processing: /content/drive/MyDrive/learnedSpectrum/fmri_data/ds000052/ds052_R2.0.0/sub-06/func/sub-06_task-weatherprediction_run-2_bold.nii.gz\n",
            "Original shape: (64, 64, 21, 225)\n",
            "\n",
            "Resizing data from [ 64  64  21 225] to [ 64  64  30 208]\n",
            "Zoom factors: [1.         1.         1.42857143 0.92444444]\n",
            "Resized shape: (64, 64, 30, 208)\n"
          ]
        },
        {
          "output_type": "stream",
          "name": "stderr",
          "text": [
            "\r 44%|████▍     | 53/120 [05:07<06:41,  5.99s/it]"
          ]
        },
        {
          "output_type": "stream",
          "name": "stdout",
          "text": [
            "\n",
            "Processing: /content/drive/MyDrive/learnedSpectrum/fmri_data/ds000011/ds000011_R2.0.1/sub-06/func/sub-06_task-Singletaskweatherprediction_run-01_bold.nii.gz\n",
            "Original shape: (64, 64, 30, 208)\n"
          ]
        },
        {
          "output_type": "stream",
          "name": "stderr",
          "text": [
            "\r 45%|████▌     | 54/120 [05:11<05:52,  5.34s/it]"
          ]
        },
        {
          "output_type": "stream",
          "name": "stdout",
          "text": [
            "\n",
            "Processing: /content/drive/MyDrive/learnedSpectrum/fmri_data/ds000011/ds000011_R2.0.1/sub-09/func/sub-09_task-tonecounting_bold.nii.gz\n",
            "Original shape: (64, 64, 30, 112)\n",
            "\n",
            "Resizing data from [ 64  64  30 112] to [ 64  64  30 208]\n",
            "Zoom factors: [1.         1.         1.         1.85714286]\n",
            "Resized shape: (64, 64, 30, 208)\n"
          ]
        },
        {
          "output_type": "stream",
          "name": "stderr",
          "text": [
            "\r 46%|████▌     | 55/120 [05:17<06:09,  5.69s/it]"
          ]
        },
        {
          "output_type": "stream",
          "name": "stdout",
          "text": [
            "\n",
            "Processing: /content/drive/MyDrive/learnedSpectrum/fmri_data/ds000011/ds000011_R2.0.1/sub-07/func/sub-07_task-Dualtaskweatherprediction_run-02_bold.nii.gz\n",
            "Original shape: (64, 64, 30, 208)\n"
          ]
        },
        {
          "output_type": "stream",
          "name": "stderr",
          "text": [
            "\r 47%|████▋     | 56/120 [05:21<05:32,  5.20s/it]"
          ]
        },
        {
          "output_type": "stream",
          "name": "stdout",
          "text": [
            "\n",
            "Processing: /content/drive/MyDrive/learnedSpectrum/fmri_data/ds000011/ds000011_R2.0.1/sub-14/func/sub-14_task-Singletaskweatherprediction_run-01_bold.nii.gz\n",
            "Original shape: (64, 64, 30, 208)\n"
          ]
        },
        {
          "output_type": "stream",
          "name": "stderr",
          "text": [
            "\r 48%|████▊     | 57/120 [05:26<05:09,  4.91s/it]"
          ]
        },
        {
          "output_type": "stream",
          "name": "stdout",
          "text": [
            "\n",
            "Processing: /content/drive/MyDrive/learnedSpectrum/fmri_data/ds000011/ds000011_R2.0.1/sub-10/func/sub-10_task-Dualtaskweatherprediction_run-01_bold.nii.gz\n",
            "Original shape: (64, 64, 30, 208)\n"
          ]
        },
        {
          "output_type": "stream",
          "name": "stderr",
          "text": [
            "\r 48%|████▊     | 58/120 [05:30<04:47,  4.64s/it]"
          ]
        },
        {
          "output_type": "stream",
          "name": "stdout",
          "text": [
            "\n",
            "Processing: /content/drive/MyDrive/learnedSpectrum/fmri_data/ds000011/ds000011_R2.0.1/sub-14/func/sub-14_task-Classificationprobewithoutfeedback_bold.nii.gz\n",
            "Original shape: (64, 64, 30, 240)\n",
            "\n",
            "Resizing data from [ 64  64  30 240] to [ 64  64  30 208]\n",
            "Zoom factors: [1.         1.         1.         0.86666667]\n",
            "Resized shape: (64, 64, 30, 208)\n"
          ]
        },
        {
          "output_type": "stream",
          "name": "stderr",
          "text": [
            "\r 49%|████▉     | 59/120 [05:37<05:33,  5.47s/it]"
          ]
        },
        {
          "output_type": "stream",
          "name": "stdout",
          "text": [
            "\n",
            "Processing: /content/drive/MyDrive/learnedSpectrum/fmri_data/ds000011/ds000011_R2.0.1/sub-13/func/sub-13_task-Classificationprobewithoutfeedback_bold.nii.gz\n",
            "Original shape: (64, 64, 30, 240)\n",
            "\n",
            "Resizing data from [ 64  64  30 240] to [ 64  64  30 208]\n",
            "Zoom factors: [1.         1.         1.         0.86666667]\n",
            "Resized shape: (64, 64, 30, 208)\n"
          ]
        },
        {
          "output_type": "stream",
          "name": "stderr",
          "text": [
            "\r 50%|█████     | 60/120 [05:44<06:00,  6.01s/it]"
          ]
        },
        {
          "output_type": "stream",
          "name": "stdout",
          "text": [
            "\n",
            "Processing: /content/drive/MyDrive/learnedSpectrum/fmri_data/ds000011/ds000011_R2.0.1/sub-07/func/sub-07_task-tonecounting_bold.nii.gz\n",
            "Original shape: (64, 64, 30, 112)\n",
            "\n",
            "Resizing data from [ 64  64  30 112] to [ 64  64  30 208]\n",
            "Zoom factors: [1.         1.         1.         1.85714286]\n",
            "Resized shape: (64, 64, 30, 208)\n"
          ]
        },
        {
          "output_type": "stream",
          "name": "stderr",
          "text": [
            "\r 51%|█████     | 61/120 [05:51<06:04,  6.18s/it]"
          ]
        },
        {
          "output_type": "stream",
          "name": "stdout",
          "text": [
            "\n",
            "Processing: /content/drive/MyDrive/learnedSpectrum/fmri_data/ds000052/ds052_R2.0.0/sub-09/func/sub-09_task-weatherprediction_run-2_bold.nii.gz\n",
            "Original shape: (64, 64, 21, 225)\n",
            "\n",
            "Resizing data from [ 64  64  21 225] to [ 64  64  30 208]\n",
            "Zoom factors: [1.         1.         1.42857143 0.92444444]\n",
            "Resized shape: (64, 64, 30, 208)\n"
          ]
        },
        {
          "output_type": "stream",
          "name": "stderr",
          "text": [
            "\r 52%|█████▏    | 62/120 [05:58<06:12,  6.42s/it]"
          ]
        },
        {
          "output_type": "stream",
          "name": "stdout",
          "text": [
            "\n",
            "Processing: /content/drive/MyDrive/learnedSpectrum/fmri_data/ds000011/ds000011_R2.0.1/sub-04/func/sub-04_task-Singletaskweatherprediction_run-02_bold.nii.gz\n",
            "Original shape: (64, 64, 30, 208)\n"
          ]
        },
        {
          "output_type": "stream",
          "name": "stderr",
          "text": [
            "\r 52%|█████▎    | 63/120 [06:02<05:23,  5.67s/it]"
          ]
        },
        {
          "output_type": "stream",
          "name": "stdout",
          "text": [
            "\n",
            "Processing: /content/drive/MyDrive/learnedSpectrum/fmri_data/ds000052/ds052_R2.0.0/sub-08/func/sub-08_task-weatherprediction_run-2_bold.nii.gz\n",
            "Original shape: (64, 64, 21, 225)\n",
            "\n",
            "Resizing data from [ 64  64  21 225] to [ 64  64  30 208]\n",
            "Zoom factors: [1.         1.         1.42857143 0.92444444]\n",
            "Resized shape: (64, 64, 30, 208)\n"
          ]
        },
        {
          "output_type": "stream",
          "name": "stderr",
          "text": [
            "\r 53%|█████▎    | 64/120 [06:09<05:43,  6.14s/it]"
          ]
        },
        {
          "output_type": "stream",
          "name": "stdout",
          "text": [
            "\n",
            "Processing: /content/drive/MyDrive/learnedSpectrum/fmri_data/ds000002/ds002_R2.0.5/sub-03/func/sub-03_task-mixedeventrelatedprobe_run-01_bold.nii.gz\n",
            "Original shape: (64, 64, 25, 237)\n",
            "\n",
            "Resizing data from [ 64  64  25 237] to [ 64  64  30 208]\n",
            "Zoom factors: [1.         1.         1.2        0.87763713]\n",
            "Resized shape: (64, 64, 30, 208)\n"
          ]
        },
        {
          "output_type": "stream",
          "name": "stderr",
          "text": [
            "\r 54%|█████▍    | 65/120 [06:16<05:44,  6.26s/it]"
          ]
        },
        {
          "output_type": "stream",
          "name": "stdout",
          "text": [
            "\n",
            "Processing: /content/drive/MyDrive/learnedSpectrum/fmri_data/ds000011/ds000011_R2.0.1/sub-02/func/sub-02_task-Singletaskweatherprediction_run-01_bold.nii.gz\n",
            "Original shape: (64, 64, 30, 208)\n"
          ]
        },
        {
          "output_type": "stream",
          "name": "stderr",
          "text": [
            "\r 55%|█████▌    | 66/120 [06:19<04:59,  5.55s/it]"
          ]
        },
        {
          "output_type": "stream",
          "name": "stdout",
          "text": [
            "\n",
            "Processing: /content/drive/MyDrive/learnedSpectrum/fmri_data/ds000002/ds002_R2.0.5/sub-08/func/sub-08_task-deterministicclassification_run-02_bold.nii.gz\n",
            "Original shape: (64, 64, 30, 180)\n",
            "\n",
            "Resizing data from [ 64  64  30 180] to [ 64  64  30 208]\n",
            "Zoom factors: [1.         1.         1.         1.15555556]\n",
            "Resized shape: (64, 64, 30, 208)\n"
          ]
        },
        {
          "output_type": "stream",
          "name": "stderr",
          "text": [
            "\r 56%|█████▌    | 67/120 [06:27<05:22,  6.08s/it]"
          ]
        },
        {
          "output_type": "stream",
          "name": "stdout",
          "text": [
            "\n",
            "Processing: /content/drive/MyDrive/learnedSpectrum/fmri_data/ds000011/ds000011_R2.0.1/sub-11/func/sub-11_task-Singletaskweatherprediction_run-02_bold.nii.gz\n",
            "Original shape: (64, 64, 30, 208)\n"
          ]
        },
        {
          "output_type": "stream",
          "name": "stderr",
          "text": [
            "\r 57%|█████▋    | 68/120 [06:31<04:41,  5.42s/it]"
          ]
        },
        {
          "output_type": "stream",
          "name": "stdout",
          "text": [
            "\n",
            "Processing: /content/drive/MyDrive/learnedSpectrum/fmri_data/ds000011/ds000011_R2.0.1/sub-04/func/sub-04_task-tonecounting_bold.nii.gz\n",
            "Original shape: (64, 64, 30, 112)\n",
            "\n",
            "Resizing data from [ 64  64  30 112] to [ 64  64  30 208]\n",
            "Zoom factors: [1.         1.         1.         1.85714286]\n",
            "Resized shape: (64, 64, 30, 208)\n"
          ]
        },
        {
          "output_type": "stream",
          "name": "stderr",
          "text": [
            "\r 57%|█████▊    | 69/120 [06:37<04:57,  5.84s/it]"
          ]
        },
        {
          "output_type": "stream",
          "name": "stdout",
          "text": [
            "\n",
            "Processing: /content/drive/MyDrive/learnedSpectrum/fmri_data/ds000002/ds002_R2.0.5/sub-02/func/sub-02_task-probabilisticclassification_run-01_bold.nii.gz\n",
            "Original shape: (64, 64, 25, 180)\n",
            "\n",
            "Resizing data from [ 64  64  25 180] to [ 64  64  30 208]\n",
            "Zoom factors: [1.         1.         1.2        1.15555556]\n",
            "Resized shape: (64, 64, 30, 208)\n"
          ]
        },
        {
          "output_type": "stream",
          "name": "stderr",
          "text": [
            "\r 58%|█████▊    | 70/120 [06:44<05:07,  6.15s/it]"
          ]
        },
        {
          "output_type": "stream",
          "name": "stdout",
          "text": [
            "\n",
            "Processing: /content/drive/MyDrive/learnedSpectrum/fmri_data/ds000052/ds052_R2.0.0/sub-06/func/sub-06_task-weatherprediction_run-1_bold.nii.gz\n",
            "Original shape: (64, 64, 21, 225)\n",
            "\n",
            "Resizing data from [ 64  64  21 225] to [ 64  64  30 208]\n",
            "Zoom factors: [1.         1.         1.42857143 0.92444444]\n",
            "Resized shape: (64, 64, 30, 208)\n"
          ]
        },
        {
          "output_type": "stream",
          "name": "stderr",
          "text": [
            "\r 59%|█████▉    | 71/120 [06:51<05:11,  6.35s/it]"
          ]
        },
        {
          "output_type": "stream",
          "name": "stdout",
          "text": [
            "\n",
            "Processing: /content/drive/MyDrive/learnedSpectrum/fmri_data/ds000052/ds052_R2.0.0/sub-02/func/sub-02_task-weatherprediction_run-1_bold.nii.gz\n",
            "Original shape: (64, 64, 21, 225)\n",
            "\n",
            "Resizing data from [ 64  64  21 225] to [ 64  64  30 208]\n",
            "Zoom factors: [1.         1.         1.42857143 0.92444444]\n",
            "Resized shape: (64, 64, 30, 208)\n"
          ]
        },
        {
          "output_type": "stream",
          "name": "stderr",
          "text": [
            "\r 60%|██████    | 72/120 [06:58<05:15,  6.57s/it]"
          ]
        },
        {
          "output_type": "stream",
          "name": "stdout",
          "text": [
            "\n",
            "Processing: /content/drive/MyDrive/learnedSpectrum/fmri_data/ds000011/ds000011_R2.0.1/sub-10/func/sub-10_task-tonecounting_bold.nii.gz\n",
            "Original shape: (64, 64, 30, 112)\n",
            "\n",
            "Resizing data from [ 64  64  30 112] to [ 64  64  30 208]\n",
            "Zoom factors: [1.         1.         1.         1.85714286]\n",
            "Resized shape: (64, 64, 30, 208)\n"
          ]
        },
        {
          "output_type": "stream",
          "name": "stderr",
          "text": [
            "\r 61%|██████    | 73/120 [07:05<05:11,  6.62s/it]"
          ]
        },
        {
          "output_type": "stream",
          "name": "stdout",
          "text": [
            "\n",
            "Processing: /content/drive/MyDrive/learnedSpectrum/fmri_data/ds000052/ds052_R2.0.0/sub-08/func/sub-08_task-reversalweatherprediction_run-1_bold.nii.gz\n",
            "Original shape: (64, 64, 21, 225)\n",
            "\n",
            "Resizing data from [ 64  64  21 225] to [ 64  64  30 208]\n",
            "Zoom factors: [1.         1.         1.42857143 0.92444444]\n",
            "Resized shape: (64, 64, 30, 208)\n"
          ]
        },
        {
          "output_type": "stream",
          "name": "stderr",
          "text": [
            "\r 62%|██████▏   | 74/120 [07:12<05:08,  6.71s/it]"
          ]
        },
        {
          "output_type": "stream",
          "name": "stdout",
          "text": [
            "\n",
            "Processing: /content/drive/MyDrive/learnedSpectrum/fmri_data/ds000011/ds000011_R2.0.1/sub-14/func/sub-14_task-Dualtaskweatherprediction_run-02_bold.nii.gz\n",
            "Original shape: (64, 64, 30, 208)\n"
          ]
        },
        {
          "output_type": "stream",
          "name": "stderr",
          "text": [
            "\r 62%|██████▎   | 75/120 [07:16<04:26,  5.92s/it]"
          ]
        },
        {
          "output_type": "stream",
          "name": "stdout",
          "text": [
            "\n",
            "Processing: /content/drive/MyDrive/learnedSpectrum/fmri_data/ds000052/ds052_R2.0.0/sub-06/func/sub-06_task-reversalweatherprediction_run-1_bold.nii.gz\n",
            "Original shape: (64, 64, 21, 225)\n",
            "\n",
            "Resizing data from [ 64  64  21 225] to [ 64  64  30 208]\n",
            "Zoom factors: [1.         1.         1.42857143 0.92444444]\n",
            "Resized shape: (64, 64, 30, 208)\n"
          ]
        },
        {
          "output_type": "stream",
          "name": "stderr",
          "text": [
            "\r 63%|██████▎   | 76/120 [07:23<04:32,  6.20s/it]"
          ]
        },
        {
          "output_type": "stream",
          "name": "stdout",
          "text": [
            "\n",
            "Processing: /content/drive/MyDrive/learnedSpectrum/fmri_data/ds000011/ds000011_R2.0.1/sub-14/func/sub-14_task-tonecounting_bold.nii.gz\n",
            "Original shape: (64, 64, 30, 112)\n",
            "\n",
            "Resizing data from [ 64  64  30 112] to [ 64  64  30 208]\n",
            "Zoom factors: [1.         1.         1.         1.85714286]\n",
            "Resized shape: (64, 64, 30, 208)\n"
          ]
        },
        {
          "output_type": "stream",
          "name": "stderr",
          "text": [
            "\r 64%|██████▍   | 77/120 [07:29<04:31,  6.30s/it]"
          ]
        },
        {
          "output_type": "stream",
          "name": "stdout",
          "text": [
            "\n",
            "Processing: /content/drive/MyDrive/learnedSpectrum/fmri_data/ds000011/ds000011_R2.0.1/sub-07/func/sub-07_task-Classificationprobewithoutfeedback_bold.nii.gz\n",
            "Original shape: (64, 64, 30, 240)\n",
            "\n",
            "Resizing data from [ 64  64  30 240] to [ 64  64  30 208]\n",
            "Zoom factors: [1.         1.         1.         0.86666667]\n",
            "Resized shape: (64, 64, 30, 208)\n"
          ]
        },
        {
          "output_type": "stream",
          "name": "stderr",
          "text": [
            "\r 65%|██████▌   | 78/120 [07:37<04:36,  6.59s/it]"
          ]
        },
        {
          "output_type": "stream",
          "name": "stdout",
          "text": [
            "\n",
            "Processing: /content/drive/MyDrive/learnedSpectrum/fmri_data/ds000052/ds052_R2.0.0/sub-03/func/sub-03_task-weatherprediction_run-2_bold.nii.gz\n",
            "Original shape: (64, 64, 21, 225)\n",
            "\n",
            "Resizing data from [ 64  64  21 225] to [ 64  64  30 208]\n",
            "Zoom factors: [1.         1.         1.42857143 0.92444444]\n",
            "Resized shape: (64, 64, 30, 208)\n"
          ]
        },
        {
          "output_type": "stream",
          "name": "stderr",
          "text": [
            "\r 66%|██████▌   | 79/120 [07:44<04:35,  6.71s/it]"
          ]
        },
        {
          "output_type": "stream",
          "name": "stdout",
          "text": [
            "\n",
            "Processing: /content/drive/MyDrive/learnedSpectrum/fmri_data/ds000011/ds000011_R2.0.1/sub-10/func/sub-10_task-Dualtaskweatherprediction_run-02_bold.nii.gz\n",
            "Original shape: (64, 64, 30, 208)\n"
          ]
        },
        {
          "output_type": "stream",
          "name": "stderr",
          "text": [
            "\r 67%|██████▋   | 80/120 [07:48<03:57,  5.93s/it]"
          ]
        },
        {
          "output_type": "stream",
          "name": "stdout",
          "text": [
            "\n",
            "Processing: /content/drive/MyDrive/learnedSpectrum/fmri_data/ds000052/ds052_R2.0.0/sub-05/func/sub-05_task-weatherprediction_run-2_bold.nii.gz\n",
            "Original shape: (64, 64, 21, 225)\n",
            "\n",
            "Resizing data from [ 64  64  21 225] to [ 64  64  30 208]\n",
            "Zoom factors: [1.         1.         1.42857143 0.92444444]\n",
            "Resized shape: (64, 64, 30, 208)\n"
          ]
        },
        {
          "output_type": "stream",
          "name": "stderr",
          "text": [
            "\r 68%|██████▊   | 81/120 [07:55<04:04,  6.26s/it]"
          ]
        },
        {
          "output_type": "stream",
          "name": "stdout",
          "text": [
            "\n",
            "Processing: /content/drive/MyDrive/learnedSpectrum/fmri_data/ds000011/ds000011_R2.0.1/sub-05/func/sub-05_task-Singletaskweatherprediction_run-02_bold.nii.gz\n",
            "Original shape: (64, 64, 30, 208)\n"
          ]
        },
        {
          "output_type": "stream",
          "name": "stderr",
          "text": [
            "\r 68%|██████▊   | 82/120 [07:59<03:33,  5.61s/it]"
          ]
        },
        {
          "output_type": "stream",
          "name": "stdout",
          "text": [
            "\n",
            "Processing: /content/drive/MyDrive/learnedSpectrum/fmri_data/ds000011/ds000011_R2.0.1/sub-02/func/sub-02_task-Classificationprobewithoutfeedback_bold.nii.gz\n",
            "Original shape: (64, 64, 30, 240)\n",
            "\n",
            "Resizing data from [ 64  64  30 240] to [ 64  64  30 208]\n",
            "Zoom factors: [1.         1.         1.         0.86666667]\n",
            "Resized shape: (64, 64, 30, 208)\n"
          ]
        },
        {
          "output_type": "stream",
          "name": "stderr",
          "text": [
            "\r 69%|██████▉   | 83/120 [08:06<03:50,  6.22s/it]"
          ]
        },
        {
          "output_type": "stream",
          "name": "stdout",
          "text": [
            "\n",
            "Processing: /content/drive/MyDrive/learnedSpectrum/fmri_data/ds000052/ds052_R2.0.0/sub-14/func/sub-14_task-reversalweatherprediction_run-1_bold.nii.gz\n",
            "Original shape: (64, 64, 21, 225)\n",
            "\n",
            "Resizing data from [ 64  64  21 225] to [ 64  64  30 208]\n",
            "Zoom factors: [1.         1.         1.42857143 0.92444444]\n",
            "Resized shape: (64, 64, 30, 208)\n"
          ]
        },
        {
          "output_type": "stream",
          "name": "stderr",
          "text": [
            "\r 70%|███████   | 84/120 [08:14<03:52,  6.46s/it]"
          ]
        },
        {
          "output_type": "stream",
          "name": "stdout",
          "text": [
            "\n",
            "Processing: /content/drive/MyDrive/learnedSpectrum/fmri_data/ds000052/ds052_R2.0.0/sub-05/func/sub-05_task-reversalweatherprediction_run-1_bold.nii.gz\n",
            "Original shape: (64, 64, 21, 225)\n",
            "\n",
            "Resizing data from [ 64  64  21 225] to [ 64  64  30 208]\n",
            "Zoom factors: [1.         1.         1.42857143 0.92444444]\n",
            "Resized shape: (64, 64, 30, 208)\n"
          ]
        },
        {
          "output_type": "stream",
          "name": "stderr",
          "text": [
            "\r 71%|███████   | 85/120 [08:20<03:51,  6.61s/it]"
          ]
        },
        {
          "output_type": "stream",
          "name": "stdout",
          "text": [
            "\n",
            "Processing: /content/drive/MyDrive/learnedSpectrum/fmri_data/ds000011/ds000011_R2.0.1/sub-02/func/sub-02_task-tonecounting_bold.nii.gz\n",
            "Original shape: (64, 64, 30, 104)\n",
            "\n",
            "Resizing data from [ 64  64  30 104] to [ 64  64  30 208]\n",
            "Zoom factors: [1. 1. 1. 2.]\n",
            "Resized shape: (64, 64, 30, 208)\n"
          ]
        },
        {
          "output_type": "stream",
          "name": "stderr",
          "text": [
            "\r 72%|███████▏  | 86/120 [08:27<03:44,  6.61s/it]"
          ]
        },
        {
          "output_type": "stream",
          "name": "stdout",
          "text": [
            "\n",
            "Processing: /content/drive/MyDrive/learnedSpectrum/fmri_data/ds000002/ds002_R2.0.5/sub-08/func/sub-08_task-mixedeventrelatedprobe_run-02_bold.nii.gz\n",
            "Original shape: (64, 64, 30, 232)\n",
            "\n",
            "Resizing data from [ 64  64  30 232] to [ 64  64  30 208]\n",
            "Zoom factors: [1.         1.         1.         0.89655172]\n",
            "Resized shape: (64, 64, 30, 208)\n"
          ]
        },
        {
          "output_type": "stream",
          "name": "stderr",
          "text": [
            "\r 72%|███████▎  | 87/120 [08:34<03:42,  6.75s/it]"
          ]
        },
        {
          "output_type": "stream",
          "name": "stdout",
          "text": [
            "\n",
            "Processing: /content/drive/MyDrive/learnedSpectrum/fmri_data/ds000052/ds052_R2.0.0/sub-01/func/sub-01_task-weatherprediction_run-1_bold.nii.gz\n",
            "Original shape: (64, 64, 21, 225)\n",
            "\n",
            "Resizing data from [ 64  64  21 225] to [ 64  64  30 208]\n",
            "Zoom factors: [1.         1.         1.42857143 0.92444444]\n",
            "Resized shape: (64, 64, 30, 208)\n"
          ]
        },
        {
          "output_type": "stream",
          "name": "stderr",
          "text": [
            "\r 73%|███████▎  | 88/120 [08:41<03:37,  6.79s/it]"
          ]
        },
        {
          "output_type": "stream",
          "name": "stdout",
          "text": [
            "\n",
            "Processing: /content/drive/MyDrive/learnedSpectrum/fmri_data/ds000052/ds052_R2.0.0/sub-14/func/sub-14_task-weatherprediction_run-1_bold.nii.gz\n",
            "Original shape: (64, 64, 21, 225)\n",
            "\n",
            "Resizing data from [ 64  64  21 225] to [ 64  64  30 208]\n",
            "Zoom factors: [1.         1.         1.42857143 0.92444444]\n",
            "Resized shape: (64, 64, 30, 208)\n"
          ]
        },
        {
          "output_type": "stream",
          "name": "stderr",
          "text": [
            "\r 74%|███████▍  | 89/120 [08:48<03:32,  6.86s/it]"
          ]
        },
        {
          "output_type": "stream",
          "name": "stdout",
          "text": [
            "\n",
            "Processing: /content/drive/MyDrive/learnedSpectrum/fmri_data/ds000052/ds052_R2.0.0/sub-09/func/sub-09_task-reversalweatherprediction_run-1_bold.nii.gz\n",
            "Original shape: (64, 64, 21, 225)\n",
            "\n",
            "Resizing data from [ 64  64  21 225] to [ 64  64  30 208]\n",
            "Zoom factors: [1.         1.         1.42857143 0.92444444]\n",
            "Resized shape: (64, 64, 30, 208)\n"
          ]
        },
        {
          "output_type": "stream",
          "name": "stderr",
          "text": [
            "\r 75%|███████▌  | 90/120 [08:55<03:27,  6.91s/it]"
          ]
        },
        {
          "output_type": "stream",
          "name": "stdout",
          "text": [
            "\n",
            "Processing: /content/drive/MyDrive/learnedSpectrum/fmri_data/ds000052/ds052_R2.0.0/sub-09/func/sub-09_task-reversalweatherprediction_run-2_bold.nii.gz\n",
            "Original shape: (64, 64, 21, 225)\n",
            "\n",
            "Resizing data from [ 64  64  21 225] to [ 64  64  30 208]\n",
            "Zoom factors: [1.         1.         1.42857143 0.92444444]\n",
            "Resized shape: (64, 64, 30, 208)\n"
          ]
        },
        {
          "output_type": "stream",
          "name": "stderr",
          "text": [
            "\r 76%|███████▌  | 91/120 [09:02<03:20,  6.91s/it]"
          ]
        },
        {
          "output_type": "stream",
          "name": "stdout",
          "text": [
            "\n",
            "Processing: /content/drive/MyDrive/learnedSpectrum/fmri_data/ds000011/ds000011_R2.0.1/sub-09/func/sub-09_task-Classificationprobewithoutfeedback_bold.nii.gz\n"
          ]
        },
        {
          "output_type": "stream",
          "name": "stderr",
          "text": [
            "\r 77%|███████▋  | 92/120 [09:04<02:30,  5.36s/it]"
          ]
        },
        {
          "output_type": "stream",
          "name": "stdout",
          "text": [
            "Error loading /content/drive/MyDrive/learnedSpectrum/fmri_data/ds000011/ds000011_R2.0.1/sub-09/func/sub-09_task-Classificationprobewithoutfeedback_bold.nii.gz: Error -3 while decompressing data: invalid block type\n",
            "\n",
            "Processing: /content/drive/MyDrive/learnedSpectrum/fmri_data/ds000002/ds002_R2.0.5/sub-03/func/sub-03_task-probabilisticclassification_run-02_bold.nii.gz\n",
            "Original shape: (64, 64, 25, 180)\n",
            "\n",
            "Resizing data from [ 64  64  25 180] to [ 64  64  30 208]\n",
            "Zoom factors: [1.         1.         1.2        1.15555556]\n",
            "Resized shape: (64, 64, 30, 208)\n"
          ]
        },
        {
          "output_type": "stream",
          "name": "stderr",
          "text": [
            "\r 78%|███████▊  | 93/120 [09:12<02:45,  6.14s/it]"
          ]
        },
        {
          "output_type": "stream",
          "name": "stdout",
          "text": [
            "\n",
            "Processing: /content/drive/MyDrive/learnedSpectrum/fmri_data/ds000011/ds000011_R2.0.1/sub-10/func/sub-10_task-Singletaskweatherprediction_run-01_bold.nii.gz\n",
            "Original shape: (64, 64, 30, 208)\n"
          ]
        },
        {
          "output_type": "stream",
          "name": "stderr",
          "text": [
            "\r 78%|███████▊  | 94/120 [09:16<02:22,  5.47s/it]"
          ]
        },
        {
          "output_type": "stream",
          "name": "stdout",
          "text": [
            "\n",
            "Processing: /content/drive/MyDrive/learnedSpectrum/fmri_data/ds000011/ds000011_R2.0.1/sub-03/func/sub-03_task-Dualtaskweatherprediction_run-01_bold.nii.gz\n",
            "Original shape: (64, 64, 30, 208)\n"
          ]
        },
        {
          "output_type": "stream",
          "name": "stderr",
          "text": [
            "\r 79%|███████▉  | 95/120 [09:20<02:05,  5.00s/it]"
          ]
        },
        {
          "output_type": "stream",
          "name": "stdout",
          "text": [
            "\n",
            "Processing: /content/drive/MyDrive/learnedSpectrum/fmri_data/ds000011/ds000011_R2.0.1/sub-05/func/sub-05_task-Dualtaskweatherprediction_run-02_bold.nii.gz\n",
            "Original shape: (64, 64, 30, 208)\n"
          ]
        },
        {
          "output_type": "stream",
          "name": "stderr",
          "text": [
            "\r 80%|████████  | 96/120 [09:24<01:53,  4.73s/it]"
          ]
        },
        {
          "output_type": "stream",
          "name": "stdout",
          "text": [
            "\n",
            "Processing: /content/drive/MyDrive/learnedSpectrum/fmri_data/ds000011/ds000011_R2.0.1/sub-12/func/sub-12_task-Singletaskweatherprediction_run-02_bold.nii.gz\n",
            "Original shape: (64, 64, 30, 208)\n"
          ]
        },
        {
          "output_type": "stream",
          "name": "stderr",
          "text": [
            "\r 81%|████████  | 97/120 [09:27<01:42,  4.47s/it]"
          ]
        },
        {
          "output_type": "stream",
          "name": "stdout",
          "text": [
            "\n",
            "Processing: /content/drive/MyDrive/learnedSpectrum/fmri_data/ds000002/ds002_R2.0.5/sub-02/func/sub-02_task-mixedeventrelatedprobe_run-01_bold.nii.gz\n",
            "Original shape: (64, 64, 25, 237)\n",
            "\n",
            "Resizing data from [ 64  64  25 237] to [ 64  64  30 208]\n",
            "Zoom factors: [1.         1.         1.2        0.87763713]\n",
            "Resized shape: (64, 64, 30, 208)\n"
          ]
        },
        {
          "output_type": "stream",
          "name": "stderr",
          "text": [
            "\r 82%|████████▏ | 98/120 [09:35<01:56,  5.29s/it]"
          ]
        },
        {
          "output_type": "stream",
          "name": "stdout",
          "text": [
            "\n",
            "Processing: /content/drive/MyDrive/learnedSpectrum/fmri_data/ds000011/ds000011_R2.0.1/sub-03/func/sub-03_task-Dualtaskweatherprediction_run-02_bold.nii.gz\n",
            "Original shape: (64, 64, 30, 208)\n"
          ]
        },
        {
          "output_type": "stream",
          "name": "stderr",
          "text": [
            "\r 82%|████████▎ | 99/120 [09:39<01:43,  4.94s/it]"
          ]
        },
        {
          "output_type": "stream",
          "name": "stdout",
          "text": [
            "\n",
            "Processing: /content/drive/MyDrive/learnedSpectrum/fmri_data/ds000002/ds002_R2.0.5/sub-03/func/sub-03_task-probabilisticclassification_run-01_bold.nii.gz\n",
            "Original shape: (64, 64, 25, 180)\n",
            "\n",
            "Resizing data from [ 64  64  25 180] to [ 64  64  30 208]\n",
            "Zoom factors: [1.         1.         1.2        1.15555556]\n",
            "Resized shape: (64, 64, 30, 208)\n"
          ]
        },
        {
          "output_type": "stream",
          "name": "stderr",
          "text": [
            "\r 83%|████████▎ | 100/120 [09:45<01:47,  5.36s/it]"
          ]
        },
        {
          "output_type": "stream",
          "name": "stdout",
          "text": [
            "\n",
            "Processing: /content/drive/MyDrive/learnedSpectrum/fmri_data/ds000011/ds000011_R2.0.1/sub-09/func/sub-09_task-Singletaskweatherprediction_run-01_bold.nii.gz\n",
            "Original shape: (64, 64, 30, 208)\n"
          ]
        },
        {
          "output_type": "stream",
          "name": "stderr",
          "text": [
            "\r 84%|████████▍ | 101/120 [09:49<01:33,  4.90s/it]"
          ]
        },
        {
          "output_type": "stream",
          "name": "stdout",
          "text": [
            "\n",
            "Processing: /content/drive/MyDrive/learnedSpectrum/fmri_data/ds000011/ds000011_R2.0.1/sub-01/func/sub-01_task-Dualtaskweatherprediction_run-01_bold.nii.gz\n",
            "Original shape: (64, 64, 30, 208)\n"
          ]
        },
        {
          "output_type": "stream",
          "name": "stderr",
          "text": [
            "\r 85%|████████▌ | 102/120 [09:53<01:23,  4.62s/it]"
          ]
        },
        {
          "output_type": "stream",
          "name": "stdout",
          "text": [
            "\n",
            "Processing: /content/drive/MyDrive/learnedSpectrum/fmri_data/ds000052/ds052_R2.0.0/sub-01/func/sub-01_task-reversalweatherprediction_run-2_bold.nii.gz\n",
            "Original shape: (64, 64, 21, 225)\n",
            "\n",
            "Resizing data from [ 64  64  21 225] to [ 64  64  30 208]\n",
            "Zoom factors: [1.         1.         1.42857143 0.92444444]\n",
            "Resized shape: (64, 64, 30, 208)\n"
          ]
        },
        {
          "output_type": "stream",
          "name": "stderr",
          "text": [
            "\r 86%|████████▌ | 103/120 [10:00<01:30,  5.33s/it]"
          ]
        },
        {
          "output_type": "stream",
          "name": "stdout",
          "text": [
            "\n",
            "Processing: /content/drive/MyDrive/learnedSpectrum/fmri_data/ds000011/ds000011_R2.0.1/sub-08/func/sub-08_task-Dualtaskweatherprediction_run-02_bold.nii.gz\n",
            "Original shape: (64, 64, 30, 208)\n"
          ]
        },
        {
          "output_type": "stream",
          "name": "stderr",
          "text": [
            "\r 87%|████████▋ | 104/120 [10:04<01:18,  4.91s/it]"
          ]
        },
        {
          "output_type": "stream",
          "name": "stdout",
          "text": [
            "\n",
            "Processing: /content/drive/MyDrive/learnedSpectrum/fmri_data/ds000052/ds052_R2.0.0/sub-02/func/sub-02_task-reversalweatherprediction_run-2_bold.nii.gz\n",
            "Original shape: (64, 64, 21, 225)\n",
            "\n",
            "Resizing data from [ 64  64  21 225] to [ 64  64  30 208]\n",
            "Zoom factors: [1.         1.         1.42857143 0.92444444]\n",
            "Resized shape: (64, 64, 30, 208)\n"
          ]
        },
        {
          "output_type": "stream",
          "name": "stderr",
          "text": [
            "\r 88%|████████▊ | 105/120 [10:11<01:23,  5.54s/it]"
          ]
        },
        {
          "output_type": "stream",
          "name": "stdout",
          "text": [
            "\n",
            "Processing: /content/drive/MyDrive/learnedSpectrum/fmri_data/ds000011/ds000011_R2.0.1/sub-05/func/sub-05_task-Dualtaskweatherprediction_run-01_bold.nii.gz\n",
            "Original shape: (64, 64, 30, 208)\n"
          ]
        },
        {
          "output_type": "stream",
          "name": "stderr",
          "text": [
            "\r 88%|████████▊ | 106/120 [10:15<01:10,  5.02s/it]"
          ]
        },
        {
          "output_type": "stream",
          "name": "stdout",
          "text": [
            "\n",
            "Processing: /content/drive/MyDrive/learnedSpectrum/fmri_data/ds000052/ds052_R2.0.0/sub-12/func/sub-12_task-weatherprediction_run-2_bold.nii.gz\n",
            "Original shape: (64, 64, 21, 225)\n",
            "\n",
            "Resizing data from [ 64  64  21 225] to [ 64  64  30 208]\n",
            "Zoom factors: [1.         1.         1.42857143 0.92444444]\n",
            "Resized shape: (64, 64, 30, 208)\n"
          ]
        },
        {
          "output_type": "stream",
          "name": "stderr",
          "text": [
            "\r 89%|████████▉ | 107/120 [10:22<01:12,  5.57s/it]"
          ]
        },
        {
          "output_type": "stream",
          "name": "stdout",
          "text": [
            "\n",
            "Processing: /content/drive/MyDrive/learnedSpectrum/fmri_data/ds000052/ds052_R2.0.0/sub-01/func/sub-01_task-reversalweatherprediction_run-1_bold.nii.gz\n",
            "Original shape: (64, 64, 21, 225)\n",
            "\n",
            "Resizing data from [ 64  64  21 225] to [ 64  64  30 208]\n",
            "Zoom factors: [1.         1.         1.42857143 0.92444444]\n",
            "Resized shape: (64, 64, 30, 208)\n"
          ]
        },
        {
          "output_type": "stream",
          "name": "stderr",
          "text": [
            "\r 90%|█████████ | 108/120 [10:29<01:12,  6.01s/it]"
          ]
        },
        {
          "output_type": "stream",
          "name": "stdout",
          "text": [
            "\n",
            "Processing: /content/drive/MyDrive/learnedSpectrum/fmri_data/ds000011/ds000011_R2.0.1/sub-06/func/sub-06_task-Dualtaskweatherprediction_run-01_bold.nii.gz\n",
            "Original shape: (64, 64, 30, 208)\n"
          ]
        },
        {
          "output_type": "stream",
          "name": "stderr",
          "text": [
            "\r 91%|█████████ | 109/120 [10:33<00:59,  5.41s/it]"
          ]
        },
        {
          "output_type": "stream",
          "name": "stdout",
          "text": [
            "\n",
            "Processing: /content/drive/MyDrive/learnedSpectrum/fmri_data/ds000052/ds052_R2.0.0/sub-05/func/sub-05_task-reversalweatherprediction_run-2_bold.nii.gz\n",
            "Original shape: (64, 64, 21, 225)\n",
            "\n",
            "Resizing data from [ 64  64  21 225] to [ 64  64  30 208]\n",
            "Zoom factors: [1.         1.         1.42857143 0.92444444]\n",
            "Resized shape: (64, 64, 30, 208)\n"
          ]
        },
        {
          "output_type": "stream",
          "name": "stderr",
          "text": [
            "\r 92%|█████████▏| 110/120 [10:40<00:58,  5.87s/it]"
          ]
        },
        {
          "output_type": "stream",
          "name": "stdout",
          "text": [
            "\n",
            "Processing: /content/drive/MyDrive/learnedSpectrum/fmri_data/ds000052/ds052_R2.0.0/sub-13/func/sub-13_task-weatherprediction_run-2_bold.nii.gz\n",
            "Original shape: (64, 64, 21, 225)\n",
            "\n",
            "Resizing data from [ 64  64  21 225] to [ 64  64  30 208]\n",
            "Zoom factors: [1.         1.         1.42857143 0.92444444]\n",
            "Resized shape: (64, 64, 30, 208)\n"
          ]
        },
        {
          "output_type": "stream",
          "name": "stderr",
          "text": [
            "\r 92%|█████████▎| 111/120 [10:46<00:55,  6.20s/it]"
          ]
        },
        {
          "output_type": "stream",
          "name": "stdout",
          "text": [
            "\n",
            "Processing: /content/drive/MyDrive/learnedSpectrum/fmri_data/ds000011/ds000011_R2.0.1/sub-13/func/sub-13_task-tonecounting_bold.nii.gz\n",
            "Original shape: (64, 64, 30, 112)\n",
            "\n",
            "Resizing data from [ 64  64  30 112] to [ 64  64  30 208]\n",
            "Zoom factors: [1.         1.         1.         1.85714286]\n",
            "Resized shape: (64, 64, 30, 208)\n"
          ]
        },
        {
          "output_type": "stream",
          "name": "stderr",
          "text": [
            "\r 93%|█████████▎| 112/120 [10:53<00:50,  6.35s/it]"
          ]
        },
        {
          "output_type": "stream",
          "name": "stdout",
          "text": [
            "\n",
            "Processing: /content/drive/MyDrive/learnedSpectrum/fmri_data/ds000011/ds000011_R2.0.1/sub-13/func/sub-13_task-Singletaskweatherprediction_run-01_bold.nii.gz\n",
            "Original shape: (64, 64, 30, 208)\n"
          ]
        },
        {
          "output_type": "stream",
          "name": "stderr",
          "text": [
            "\r 94%|█████████▍| 113/120 [10:58<00:40,  5.78s/it]"
          ]
        },
        {
          "output_type": "stream",
          "name": "stdout",
          "text": [
            "\n",
            "Processing: /content/drive/MyDrive/learnedSpectrum/fmri_data/ds000011/ds000011_R2.0.1/sub-01/func/sub-01_task-tonecounting_bold.nii.gz\n",
            "Original shape: (64, 64, 30, 104)\n",
            "\n",
            "Resizing data from [ 64  64  30 104] to [ 64  64  30 208]\n",
            "Zoom factors: [1. 1. 1. 2.]\n",
            "Resized shape: (64, 64, 30, 208)\n"
          ]
        },
        {
          "output_type": "stream",
          "name": "stderr",
          "text": [
            "\r 95%|█████████▌| 114/120 [11:05<00:37,  6.20s/it]"
          ]
        },
        {
          "output_type": "stream",
          "name": "stdout",
          "text": [
            "\n",
            "Processing: /content/drive/MyDrive/learnedSpectrum/fmri_data/ds000011/ds000011_R2.0.1/sub-07/func/sub-07_task-Dualtaskweatherprediction_run-01_bold.nii.gz\n",
            "Original shape: (64, 64, 30, 208)\n"
          ]
        },
        {
          "output_type": "stream",
          "name": "stderr",
          "text": [
            "\r 96%|█████████▌| 115/120 [11:09<00:27,  5.51s/it]"
          ]
        },
        {
          "output_type": "stream",
          "name": "stdout",
          "text": [
            "\n",
            "Processing: /content/drive/MyDrive/learnedSpectrum/fmri_data/ds000011/ds000011_R2.0.1/sub-01/func/sub-01_task-Dualtaskweatherprediction_run-02_bold.nii.gz\n",
            "Original shape: (64, 64, 30, 208)\n"
          ]
        },
        {
          "output_type": "stream",
          "name": "stderr",
          "text": [
            "\r 97%|█████████▋| 116/120 [11:13<00:20,  5.02s/it]"
          ]
        },
        {
          "output_type": "stream",
          "name": "stdout",
          "text": [
            "\n",
            "Processing: /content/drive/MyDrive/learnedSpectrum/fmri_data/ds000052/ds052_R2.0.0/sub-08/func/sub-08_task-weatherprediction_run-1_bold.nii.gz\n",
            "Original shape: (64, 64, 21, 225)\n",
            "\n",
            "Resizing data from [ 64  64  21 225] to [ 64  64  30 208]\n",
            "Zoom factors: [1.         1.         1.42857143 0.92444444]\n",
            "Resized shape: (64, 64, 30, 208)\n"
          ]
        },
        {
          "output_type": "stream",
          "name": "stderr",
          "text": [
            "\r 98%|█████████▊| 117/120 [11:21<00:18,  6.17s/it]"
          ]
        },
        {
          "output_type": "stream",
          "name": "stdout",
          "text": [
            "\n",
            "Processing: /content/drive/MyDrive/learnedSpectrum/fmri_data/ds000011/ds000011_R2.0.1/sub-12/func/sub-12_task-Dualtaskweatherprediction_run-01_bold.nii.gz\n",
            "Original shape: (64, 64, 30, 208)\n"
          ]
        },
        {
          "output_type": "stream",
          "name": "stderr",
          "text": [
            "\r 98%|█████████▊| 118/120 [11:26<00:11,  5.76s/it]"
          ]
        },
        {
          "output_type": "stream",
          "name": "stdout",
          "text": [
            "\n",
            "Processing: /content/drive/MyDrive/learnedSpectrum/fmri_data/ds000011/ds000011_R2.0.1/sub-06/func/sub-06_task-Singletaskweatherprediction_run-02_bold.nii.gz\n",
            "Original shape: (64, 64, 30, 208)\n"
          ]
        },
        {
          "output_type": "stream",
          "name": "stderr",
          "text": [
            "\r 99%|█████████▉| 119/120 [11:30<00:05,  5.22s/it]"
          ]
        },
        {
          "output_type": "stream",
          "name": "stdout",
          "text": [
            "\n",
            "Processing: /content/drive/MyDrive/learnedSpectrum/fmri_data/ds000002/ds002_R2.0.5/sub-03/func/sub-03_task-mixedeventrelatedprobe_run-02_bold.nii.gz\n",
            "Original shape: (64, 64, 25, 237)\n",
            "\n",
            "Resizing data from [ 64  64  25 237] to [ 64  64  30 208]\n",
            "Zoom factors: [1.         1.         1.2        0.87763713]\n",
            "Resized shape: (64, 64, 30, 208)\n"
          ]
        },
        {
          "output_type": "stream",
          "name": "stderr",
          "text": [
            "100%|██████████| 120/120 [11:37<00:00,  5.81s/it]\n"
          ]
        },
        {
          "output_type": "stream",
          "name": "stdout",
          "text": [
            "\n",
            "Successfully preprocessed 119 files\n",
            "\n",
            "Preprocessing dataset...\n"
          ]
        },
        {
          "output_type": "stream",
          "name": "stderr",
          "text": [
            "\r  0%|          | 0/31 [00:00<?, ?it/s]"
          ]
        },
        {
          "output_type": "stream",
          "name": "stdout",
          "text": [
            "\n",
            "Processing: /content/drive/MyDrive/learnedSpectrum/fmri_data/ds000052/ds052_R2.0.0/sub-03/func/sub-03_task-reversalweatherprediction_run-2_bold.nii.gz\n",
            "Original shape: (64, 64, 21, 225)\n",
            "\n",
            "Resizing data from [ 64  64  21 225] to [ 64  64  30 208]\n",
            "Zoom factors: [1.         1.         1.42857143 0.92444444]\n",
            "Resized shape: (64, 64, 30, 208)\n"
          ]
        },
        {
          "output_type": "stream",
          "name": "stderr",
          "text": [
            "\r  3%|▎         | 1/31 [00:06<03:29,  6.97s/it]"
          ]
        },
        {
          "output_type": "stream",
          "name": "stdout",
          "text": [
            "\n",
            "Processing: /content/drive/MyDrive/learnedSpectrum/fmri_data/ds000011/ds000011_R2.0.1/sub-01/func/sub-01_task-Singletaskweatherprediction_run-01_bold.nii.gz\n",
            "Original shape: (64, 64, 30, 208)\n"
          ]
        },
        {
          "output_type": "stream",
          "name": "stderr",
          "text": [
            "\r  6%|▋         | 2/31 [00:10<02:30,  5.19s/it]"
          ]
        },
        {
          "output_type": "stream",
          "name": "stdout",
          "text": [
            "\n",
            "Processing: /content/drive/MyDrive/learnedSpectrum/fmri_data/ds000011/ds000011_R2.0.1/sub-04/func/sub-04_task-Classificationprobewithoutfeedback_bold.nii.gz\n",
            "Original shape: (64, 64, 30, 240)\n",
            "\n",
            "Resizing data from [ 64  64  30 240] to [ 64  64  30 208]\n",
            "Zoom factors: [1.         1.         1.         0.86666667]\n",
            "Resized shape: (64, 64, 30, 208)\n"
          ]
        },
        {
          "output_type": "stream",
          "name": "stderr",
          "text": [
            "\r 10%|▉         | 3/31 [00:18<02:55,  6.26s/it]"
          ]
        },
        {
          "output_type": "stream",
          "name": "stdout",
          "text": [
            "\n",
            "Processing: /content/drive/MyDrive/learnedSpectrum/fmri_data/ds000002/ds002_R2.0.5/sub-08/func/sub-08_task-mixedeventrelatedprobe_run-01_bold.nii.gz\n",
            "Original shape: (64, 64, 30, 232)\n",
            "\n",
            "Resizing data from [ 64  64  30 232] to [ 64  64  30 208]\n",
            "Zoom factors: [1.         1.         1.         0.89655172]\n",
            "Resized shape: (64, 64, 30, 208)\n"
          ]
        },
        {
          "output_type": "stream",
          "name": "stderr",
          "text": [
            "\r 13%|█▎        | 4/31 [00:26<03:04,  6.85s/it]"
          ]
        },
        {
          "output_type": "stream",
          "name": "stdout",
          "text": [
            "\n",
            "Processing: /content/drive/MyDrive/learnedSpectrum/fmri_data/ds000052/ds052_R2.0.0/sub-04/func/sub-04_task-weatherprediction_run-2_bold.nii.gz\n",
            "Original shape: (64, 64, 21, 225)\n",
            "\n",
            "Resizing data from [ 64  64  21 225] to [ 64  64  30 208]\n",
            "Zoom factors: [1.         1.         1.42857143 0.92444444]\n",
            "Resized shape: (64, 64, 30, 208)\n"
          ]
        },
        {
          "output_type": "stream",
          "name": "stderr",
          "text": [
            "\r 16%|█▌        | 5/31 [00:32<02:57,  6.82s/it]"
          ]
        },
        {
          "output_type": "stream",
          "name": "stdout",
          "text": [
            "\n",
            "Processing: /content/drive/MyDrive/learnedSpectrum/fmri_data/ds000011/ds000011_R2.0.1/sub-06/func/sub-06_task-tonecounting_bold.nii.gz\n",
            "Original shape: (64, 64, 30, 112)\n",
            "\n",
            "Resizing data from [ 64  64  30 112] to [ 64  64  30 208]\n",
            "Zoom factors: [1.         1.         1.         1.85714286]\n",
            "Resized shape: (64, 64, 30, 208)\n"
          ]
        },
        {
          "output_type": "stream",
          "name": "stderr",
          "text": [
            "\r 19%|█▉        | 6/31 [00:39<02:49,  6.79s/it]"
          ]
        },
        {
          "output_type": "stream",
          "name": "stdout",
          "text": [
            "\n",
            "Processing: /content/drive/MyDrive/learnedSpectrum/fmri_data/ds000052/ds052_R2.0.0/sub-03/func/sub-03_task-weatherprediction_run-1_bold.nii.gz\n",
            "Original shape: (64, 64, 21, 225)\n",
            "\n",
            "Resizing data from [ 64  64  21 225] to [ 64  64  30 208]\n",
            "Zoom factors: [1.         1.         1.42857143 0.92444444]\n",
            "Resized shape: (64, 64, 30, 208)\n"
          ]
        },
        {
          "output_type": "stream",
          "name": "stderr",
          "text": [
            "\r 23%|██▎       | 7/31 [00:46<02:43,  6.81s/it]"
          ]
        },
        {
          "output_type": "stream",
          "name": "stdout",
          "text": [
            "\n",
            "Processing: /content/drive/MyDrive/learnedSpectrum/fmri_data/ds000011/ds000011_R2.0.1/sub-11/func/sub-11_task-Dualtaskweatherprediction_run-02_bold.nii.gz\n",
            "Original shape: (64, 64, 30, 208)\n"
          ]
        },
        {
          "output_type": "stream",
          "name": "stderr",
          "text": [
            "\r 26%|██▌       | 8/31 [00:50<02:14,  5.86s/it]"
          ]
        },
        {
          "output_type": "stream",
          "name": "stdout",
          "text": [
            "\n",
            "Processing: /content/drive/MyDrive/learnedSpectrum/fmri_data/ds000052/ds052_R2.0.0/sub-10/func/sub-10_task-weatherprediction_run-1_bold.nii.gz\n",
            "Original shape: (64, 64, 21, 225)\n",
            "\n",
            "Resizing data from [ 64  64  21 225] to [ 64  64  30 208]\n",
            "Zoom factors: [1.         1.         1.42857143 0.92444444]\n",
            "Resized shape: (64, 64, 30, 208)\n"
          ]
        },
        {
          "output_type": "stream",
          "name": "stderr",
          "text": [
            "\r 29%|██▉       | 9/31 [00:57<02:15,  6.16s/it]"
          ]
        },
        {
          "output_type": "stream",
          "name": "stdout",
          "text": [
            "\n",
            "Processing: /content/drive/MyDrive/learnedSpectrum/fmri_data/ds000052/ds052_R2.0.0/sub-04/func/sub-04_task-weatherprediction_run-1_bold.nii.gz\n",
            "Original shape: (64, 64, 21, 225)\n",
            "\n",
            "Resizing data from [ 64  64  21 225] to [ 64  64  30 208]\n",
            "Zoom factors: [1.         1.         1.42857143 0.92444444]\n",
            "Resized shape: (64, 64, 30, 208)\n"
          ]
        },
        {
          "output_type": "stream",
          "name": "stderr",
          "text": [
            "\r 32%|███▏      | 10/31 [01:04<02:14,  6.41s/it]"
          ]
        },
        {
          "output_type": "stream",
          "name": "stdout",
          "text": [
            "\n",
            "Processing: /content/drive/MyDrive/learnedSpectrum/fmri_data/ds000011/ds000011_R2.0.1/sub-09/func/sub-09_task-Dualtaskweatherprediction_run-01_bold.nii.gz\n",
            "Original shape: (64, 64, 30, 208)\n"
          ]
        },
        {
          "output_type": "stream",
          "name": "stderr",
          "text": [
            "\r 35%|███▌      | 11/31 [01:07<01:52,  5.62s/it]"
          ]
        },
        {
          "output_type": "stream",
          "name": "stdout",
          "text": [
            "\n",
            "Processing: /content/drive/MyDrive/learnedSpectrum/fmri_data/ds000052/ds052_R2.0.0/sub-05/func/sub-05_task-weatherprediction_run-1_bold.nii.gz\n",
            "Original shape: (64, 64, 21, 225)\n",
            "\n",
            "Resizing data from [ 64  64  21 225] to [ 64  64  30 208]\n",
            "Zoom factors: [1.         1.         1.42857143 0.92444444]\n",
            "Resized shape: (64, 64, 30, 208)\n"
          ]
        },
        {
          "output_type": "stream",
          "name": "stderr",
          "text": [
            "\r 39%|███▊      | 12/31 [01:15<01:55,  6.10s/it]"
          ]
        },
        {
          "output_type": "stream",
          "name": "stdout",
          "text": [
            "\n",
            "Processing: /content/drive/MyDrive/learnedSpectrum/fmri_data/ds000002/ds002_R2.0.5/sub-08/func/sub-08_task-probabilisticclassification_run-01_bold.nii.gz\n",
            "Original shape: (64, 64, 30, 180)\n",
            "\n",
            "Resizing data from [ 64  64  30 180] to [ 64  64  30 208]\n",
            "Zoom factors: [1.         1.         1.         1.15555556]\n",
            "Resized shape: (64, 64, 30, 208)\n"
          ]
        },
        {
          "output_type": "stream",
          "name": "stderr",
          "text": [
            "\r 42%|████▏     | 13/31 [01:22<01:54,  6.38s/it]"
          ]
        },
        {
          "output_type": "stream",
          "name": "stdout",
          "text": [
            "\n",
            "Processing: /content/drive/MyDrive/learnedSpectrum/fmri_data/ds000052/ds052_R2.0.0/sub-01/func/sub-01_task-weatherprediction_run-2_bold.nii.gz\n",
            "Original shape: (64, 64, 21, 225)\n",
            "\n",
            "Resizing data from [ 64  64  21 225] to [ 64  64  30 208]\n",
            "Zoom factors: [1.         1.         1.42857143 0.92444444]\n",
            "Resized shape: (64, 64, 30, 208)\n"
          ]
        },
        {
          "output_type": "stream",
          "name": "stderr",
          "text": [
            "\r 45%|████▌     | 14/31 [01:29<01:52,  6.64s/it]"
          ]
        },
        {
          "output_type": "stream",
          "name": "stdout",
          "text": [
            "\n",
            "Processing: /content/drive/MyDrive/learnedSpectrum/fmri_data/ds000011/ds000011_R2.0.1/sub-03/func/sub-03_task-Singletaskweatherprediction_run-01_bold.nii.gz\n",
            "Original shape: (64, 64, 30, 208)\n"
          ]
        },
        {
          "output_type": "stream",
          "name": "stderr",
          "text": [
            "\r 48%|████▊     | 15/31 [01:33<01:34,  5.91s/it]"
          ]
        },
        {
          "output_type": "stream",
          "name": "stdout",
          "text": [
            "\n",
            "Processing: /content/drive/MyDrive/learnedSpectrum/fmri_data/ds000002/ds002_R2.0.5/sub-03/func/sub-03_task-deterministicclassification_run-02_bold.nii.gz\n",
            "Original shape: (64, 64, 25, 180)\n",
            "\n",
            "Resizing data from [ 64  64  25 180] to [ 64  64  30 208]\n",
            "Zoom factors: [1.         1.         1.2        1.15555556]\n",
            "Resized shape: (64, 64, 30, 208)\n"
          ]
        },
        {
          "output_type": "stream",
          "name": "stderr",
          "text": [
            "\r 52%|█████▏    | 16/31 [01:40<01:33,  6.21s/it]"
          ]
        },
        {
          "output_type": "stream",
          "name": "stdout",
          "text": [
            "\n",
            "Processing: /content/drive/MyDrive/learnedSpectrum/fmri_data/ds000011/ds000011_R2.0.1/sub-07/func/sub-07_task-Singletaskweatherprediction_run-02_bold.nii.gz\n",
            "Original shape: (64, 64, 30, 208)\n"
          ]
        },
        {
          "output_type": "stream",
          "name": "stderr",
          "text": [
            "\r 55%|█████▍    | 17/31 [01:44<01:17,  5.51s/it]"
          ]
        },
        {
          "output_type": "stream",
          "name": "stdout",
          "text": [
            "\n",
            "Processing: /content/drive/MyDrive/learnedSpectrum/fmri_data/ds000011/ds000011_R2.0.1/sub-11/func/sub-11_task-Classificationprobewithoutfeedback_bold.nii.gz\n",
            "Original shape: (64, 64, 30, 240)\n",
            "\n",
            "Resizing data from [ 64  64  30 240] to [ 64  64  30 208]\n",
            "Zoom factors: [1.         1.         1.         0.86666667]\n",
            "Resized shape: (64, 64, 30, 208)\n"
          ]
        },
        {
          "output_type": "stream",
          "name": "stderr",
          "text": [
            "\r 58%|█████▊    | 18/31 [01:51<01:19,  6.09s/it]"
          ]
        },
        {
          "output_type": "stream",
          "name": "stdout",
          "text": [
            "\n",
            "Processing: /content/drive/MyDrive/learnedSpectrum/fmri_data/ds000011/ds000011_R2.0.1/sub-05/func/sub-05_task-Classificationprobewithoutfeedback_bold.nii.gz\n",
            "Original shape: (64, 64, 30, 240)\n",
            "\n",
            "Resizing data from [ 64  64  30 240] to [ 64  64  30 208]\n",
            "Zoom factors: [1.         1.         1.         0.86666667]\n",
            "Resized shape: (64, 64, 30, 208)\n"
          ]
        },
        {
          "output_type": "stream",
          "name": "stderr",
          "text": [
            "\r 61%|██████▏   | 19/31 [01:58<01:16,  6.39s/it]"
          ]
        },
        {
          "output_type": "stream",
          "name": "stdout",
          "text": [
            "\n",
            "Processing: /content/drive/MyDrive/learnedSpectrum/fmri_data/ds000011/ds000011_R2.0.1/sub-04/func/sub-04_task-Dualtaskweatherprediction_run-02_bold.nii.gz\n",
            "Original shape: (64, 64, 30, 208)\n"
          ]
        },
        {
          "output_type": "stream",
          "name": "stderr",
          "text": [
            "\r 65%|██████▍   | 20/31 [02:02<01:02,  5.65s/it]"
          ]
        },
        {
          "output_type": "stream",
          "name": "stdout",
          "text": [
            "\n",
            "Processing: /content/drive/MyDrive/learnedSpectrum/fmri_data/ds000011/ds000011_R2.0.1/sub-13/func/sub-13_task-Singletaskweatherprediction_run-02_bold.nii.gz\n",
            "Original shape: (64, 64, 30, 208)\n"
          ]
        },
        {
          "output_type": "stream",
          "name": "stderr",
          "text": [
            "\r 68%|██████▊   | 21/31 [02:07<00:52,  5.24s/it]"
          ]
        },
        {
          "output_type": "stream",
          "name": "stdout",
          "text": [
            "\n",
            "Processing: /content/drive/MyDrive/learnedSpectrum/fmri_data/ds000011/ds000011_R2.0.1/sub-08/func/sub-08_task-Classificationprobewithoutfeedback_bold.nii.gz\n",
            "Original shape: (64, 64, 30, 240)\n",
            "\n",
            "Resizing data from [ 64  64  30 240] to [ 64  64  30 208]\n",
            "Zoom factors: [1.         1.         1.         0.86666667]\n",
            "Resized shape: (64, 64, 30, 208)\n"
          ]
        },
        {
          "output_type": "stream",
          "name": "stderr",
          "text": [
            "\r 71%|███████   | 22/31 [02:14<00:52,  5.85s/it]"
          ]
        },
        {
          "output_type": "stream",
          "name": "stdout",
          "text": [
            "\n",
            "Processing: /content/drive/MyDrive/learnedSpectrum/fmri_data/ds000011/ds000011_R2.0.1/sub-10/func/sub-10_task-Classificationprobewithoutfeedback_bold.nii.gz\n",
            "Original shape: (64, 64, 30, 240)\n",
            "\n",
            "Resizing data from [ 64  64  30 240] to [ 64  64  30 208]\n",
            "Zoom factors: [1.         1.         1.         0.86666667]\n",
            "Resized shape: (64, 64, 30, 208)\n"
          ]
        },
        {
          "output_type": "stream",
          "name": "stderr",
          "text": [
            "\r 74%|███████▍  | 23/31 [02:21<00:50,  6.30s/it]"
          ]
        },
        {
          "output_type": "stream",
          "name": "stdout",
          "text": [
            "\n",
            "Processing: /content/drive/MyDrive/learnedSpectrum/fmri_data/ds000011/ds000011_R2.0.1/sub-04/func/sub-04_task-Dualtaskweatherprediction_run-01_bold.nii.gz\n",
            "Original shape: (64, 64, 30, 208)\n"
          ]
        },
        {
          "output_type": "stream",
          "name": "stderr",
          "text": [
            "\r 77%|███████▋  | 24/31 [02:25<00:38,  5.56s/it]"
          ]
        },
        {
          "output_type": "stream",
          "name": "stdout",
          "text": [
            "\n",
            "Processing: /content/drive/MyDrive/learnedSpectrum/fmri_data/ds000002/ds002_R2.0.5/sub-08/func/sub-08_task-deterministicclassification_run-01_bold.nii.gz\n",
            "Original shape: (64, 64, 30, 180)\n",
            "\n",
            "Resizing data from [ 64  64  30 180] to [ 64  64  30 208]\n",
            "Zoom factors: [1.         1.         1.         1.15555556]\n",
            "Resized shape: (64, 64, 30, 208)\n"
          ]
        },
        {
          "output_type": "stream",
          "name": "stderr",
          "text": [
            "\r 81%|████████  | 25/31 [02:32<00:36,  6.03s/it]"
          ]
        },
        {
          "output_type": "stream",
          "name": "stdout",
          "text": [
            "\n",
            "Processing: /content/drive/MyDrive/learnedSpectrum/fmri_data/ds000052/ds052_R2.0.0/sub-03/func/sub-03_task-reversalweatherprediction_run-1_bold.nii.gz\n",
            "Original shape: (64, 64, 21, 225)\n",
            "\n",
            "Resizing data from [ 64  64  21 225] to [ 64  64  30 208]\n",
            "Zoom factors: [1.         1.         1.42857143 0.92444444]\n",
            "Resized shape: (64, 64, 30, 208)\n"
          ]
        },
        {
          "output_type": "stream",
          "name": "stderr",
          "text": [
            "\r 84%|████████▍ | 26/31 [02:39<00:31,  6.34s/it]"
          ]
        },
        {
          "output_type": "stream",
          "name": "stdout",
          "text": [
            "\n",
            "Processing: /content/drive/MyDrive/learnedSpectrum/fmri_data/ds000011/ds000011_R2.0.1/sub-03/func/sub-03_task-Classificationprobewithoutfeedback_bold.nii.gz\n",
            "Original shape: (64, 64, 30, 240)\n",
            "\n",
            "Resizing data from [ 64  64  30 240] to [ 64  64  30 208]\n",
            "Zoom factors: [1.         1.         1.         0.86666667]\n",
            "Resized shape: (64, 64, 30, 208)\n"
          ]
        },
        {
          "output_type": "stream",
          "name": "stderr",
          "text": [
            "\r 87%|████████▋ | 27/31 [02:47<00:26,  6.60s/it]"
          ]
        },
        {
          "output_type": "stream",
          "name": "stdout",
          "text": [
            "\n",
            "Processing: /content/drive/MyDrive/learnedSpectrum/fmri_data/ds000011/ds000011_R2.0.1/sub-01/func/sub-01_task-Singletaskweatherprediction_run-02_bold.nii.gz\n",
            "Original shape: (64, 64, 30, 208)\n"
          ]
        },
        {
          "output_type": "stream",
          "name": "stderr",
          "text": [
            "\r 90%|█████████ | 28/31 [02:51<00:17,  5.94s/it]"
          ]
        },
        {
          "output_type": "stream",
          "name": "stdout",
          "text": [
            "\n",
            "Processing: /content/drive/MyDrive/learnedSpectrum/fmri_data/ds000011/ds000011_R2.0.1/sub-10/func/sub-10_task-Singletaskweatherprediction_run-02_bold.nii.gz\n",
            "Original shape: (64, 64, 30, 208)\n"
          ]
        },
        {
          "output_type": "stream",
          "name": "stderr",
          "text": [
            "\r 94%|█████████▎| 29/31 [02:55<00:10,  5.34s/it]"
          ]
        },
        {
          "output_type": "stream",
          "name": "stdout",
          "text": [
            "\n",
            "Processing: /content/drive/MyDrive/learnedSpectrum/fmri_data/ds000052/ds052_R2.0.0/sub-10/func/sub-10_task-weatherprediction_run-2_bold.nii.gz\n",
            "Original shape: (64, 64, 21, 225)\n",
            "\n",
            "Resizing data from [ 64  64  21 225] to [ 64  64  30 208]\n",
            "Zoom factors: [1.         1.         1.42857143 0.92444444]\n",
            "Resized shape: (64, 64, 30, 208)\n"
          ]
        },
        {
          "output_type": "stream",
          "name": "stderr",
          "text": [
            "\r 97%|█████████▋| 30/31 [03:02<00:05,  5.80s/it]"
          ]
        },
        {
          "output_type": "stream",
          "name": "stdout",
          "text": [
            "\n",
            "Processing: /content/drive/MyDrive/learnedSpectrum/fmri_data/ds000052/ds052_R2.0.0/sub-02/func/sub-02_task-weatherprediction_run-2_bold.nii.gz\n",
            "Original shape: (64, 64, 21, 225)\n",
            "\n",
            "Resizing data from [ 64  64  21 225] to [ 64  64  30 208]\n",
            "Zoom factors: [1.         1.         1.42857143 0.92444444]\n",
            "Resized shape: (64, 64, 30, 208)\n"
          ]
        },
        {
          "output_type": "stream",
          "name": "stderr",
          "text": [
            "100%|██████████| 31/31 [03:08<00:00,  6.10s/it]\n"
          ]
        },
        {
          "output_type": "stream",
          "name": "stdout",
          "text": [
            "\n",
            "Successfully preprocessed 31 files\n",
            "DataLoader creation successful!\n",
            "\n",
            "Testing batch loading...\n",
            "Batch shape: torch.Size([4, 32, 64, 30, 208])\n",
            "Labels shape: torch.Size([4])\n",
            "\n",
            "GPU Memory Stats:\n",
            "Allocated: 0.00 GB\n",
            "Reserved: 0.00 GB\n",
            "Max Allocated: 0.00 GB\n",
            "\n"
          ]
        }
      ],
      "source": [
        "try:\n",
        "    print(\"\\nCreating dataloaders...\")\n",
        "    train_loader, val_loader = create_dataloaders(dataset_paths, dummy_labels, config)\n",
        "    print(\"DataLoader creation successful!\")\n",
        "\n",
        "    print(\"\\nTesting batch loading...\")\n",
        "    sample_batch, sample_labels = next(iter(train_loader))\n",
        "    print(f\"Batch shape: {sample_batch.shape}\")\n",
        "    print(f\"Labels shape: {sample_labels.shape}\")\n",
        "\n",
        "except Exception as e:\n",
        "    print(f\"Error creating dataloaders: {e}\")\n",
        "\n",
        "finally:\n",
        "    clear_memory()\n",
        "    print_memory_stats()"
      ]
    },
    {
      "cell_type": "markdown",
      "metadata": {
        "id": "PE8aC_ii5QDk"
      },
      "source": [
        "Visualize the batch"
      ]
    },
    {
      "cell_type": "code",
      "execution_count": null,
      "metadata": {
        "colab": {
          "base_uri": "https://localhost:8080/",
          "height": 693
        },
        "id": "Su3-lO9w5Qx9",
        "outputId": "d01d6827-f862-4df1-c22d-04f314ab4543"
      },
      "outputs": [
        {
          "output_type": "stream",
          "name": "stdout",
          "text": [
            "\n",
            "Batch information:\n",
            "Batch shape: torch.Size([4, 32, 64, 30, 208])\n",
            "Labels shape: torch.Size([4])\n"
          ]
        },
        {
          "output_type": "display_data",
          "data": {
            "text/plain": [
              "<Figure size 1500x500 with 6 Axes>"
            ],
            "image/png": "[encoded data removed]"
          },
          "metadata": {}
        },
        {
          "output_type": "display_data",
          "data": {
            "text/plain": [
              "<Figure size 1000x300 with 1 Axes>"
            ],
            "image/png": "[encoded data removed]"
          },
          "metadata": {}
        }
      ],
      "source": [
        "visualize_batch(sample_batch, sample_labels)"
      ]
    },
    {
      "cell_type": "markdown",
      "metadata": {
        "id": "YblTLuyA5R3f"
      },
      "source": [
        "Print some statistics about the data"
      ]
    },
    {
      "cell_type": "code",
      "execution_count": null,
      "metadata": {
        "colab": {
          "base_uri": "https://localhost:8080/"
        },
        "id": "FfWYXfTm5Szt",
        "outputId": "0be5d523-23d4-4f4b-db28-60687d33a910"
      },
      "outputs": [
        {
          "output_type": "stream",
          "name": "stdout",
          "text": [
            "\n",
            "Data statistics:\n",
            "Mean value: -0.000\n",
            "Std deviation: 0.680\n",
            "Min value: -2.527\n",
            "Max value: 4.112\n"
          ]
        }
      ],
      "source": [
        "print(\"\\nData statistics:\")\n",
        "print(f\"Mean value: {sample_batch.mean():.3f}\")\n",
        "print(f\"Std deviation: {sample_batch.std():.3f}\")\n",
        "print(f\"Min value: {sample_batch.min():.3f}\")\n",
        "print(f\"Max value: {sample_batch.max():.3f}\")"
      ]
    },
    {
      "cell_type": "markdown",
      "metadata": {
        "id": "Zl-yYTD65Ttt"
      },
      "source": [
        "Show label distribution for this batch"
      ]
    },
    {
      "cell_type": "code",
      "execution_count": null,
      "metadata": {
        "colab": {
          "base_uri": "https://localhost:8080/"
        },
        "id": "xJaGbkY65VM3",
        "outputId": "5666b105-ee40-4f6e-f960-0d1a6e009cbb"
      },
      "outputs": [
        {
          "output_type": "stream",
          "name": "stdout",
          "text": [
            "\n",
            "Label distribution in batch:\n",
            "Sample 0: 0.598\n",
            "Sample 1: 0.624\n",
            "Sample 2: 0.035\n",
            "Sample 3: 0.818\n"
          ]
        }
      ],
      "source": [
        "print(\"\\nLabel distribution in batch:\")\n",
        "for i, label in enumerate(sample_labels):\n",
        "    print(f\"Sample {i}: {label.item():.3f}\")"
      ]
    },
    {
      "cell_type": "markdown",
      "metadata": {
        "id": "wNKyG5eO6DoH"
      },
      "source": [
        "## 3D Vision Transformer"
      ]
    },
    {
      "cell_type": "code",
      "execution_count": null,
      "metadata": {
        "id": "RsSqTmEh6Sx_"
      },
      "outputs": [],
      "source": [
        "class PatchEmbedding3D(nn.Module):\n",
        "    def __init__(self, patch_size=7, in_channels=64, embed_dim=768):\n",
        "        super().__init__()\n",
        "        self.patch_size = patch_size\n",
        "        self.proj = nn.Conv3d(in_channels, embed_dim,\n",
        "                             kernel_size=patch_size,\n",
        "                             stride=patch_size)\n",
        "\n",
        "        nn.init.normal_(self.proj.weight, std=0.02)\n",
        "        nn.init.zeros_(self.proj.bias)\n",
        "\n",
        "    def forward(self, x):\n",
        "        B, T, C, H, W, D = x.shape\n",
        "        x = x.view(B * T, C, H, W, D)\n",
        "\n",
        "        print(f\"\\nPatch embedding details:\")\n",
        "        print(f\"Input shape to conv3d: {x.shape}\")\n",
        "\n",
        "        x = self.proj(x)\n",
        "        print(f\"After conv3d: {x.shape}\")\n",
        "\n",
        "        x = rearrange(x, '(b t) e h w d -> b (t h w d) e', t=T)\n",
        "        print(f\"After rearrange: {x.shape}\")\n",
        "\n",
        "        return x"
      ]
    },
    {
      "cell_type": "code",
      "execution_count": null,
      "metadata": {
        "id": "keqX6wrT6UFD"
      },
      "outputs": [],
      "source": [
        "class MultiheadAttention3D(nn.Module):\n",
        "    def __init__(self, embed_dim, num_heads, dropout=0.1):\n",
        "        super().__init__()\n",
        "        self.num_heads = num_heads\n",
        "        self.head_dim = embed_dim // num_heads\n",
        "        self.scale = self.head_dim ** -0.5\n",
        "\n",
        "        self.qkv = nn.Linear(embed_dim, embed_dim * 3)\n",
        "        self.attn_drop = nn.Dropout(dropout)\n",
        "        self.proj = nn.Linear(embed_dim, embed_dim)\n",
        "        self.proj_drop = nn.Dropout(dropout)\n",
        "\n",
        "    def forward(self, x, mask=None):\n",
        "        B, N, C = x.shape\n",
        "        qkv = self.qkv(x).reshape(B, N, 3, self.num_heads, C // self.num_heads)\n",
        "        qkv = qkv.permute(2, 0, 3, 1, 4)\n",
        "        q, k, v = qkv[0], qkv[1], qkv[2]\n",
        "\n",
        "        attn = (q @ k.transpose(-2, -1)) * self.scale\n",
        "\n",
        "        if mask is not None:\n",
        "            attn = attn.masked_fill(mask == 0, float('-inf'))\n",
        "\n",
        "        attn = attn.softmax(dim=-1)\n",
        "        attn = self.attn_drop(attn)\n",
        "\n",
        "        x = (attn @ v).transpose(1, 2).reshape(B, N, C)\n",
        "        x = self.proj(x)\n",
        "        x = self.proj_drop(x)\n",
        "\n",
        "        return x, attn"
      ]
    },
    {
      "cell_type": "code",
      "execution_count": null,
      "metadata": {
        "id": "9LYD8dbL6Vve"
      },
      "outputs": [],
      "source": [
        "class TransformerBlock3D(nn.Module):\n",
        "    def __init__(self, embed_dim=384, num_heads=6, mlp_ratio=2, dropout=0.1):\n",
        "        super().__init__()\n",
        "        self.norm1 = nn.LayerNorm(embed_dim)\n",
        "        self.attn = nn.MultiheadAttention(embed_dim, num_heads, dropout=dropout, batch_first=True)\n",
        "        self.norm2 = nn.LayerNorm(embed_dim)\n",
        "\n",
        "        # Simplified MLP\n",
        "        self.mlp = nn.Sequential(\n",
        "            nn.Linear(embed_dim, int(embed_dim * mlp_ratio)),\n",
        "            nn.GELU(),\n",
        "            nn.Dropout(dropout),\n",
        "            nn.Linear(int(embed_dim * mlp_ratio), embed_dim),\n",
        "            nn.Dropout(dropout)\n",
        "        )\n",
        "\n",
        "    def forward(self, x):\n",
        "        # Memory-efficient attention computation\n",
        "        attn_out, attn_weights = self.attn(self.norm1(x), self.norm1(x), self.norm1(x))\n",
        "        x = x + attn_out\n",
        "        x = x + self.mlp(self.norm2(x))\n",
        "        return x, attn_weights"
      ]
    },
    {
      "cell_type": "code",
      "execution_count": null,
      "metadata": {
        "id": "uocWzPAj6Y6k"
      },
      "outputs": [],
      "source": [
        "class BrainViT(nn.Module):\n",
        "    def __init__(self,\n",
        "                 config=None,\n",
        "                 patch_size=8,\n",
        "                 embed_dim=384,\n",
        "                 num_heads=6,\n",
        "                 num_layers=6,\n",
        "                 num_classes=1,\n",
        "                 dropout=0.1):\n",
        "        super().__init__()\n",
        "\n",
        "        if config is None:\n",
        "            config = Config()\n",
        "\n",
        "        embed_dim = ((embed_dim // (num_heads * 6)) * (num_heads * 6))\n",
        "        self.embed_dim = embed_dim\n",
        "        self.config = config\n",
        "        self.patch_size = patch_size\n",
        "\n",
        "        self.num_patches_h = 64 // patch_size\n",
        "        self.num_patches_w = 30 // patch_size\n",
        "        self.num_patches_d = 208 // patch_size\n",
        "        self.total_spatial_patches = (self.num_patches_h *\n",
        "                                    self.num_patches_w *\n",
        "                                    self.num_patches_d)\n",
        "\n",
        "        # Simplified input processing\n",
        "        self.input_conv = nn.Sequential(\n",
        "            nn.Conv3d(1, 32, kernel_size=3, padding=1),\n",
        "            nn.BatchNorm3d(32),\n",
        "            nn.GELU(),\n",
        "            ResidualBlock3D(32),\n",
        "            nn.Conv3d(32, 64, kernel_size=3, padding=1),\n",
        "            nn.BatchNorm3d(64),\n",
        "            nn.GELU()\n",
        "        )\n",
        "\n",
        "        # Efficient patch embedding\n",
        "        self.patch_embed = nn.Sequential(\n",
        "            nn.Conv3d(64, embed_dim, kernel_size=patch_size, stride=patch_size),\n",
        "            Rearrange('b c h w d -> b (h w d) c'),\n",
        "            nn.LayerNorm(embed_dim)\n",
        "        )\n",
        "\n",
        "        self.pos_embed = nn.Parameter(torch.zeros(1, self.total_spatial_patches + 1, embed_dim))\n",
        "        self.cls_token = nn.Parameter(torch.zeros(1, 1, embed_dim))\n",
        "        self.pos_drop = nn.Dropout(dropout)\n",
        "\n",
        "        # Simplified temporal attention\n",
        "        self.temporal_attn = nn.Sequential(\n",
        "            nn.LayerNorm(embed_dim),\n",
        "            nn.Linear(embed_dim, embed_dim // 2),\n",
        "            nn.GELU(),\n",
        "            nn.Linear(embed_dim // 2, 1)\n",
        "        )\n",
        "\n",
        "        # Transformer blocks\n",
        "        self.blocks = nn.ModuleList([\n",
        "            TransformerBlock3D(\n",
        "                embed_dim=embed_dim,\n",
        "                num_heads=num_heads,\n",
        "                mlp_ratio=4,\n",
        "                dropout=dropout\n",
        "            )\n",
        "            for _ in range(num_layers)\n",
        "        ])\n",
        "\n",
        "        self.norm = nn.LayerNorm(embed_dim)\n",
        "\n",
        "        # Task-specific heads\n",
        "        self.knowledge_head = nn.Sequential(\n",
        "            nn.Linear(embed_dim, embed_dim),\n",
        "            nn.LayerNorm(embed_dim),\n",
        "            nn.GELU(),\n",
        "            nn.Dropout(0.1),\n",
        "            nn.Linear(embed_dim, num_classes)\n",
        "        )\n",
        "\n",
        "        self.region_head = nn.Sequential(\n",
        "            nn.Linear(embed_dim, embed_dim),\n",
        "            nn.LayerNorm(embed_dim),\n",
        "            nn.GELU(),\n",
        "            nn.Dropout(0.1),\n",
        "            nn.Linear(embed_dim, 116)\n",
        "        )\n",
        "\n",
        "        self.state_head = nn.Sequential(\n",
        "            nn.Linear(embed_dim, embed_dim),\n",
        "            nn.LayerNorm(embed_dim),\n",
        "            nn.GELU(),\n",
        "            nn.Dropout(0.1),\n",
        "            nn.Linear(embed_dim, 8)\n",
        "        )\n",
        "\n",
        "        self.apply(self._init_weights)\n",
        "        self._init_position_embedding()\n",
        "\n",
        "    def _init_weights(self, m):\n",
        "        if isinstance(m, (nn.Linear, nn.Conv3d)):\n",
        "            torch.nn.init.trunc_normal_(m.weight, std=0.02)\n",
        "            if m.bias is not None:\n",
        "                nn.init.zeros_(m.bias)\n",
        "        elif isinstance(m, (nn.LayerNorm, nn.BatchNorm3d)):\n",
        "            nn.init.ones_(m.weight)\n",
        "            nn.init.zeros_(m.bias)\n",
        "\n",
        "    def _init_position_embedding(self):\n",
        "        position_embedding = get_3d_sincos_pos_embed(\n",
        "            self.embed_dim,\n",
        "            (self.num_patches_h, self.num_patches_w, self.num_patches_d),\n",
        "            cls_token=True\n",
        "        )\n",
        "        self.pos_embed.data.copy_(torch.from_numpy(position_embedding).float().unsqueeze(0))\n",
        "        torch.nn.init.normal_(self.cls_token, std=0.02)\n",
        "\n",
        "    def forward(self, x):\n",
        "        \"\"\"Fixed forward pass with proper dimension handling\"\"\"\n",
        "        B = x.shape[0]\n",
        "\n",
        "        # Handle input shape\n",
        "        if len(x.shape) == 6:  # [B, T, H, W, D, C]\n",
        "            x = x.squeeze(-1)  # Remove last dimension if it's 1\n",
        "            T, H, W, D = x.shape[1:]\n",
        "        else:  # [B, T, H, W, D]\n",
        "            T, H, W, D = x.shape[1:]\n",
        "\n",
        "        # Reshape for 3D convolution [B*T, 1, H, W, D]\n",
        "        x = x.view(-1, 1, H, W, D)\n",
        "\n",
        "        # Feature extraction\n",
        "        x = self.input_conv(x)  # [B*T, 64, H, W, D]\n",
        "\n",
        "        # Patch embedding\n",
        "        x = self.patch_embed(x)  # [B*T, N, C]\n",
        "\n",
        "        # Reshape to include time dimension\n",
        "        x = x.view(B, T, -1, self.embed_dim)  # [B, T, N, C]\n",
        "\n",
        "        # Temporal pooling\n",
        "        x = self.temporal_pool(x)  # [B, N, C]\n",
        "\n",
        "        # Add CLS token\n",
        "        cls_tokens = self.cls_token.expand(B, -1, -1)  # [B, 1, C]\n",
        "        x = torch.cat([cls_tokens, x], dim=1)  # [B, N+1, C]\n",
        "\n",
        "        # Add position embedding\n",
        "        x = x + self.pos_embed\n",
        "        x = self.pos_drop(x)\n",
        "\n",
        "        # Transformer blocks\n",
        "        attention_weights = []\n",
        "        for block in self.blocks:\n",
        "            x, attn = block(x)\n",
        "            attention_weights.append(attn)\n",
        "\n",
        "        # Final layernorm\n",
        "        x = self.norm(x)\n",
        "\n",
        "        # Use CLS token for prediction\n",
        "        x = x[:, 0]  # [B, C]\n",
        "\n",
        "        return {\n",
        "            'knowledge': self.knowledge_head(x),\n",
        "            'regions': self.region_head(x),\n",
        "            'states': self.state_head(x),\n",
        "            'attention_maps': attention_weights\n",
        "        }\n",
        "\n",
        "    def temporal_pool(self, x):\n",
        "        \"\"\"Fixed temporal pooling\"\"\"\n",
        "        B, T, N, C = x.shape\n",
        "\n",
        "        # Compute attention weights [B, T, N]\n",
        "        x_reshape = x.view(-1, C)  # [B*T*N, C]\n",
        "        attn = self.temporal_attn(x_reshape)  # [B*T*N, 1]\n",
        "        attn = attn.view(B, T, N)  # [B, T, N]\n",
        "        attn = F.softmax(attn, dim=1)  # Normalize over time\n",
        "\n",
        "        # Apply attention\n",
        "        attn = attn.unsqueeze(-1)  # [B, T, N, 1]\n",
        "        x = (x * attn).sum(dim=1)  # [B, N, C]\n",
        "\n",
        "        return x"
      ]
    },
    {
      "cell_type": "code",
      "source": [
        "class ResidualLinear(nn.Module):\n",
        "    def __init__(self, dim, hidden_dim=None):\n",
        "        super().__init__()\n",
        "        hidden_dim = hidden_dim or dim\n",
        "        self.net = nn.Sequential(\n",
        "            nn.Linear(dim, hidden_dim),\n",
        "            nn.GELU(),\n",
        "            nn.Dropout(0.1),\n",
        "            nn.Linear(hidden_dim, dim),\n",
        "            nn.Dropout(0.1)\n",
        "        )\n",
        "\n",
        "    def forward(self, x):\n",
        "        return x + self.net(x)"
      ],
      "metadata": {
        "id": "njRPftXIpaX-"
      },
      "execution_count": null,
      "outputs": []
    },
    {
      "cell_type": "code",
      "execution_count": null,
      "metadata": {
        "id": "iyQny6B8S2Ig"
      },
      "outputs": [],
      "source": [
        "class ResidualBlock3D(nn.Module):\n",
        "    def __init__(self, channels):\n",
        "        super().__init__()\n",
        "        self.conv1 = nn.Conv3d(channels, channels, kernel_size=3, padding=1)\n",
        "        self.bn1 = nn.BatchNorm3d(channels)\n",
        "        self.conv2 = nn.Conv3d(channels, channels, kernel_size=3, padding=1)\n",
        "        self.bn2 = nn.BatchNorm3d(channels)\n",
        "\n",
        "    def forward(self, x):\n",
        "        residual = x\n",
        "        x = F.relu(self.bn1(self.conv1(x)))\n",
        "        x = self.bn2(self.conv2(x))\n",
        "        x += residual\n",
        "        x = F.relu(x)\n",
        "        return x"
      ]
    },
    {
      "cell_type": "code",
      "execution_count": null,
      "metadata": {
        "id": "9i-0yYHLS3dT"
      },
      "outputs": [],
      "source": [
        "class PositionAwareConv3D(nn.Module):\n",
        "    def __init__(self, in_channels, out_channels, kernel_size, stride):\n",
        "        super().__init__()\n",
        "        self.conv = nn.Conv3d(in_channels, out_channels, kernel_size, stride)\n",
        "        self.pos_embed = nn.Parameter(torch.zeros(1, in_channels, kernel_size, kernel_size, kernel_size))\n",
        "\n",
        "    def forward(self, x):\n",
        "        B, C, H, W, D = x.shape\n",
        "        x = x + self.pos_embed.expand(B, -1, -1, -1, -1)[:, :, :H, :W, :D]\n",
        "        return self.conv(x)"
      ]
    },
    {
      "cell_type": "code",
      "execution_count": null,
      "metadata": {
        "id": "8d1IwVMIS4-o"
      },
      "outputs": [],
      "source": [
        "class TransformerBlock3D(nn.Module):\n",
        "    def __init__(self, embed_dim, num_heads, mlp_ratio=4., dropout=0.1,\n",
        "                 attention_dropout=0.1, path_dropout=0.2):\n",
        "        super().__init__()\n",
        "        self.norm1 = nn.LayerNorm(embed_dim, eps=1e-6)\n",
        "        self.attn = MultiheadAttention3D(embed_dim, num_heads, dropout=attention_dropout)\n",
        "        self.drop_path = DropPath(path_dropout) if path_dropout > 0. else nn.Identity()\n",
        "\n",
        "        self.norm2 = nn.LayerNorm(embed_dim, eps=1e-6)\n",
        "        mlp_hidden_dim = int(embed_dim * mlp_ratio)\n",
        "        self.mlp = nn.Sequential(\n",
        "            nn.Linear(embed_dim, mlp_hidden_dim),\n",
        "            nn.GELU(),\n",
        "            nn.Dropout(dropout),\n",
        "            nn.Linear(mlp_hidden_dim, embed_dim),\n",
        "            nn.Dropout(dropout)\n",
        "        )\n",
        "\n",
        "    def forward(self, x):\n",
        "        attn_out, attn_weights = self.attn(self.norm1(x))\n",
        "        x = x + self.drop_path(attn_out)\n",
        "        x = x + self.drop_path(self.mlp(self.norm2(x)))\n",
        "        return x, attn_weights"
      ]
    },
    {
      "cell_type": "code",
      "execution_count": null,
      "metadata": {
        "id": "2zzHu9HtS6ay"
      },
      "outputs": [],
      "source": [
        "def get_3d_sincos_pos_embed(embed_dim, patch_shape, cls_token=True):\n",
        "    \"\"\"\n",
        "    Calculate 3D sinusoidal positional embeddings.\n",
        "    patch_shape: tuple of (H, W, D) patch dimensions\n",
        "    embed_dim: embedding dimension (must be divisible by 6)\n",
        "    \"\"\"\n",
        "    if isinstance(patch_shape, int):\n",
        "        ph = pw = pd = patch_shape\n",
        "    else:\n",
        "        ph, pw, pd = patch_shape\n",
        "\n",
        "    assert embed_dim % 6 == 0, 'Embed dimension must be divisible by 6 for 3D position encoding'\n",
        "\n",
        "    # Each dimension gets embed_dim // 3 features\n",
        "    dim_embed = embed_dim // 3\n",
        "\n",
        "    # Create position meshgrid\n",
        "    pos_h = np.arange(ph, dtype=np.float32)\n",
        "    pos_w = np.arange(pw, dtype=np.float32)\n",
        "    pos_d = np.arange(pd, dtype=np.float32)\n",
        "\n",
        "    # Normalize positions to [0, 1]\n",
        "    pos_h = pos_h / ph\n",
        "    pos_w = pos_w / pw\n",
        "    pos_d = pos_d / pd\n",
        "\n",
        "    # Create meshgrid\n",
        "    pos_h, pos_w, pos_d = np.meshgrid(pos_h, pos_w, pos_d, indexing='ij')\n",
        "\n",
        "    # Flatten positions\n",
        "    pos_h = pos_h.reshape(-1)\n",
        "    pos_w = pos_w.reshape(-1)\n",
        "    pos_d = pos_d.reshape(-1)\n",
        "\n",
        "    # Calculate embeddings for each axis\n",
        "    emb_h = get_1d_sincos_pos_embed_from_grid(dim_embed, pos_h)\n",
        "    emb_w = get_1d_sincos_pos_embed_from_grid(dim_embed, pos_w)\n",
        "    emb_d = get_1d_sincos_pos_embed_from_grid(dim_embed, pos_d)\n",
        "\n",
        "    # Combine embeddings\n",
        "    pos_embed = np.concatenate([emb_h, emb_w, emb_d], axis=1)\n",
        "\n",
        "    if cls_token:\n",
        "        pos_embed = np.concatenate([np.zeros([1, embed_dim]), pos_embed], axis=0)\n",
        "\n",
        "    return pos_embed\n"
      ]
    },
    {
      "cell_type": "code",
      "execution_count": null,
      "metadata": {
        "id": "r_Ry432fS7fN"
      },
      "outputs": [],
      "source": [
        "def get_3d_sincos_pos_embed_from_grid(embed_dim, grid):\n",
        "    assert embed_dim % 3 == 0\n",
        "    emb_h = get_1d_sincos_pos_embed_from_grid(embed_dim // 3, grid[0])  # (H*W*D)\n",
        "    emb_w = get_1d_sincos_pos_embed_from_grid(embed_dim // 3, grid[1])  # (H*W*D)\n",
        "    emb_d = get_1d_sincos_pos_embed_from_grid(embed_dim // 3, grid[2])  # (H*W*D)\n",
        "    emb = np.concatenate([emb_h, emb_w, emb_d], axis=1) # (H*W*D, D)\n",
        "    return emb"
      ]
    },
    {
      "cell_type": "code",
      "execution_count": null,
      "metadata": {
        "id": "yB0Rua9US84B"
      },
      "outputs": [],
      "source": [
        "def get_1d_sincos_pos_embed_from_grid(embed_dim, pos):\n",
        "    \"\"\"\n",
        "    embed_dim: output dimension for each position\n",
        "    pos: array of positions to be encoded: size (M,)\n",
        "    out: (M, D)\n",
        "    \"\"\"\n",
        "    assert embed_dim % 2 == 0\n",
        "    omega = np.arange(embed_dim // 2, dtype=np.float32)\n",
        "    omega /= embed_dim / 2.\n",
        "    omega = 1. / 10000**omega  # (D/2,)\n",
        "\n",
        "    pos = pos.reshape(-1)  # (M,)\n",
        "    out = np.einsum('m,d->md', pos, omega)  # (M, D/2), outer product\n",
        "\n",
        "    emb_sin = np.sin(out)  # (M, D/2)\n",
        "    emb_cos = np.cos(out)  # (M, D/2)\n",
        "\n",
        "    emb = np.concatenate([emb_sin, emb_cos], axis=1)  # (M, D)\n",
        "    return emb"
      ]
    },
    {
      "cell_type": "markdown",
      "metadata": {
        "id": "gKSGBEa76b62"
      },
      "source": [
        "Test the model"
      ]
    },
    {
      "cell_type": "code",
      "execution_count": null,
      "metadata": {
        "id": "wqh4Ls-_6dXr"
      },
      "outputs": [],
      "source": [
        "def test_model(config):\n",
        "    print(\"Testing memory-efficient BrainViT model...\")\n",
        "\n",
        "    try:\n",
        "        # Clear any existing cached memory\n",
        "        if torch.cuda.is_available():\n",
        "            torch.cuda.empty_cache()\n",
        "\n",
        "        # Create model\n",
        "        model = BrainViT(config=config)\n",
        "        print(f\"Model parameters: {sum(p.numel() for p in model.parameters()):,}\")\n",
        "\n",
        "        # Test with minimal batch size\n",
        "        batch_size = 1\n",
        "        time_steps = 32\n",
        "        sample_batch = torch.randn(batch_size, time_steps, 64, 30, 208, 1)\n",
        "        print(f\"Input shape: {sample_batch.shape}\")\n",
        "\n",
        "        # Forward pass with gradient disabled\n",
        "        with torch.no_grad():\n",
        "            outputs = model(sample_batch)\n",
        "\n",
        "        print(\"\\nOutput shapes:\")\n",
        "        for key, value in outputs.items():\n",
        "            if isinstance(value, torch.Tensor):\n",
        "                print(f\"{key}: {value.shape}\")\n",
        "            elif isinstance(value, list):\n",
        "                print(f\"{key}: {len(value)} attention maps\")\n",
        "\n",
        "        if torch.cuda.is_available():\n",
        "            print(f\"\\nPeak GPU memory: {torch.cuda.max_memory_allocated() / 1e9:.2f} GB\")\n",
        "\n",
        "        return True\n",
        "\n",
        "    except Exception as e:\n",
        "        print(f\"\\nError during model test: {e}\")\n",
        "        import traceback\n",
        "        traceback.print_exc()\n",
        "        return False\n",
        "\n",
        "    finally:\n",
        "        # Clean up\n",
        "        if torch.cuda.is_available():\n",
        "            torch.cuda.empty_cache()\n",
        "\n",
        "        # Only try to delete variables that exist\n",
        "        for var in ['model', 'sample_batch', 'outputs']:\n",
        "            if var in locals():\n",
        "                del locals()[var]\n",
        "\n",
        "        gc.collect()"
      ]
    },
    {
      "cell_type": "markdown",
      "metadata": {
        "id": "vLs90di47zuU"
      },
      "source": [
        "## Training Setup"
      ]
    },
    {
      "cell_type": "markdown",
      "metadata": {
        "id": "9TYQ-XTP8Fj1"
      },
      "source": [
        "#### Training Configuration"
      ]
    },
    {
      "cell_type": "code",
      "execution_count": null,
      "metadata": {
        "id": "UwRrsogQ8HWc"
      },
      "outputs": [],
      "source": [
        "class TrainingConfig:\n",
        "    def __init__(self):\n",
        "        # Model architecture\n",
        "        self.VOLUME_SIZE = (64, 64, 30, 208)\n",
        "        self.TIME_STEPS = 32\n",
        "        self.PATCH_SIZE = 7\n",
        "        self.NUM_PATCHES = 216\n",
        "        self.EMBED_DIM = 512  # Increased from 384\n",
        "        self.NUM_HEADS = 8\n",
        "        self.NUM_LAYERS = 8   # Increased from 6\n",
        "        self.DROPOUT = 0.2\n",
        "\n",
        "        # Training parameters\n",
        "        self.batch_size = 4\n",
        "        self.learning_rate = 1e-4\n",
        "        self.weight_decay = 0.05\n",
        "        self.num_epochs = 100  # Increased for better convergence\n",
        "        self.grad_clip = 1.0\n",
        "        self.warmup_epochs = 10\n",
        "        self.min_lr = 1e-6\n",
        "\n",
        "        # Device and precision settings\n",
        "        self.device = 'cuda' if torch.cuda.is_available() else 'cpu'\n",
        "        self.fp16 = True if self.device == 'cuda' else False\n",
        "        self.num_workers = 4\n",
        "\n",
        "        # Loss weighting with curriculum\n",
        "        self.TASK_WEIGHTS = {\n",
        "            'knowledge': 1.0,\n",
        "            'regions': 0.3,\n",
        "            'states': 0.3\n",
        "        }\n",
        "\n",
        "        # Early stopping\n",
        "        self.patience = 15\n",
        "        self.min_delta = 1e-4\n",
        "\n",
        "        # Gradient accumulation\n",
        "        self.gradient_accumulation_steps = 4\n",
        "\n",
        "        # For backward compatibility\n",
        "        self.BATCH_SIZE = self.batch_size\n",
        "        self.LEARNING_RATE = self.learning_rate\n",
        "        self.WEIGHT_DECAY = self.weight_decay\n",
        "        self.NUM_EPOCHS = self.num_epochs\n",
        "        self.GRAD_CLIP = self.grad_clip\n",
        "        self.FP16 = self.fp16\n",
        "        self.NUM_WORKERS = self.num_workers"
      ]
    },
    {
      "cell_type": "code",
      "execution_count": null,
      "metadata": {
        "id": "MVWNfsyc8IxV"
      },
      "outputs": [],
      "source": [
        "def test_config():\n",
        "    config = TrainingConfig()\n",
        "    print(\"\\nTraining Configuration:\")\n",
        "    print(config)\n",
        "    return config"
      ]
    },
    {
      "cell_type": "markdown",
      "metadata": {
        "id": "DvezXqrUcF43"
      },
      "source": [
        "#### Model Config Test"
      ]
    },
    {
      "cell_type": "code",
      "execution_count": null,
      "metadata": {
        "colab": {
          "base_uri": "https://localhost:8080/"
        },
        "id": "xWIS1IgCcIOQ",
        "outputId": "8336dbdb-99b5-464f-e279-22e998774cdb"
      },
      "outputs": [
        {
          "output_type": "stream",
          "name": "stdout",
          "text": [
            "Testing memory-efficient BrainViT model...\n",
            "Model parameters: 21,997,902\n",
            "Input shape: torch.Size([1, 32, 64, 30, 208, 1])\n",
            "\n",
            "Output shapes:\n",
            "knowledge: torch.Size([1, 1])\n",
            "regions: torch.Size([1, 116])\n",
            "states: torch.Size([1, 8])\n",
            "attention_maps: 6 attention maps\n",
            "\n",
            "Peak GPU memory: 40.52 GB\n",
            "\n",
            "Model test successful!\n"
          ]
        }
      ],
      "source": [
        "config = TrainingConfig()\n",
        "success = test_model(config)\n",
        "if success:\n",
        "    print(\"\\nModel test successful!\")\n",
        "else:\n",
        "    print(\"\\nModel test failed!\")"
      ]
    },
    {
      "cell_type": "markdown",
      "metadata": {
        "id": "r49evR288Kpm"
      },
      "source": [
        "#### Loss Functions"
      ]
    },
    {
      "cell_type": "code",
      "execution_count": null,
      "metadata": {
        "id": "23zBosIJdC-p"
      },
      "outputs": [],
      "source": [
        "def handle_loss_computation_error(e, outputs):\n",
        "    \"\"\"Handle errors during loss computation\"\"\"\n",
        "    print(f\"\\nError computing losses: {e}\")\n",
        "    print(\"Output shapes:\")\n",
        "    for k, v in outputs.items():\n",
        "        if isinstance(v, torch.Tensor):\n",
        "            print(f\"{k}: {v.shape}\")\n",
        "        elif isinstance(v, list):\n",
        "            print(f\"{k}: {len(v)} elements\")\n",
        "    cleanup_memory()"
      ]
    },
    {
      "cell_type": "code",
      "execution_count": null,
      "metadata": {
        "id": "xn0pWkgb8MLR"
      },
      "outputs": [],
      "source": [
        "def compute_losses(outputs, batch, config):\n",
        "    \"\"\"Enhanced loss computation with proper tensor shapes\"\"\"\n",
        "    knowledge_labels = batch[1].to(config.device)\n",
        "    batch_size = knowledge_labels.size(0)\n",
        "\n",
        "    # Create dummy labels for auxiliary tasks\n",
        "    region_labels = torch.zeros(batch_size, 116).to(config.device)\n",
        "    state_labels = torch.zeros(batch_size, dtype=torch.long).to(config.device)\n",
        "\n",
        "    losses = {}\n",
        "\n",
        "    try:\n",
        "        # Knowledge loss with proper shape handling\n",
        "        knowledge_pred = outputs['knowledge'].view(-1)  # Flatten prediction\n",
        "        knowledge_labels = knowledge_labels.view(-1)  # Flatten labels\n",
        "        losses['knowledge'] = compute_focal_loss(\n",
        "            knowledge_pred,\n",
        "            knowledge_labels,\n",
        "            alpha=0.25,\n",
        "            gamma=2.0\n",
        "        )\n",
        "\n",
        "        # Region loss\n",
        "        region_pred = outputs['regions']\n",
        "        losses['regions'] = F.binary_cross_entropy_with_logits(\n",
        "            region_pred,\n",
        "            region_labels,\n",
        "            reduction='mean',\n",
        "            pos_weight=torch.ones(116).to(config.device) * 2\n",
        "        )\n",
        "\n",
        "        # State loss\n",
        "        state_pred = outputs['states']\n",
        "        losses['states'] = F.cross_entropy(\n",
        "            state_pred,\n",
        "            state_labels,\n",
        "            label_smoothing=0.1\n",
        "        )\n",
        "\n",
        "        # Compute weighted total loss\n",
        "        losses['total'] = (\n",
        "            config.TASK_WEIGHTS['knowledge'] * losses['knowledge'] +\n",
        "            config.TASK_WEIGHTS['regions'] * losses['regions'] +\n",
        "            config.TASK_WEIGHTS['states'] * losses['states']\n",
        "        )\n",
        "\n",
        "        return losses\n",
        "\n",
        "    except Exception as e:\n",
        "        print(f\"\\nError computing losses: {e}\")\n",
        "        print(\"Output shapes:\")\n",
        "        for k, v in outputs.items():\n",
        "            if isinstance(v, torch.Tensor):\n",
        "                print(f\"{k}: {v.shape}\")\n",
        "            elif isinstance(v, list):\n",
        "                print(f\"{k}: {len(v)} elements\")\n",
        "        torch.cuda.empty_cache()\n",
        "        raise"
      ]
    },
    {
      "cell_type": "code",
      "execution_count": null,
      "metadata": {
        "id": "I58Plys_UQXP"
      },
      "outputs": [],
      "source": [
        "def compute_focal_loss(pred, target, alpha=0.25, gamma=2.0):\n",
        "    \"\"\"Focal loss for better handling of hard examples\"\"\"\n",
        "    bce_loss = F.binary_cross_entropy_with_logits(pred, target, reduction='none')\n",
        "    pt = torch.exp(-bce_loss)\n",
        "    focal_loss = alpha * (1-pt)**gamma * bce_loss\n",
        "    return focal_loss.mean()"
      ]
    },
    {
      "cell_type": "markdown",
      "metadata": {
        "id": "I16n7rkj8OGz"
      },
      "source": [
        "Test loss computation"
      ]
    },
    {
      "cell_type": "code",
      "execution_count": null,
      "metadata": {
        "id": "r9MbPBwy8O1n"
      },
      "outputs": [],
      "source": [
        "def test_losses():\n",
        "    batch_size = config.BATCH_SIZE\n",
        "    dummy_outputs = {\n",
        "        'knowledge': torch.randn(batch_size, 1).to(config.device),\n",
        "        'regions': torch.randn(batch_size, 116).to(config.device),\n",
        "        'states': torch.randn(batch_size, 8).to(config.device)\n",
        "    }\n",
        "    dummy_batch = (\n",
        "        torch.randn(batch_size, 32, 64, 30, 208).to(config.device),\n",
        "        torch.randn(batch_size).to(config.device)\n",
        "    )\n",
        "\n",
        "    losses = compute_losses(dummy_outputs, dummy_batch, config)\n",
        "    print(\"\\nTest losses:\")\n",
        "    for k, v in losses.items():\n",
        "        print(f\"{k}: {v.item():.4f}\")\n",
        "\n",
        "    clear_memory()"
      ]
    },
    {
      "cell_type": "markdown",
      "metadata": {
        "id": "hgS1-tW38Q9k"
      },
      "source": [
        "#### Training Step"
      ]
    },
    {
      "cell_type": "code",
      "execution_count": null,
      "metadata": {
        "id": "35xoMuGFdHhy"
      },
      "outputs": [],
      "source": [
        "def handle_training_exception(e):\n",
        "    \"\"\"Handle general training exceptions\"\"\"\n",
        "    print(f\"\\nTraining error occurred: {e}\")\n",
        "    import traceback\n",
        "    traceback.print_exc()\n",
        "    cleanup_memory()"
      ]
    },
    {
      "cell_type": "code",
      "execution_count": null,
      "metadata": {
        "id": "jNVeQajWdIee"
      },
      "outputs": [],
      "source": [
        "def cleanup_training(use_wandb):\n",
        "    \"\"\"Cleanup after training\"\"\"\n",
        "    cleanup_memory()\n",
        "    if use_wandb:\n",
        "        try:\n",
        "            wandb.finish()\n",
        "        except Exception as e:\n",
        "            print(f\"Error closing wandb: {e}\")"
      ]
    },
    {
      "cell_type": "code",
      "execution_count": null,
      "metadata": {
        "id": "S6cdFaiSdKDk"
      },
      "outputs": [],
      "source": [
        "def save_checkpoint(model, optimizer, scheduler, epoch, metrics, config):\n",
        "    \"\"\"Save model checkpoint\"\"\"\n",
        "    checkpoint = {\n",
        "        'epoch': epoch,\n",
        "        'model_state_dict': model.state_dict(),\n",
        "        'optimizer_state_dict': optimizer.state_dict(),\n",
        "        'scheduler_state_dict': scheduler.state_dict() if scheduler else None,\n",
        "        'metrics': metrics.avg,\n",
        "        'config': config\n",
        "    }\n",
        "    torch.save(checkpoint, 'checkpoints/best_model.pt')"
      ]
    },
    {
      "cell_type": "code",
      "execution_count": null,
      "metadata": {
        "id": "c_htjM2KdLa1"
      },
      "outputs": [],
      "source": [
        "def compute_weighted_loss(losses, weights):\n",
        "    \"\"\"Compute weighted sum of losses\"\"\"\n",
        "    total_loss = 0\n",
        "    for task, loss in losses.items():\n",
        "        if task in weights:\n",
        "            total_loss += weights[task] * loss\n",
        "    return total_loss"
      ]
    },
    {
      "cell_type": "code",
      "execution_count": null,
      "metadata": {
        "id": "3Q1Efm_V8Sfm"
      },
      "outputs": [],
      "source": [
        "def training_step(model, batch, optimizer, scaler, config):\n",
        "    \"\"\"Execute a single training step with fixed autocast.\"\"\"\n",
        "    torch.cuda.empty_cache()\n",
        "    optimizer.zero_grad(set_to_none=True)\n",
        "\n",
        "    try:\n",
        "        inputs = batch[0].to(\n",
        "            config.device,\n",
        "            dtype=torch.float32,\n",
        "            non_blocking=True\n",
        "        )\n",
        "        labels = batch[1].to(\n",
        "            config.device,\n",
        "            dtype=torch.float32,\n",
        "            non_blocking=True\n",
        "        )\n",
        "\n",
        "        if len(inputs.shape) == 5:\n",
        "            inputs = inputs.unsqueeze(-1)\n",
        "\n",
        "        # Normalize inputs (in-place)\n",
        "        with torch.no_grad():\n",
        "            mean = inputs.mean()\n",
        "            std = inputs.std()\n",
        "            inputs.sub_(mean).div_(std + 1e-8)\n",
        "\n",
        "        # Use corrected autocast syntax\n",
        "        with torch.amp.autocast('cuda', enabled=config.fp16):\n",
        "            outputs = model(inputs)\n",
        "            losses = compute_losses(outputs, (inputs, labels), config)\n",
        "            loss = losses['total']\n",
        "            scaler.scale(loss).backward()\n",
        "\n",
        "        # Cleanup intermediate tensors\n",
        "        del outputs, inputs, labels\n",
        "        torch.cuda.empty_cache()\n",
        "\n",
        "        current_memory = torch.cuda.memory_allocated() / 1e9\n",
        "        if current_memory < 35:\n",
        "            scaler.unscale_(optimizer)\n",
        "            torch.nn.utils.clip_grad_norm_(model.parameters(), config.grad_clip)\n",
        "            scaler.step(optimizer)\n",
        "            scaler.update()\n",
        "        else:\n",
        "            print(f\"Warning: Skipping update due to high memory usage ({current_memory:.2f} GB)\")\n",
        "\n",
        "        return losses\n",
        "\n",
        "    except Exception as e:\n",
        "        print(f\"\\nError in training step: {e}\")\n",
        "        torch.cuda.empty_cache()\n",
        "        return {'total': 0.0, 'knowledge': 0.0, 'regions': 0.0, 'states': 0.0}"
      ]
    },
    {
      "cell_type": "code",
      "source": [
        "def clear_memory():\n",
        "    \"\"\"Memory cleanup utility\"\"\"\n",
        "    if torch.cuda.is_available():\n",
        "        torch.cuda.empty_cache()\n",
        "    gc.collect()"
      ],
      "metadata": {
        "id": "1tX-bWznn8X6"
      },
      "execution_count": null,
      "outputs": []
    },
    {
      "cell_type": "markdown",
      "metadata": {
        "id": "S6W_TkFN8UOq"
      },
      "source": [
        "#### Validation Step"
      ]
    },
    {
      "cell_type": "code",
      "execution_count": null,
      "metadata": {
        "id": "iAEZBrhO8VkU"
      },
      "outputs": [],
      "source": [
        "def validate(model, val_loader, config):\n",
        "    \"\"\"Enhanced validation function with error handling\"\"\"\n",
        "    model.eval()\n",
        "    val_metrics = AverageMeter()\n",
        "\n",
        "    with torch.no_grad():\n",
        "        for batch in tqdm(val_loader, desc=\"Validation\"):\n",
        "            try:\n",
        "                with torch.amp.autocast(device_type='cuda', enabled=config.fp16):\n",
        "                    outputs = model(batch[0].to(config.device))\n",
        "                    losses = compute_losses(outputs, batch, config)\n",
        "                val_metrics.update(losses)\n",
        "            except RuntimeError as e:\n",
        "                handle_runtime_error(e, config)\n",
        "                continue\n",
        "\n",
        "    return val_metrics"
      ]
    },
    {
      "cell_type": "markdown",
      "metadata": {
        "id": "rl2Lx87K8XmI"
      },
      "source": [
        "#### Training Loop"
      ]
    },
    {
      "cell_type": "code",
      "execution_count": null,
      "metadata": {
        "id": "s7y7z9YV8ZSO"
      },
      "outputs": [],
      "source": [
        "def train_epoch(model, train_loader, optimizer, scaler, config):\n",
        "    model.train()\n",
        "    total_losses = {k: 0.0 for k in ['total', 'knowledge', 'regions', 'states']}\n",
        "    num_batches = 0\n",
        "\n",
        "    for batch in train_loader:\n",
        "        losses = training_step(model, batch, optimizer, scaler, config)\n",
        "\n",
        "        for k in total_losses:\n",
        "            total_losses[k] += losses[k]\n",
        "        num_batches += 1\n",
        "\n",
        "        if num_batches % 5 == 0:\n",
        "            print(f\"\\nBatch {num_batches}/{len(train_loader)}\")\n",
        "            print(f\"Loss: {losses['total']:.4f}\")\n",
        "            print_memory_stats()\n",
        "\n",
        "        if torch.cuda.max_memory_allocated()/1e9 > 20:\n",
        "            print(\"Memory usage too high, breaking epoch\")\n",
        "            break\n",
        "\n",
        "    return {k: v/num_batches for k, v in total_losses.items()}"
      ]
    },
    {
      "cell_type": "markdown",
      "metadata": {
        "id": "rqvJPALh8b06"
      },
      "source": [
        "#### Test Training"
      ]
    },
    {
      "cell_type": "code",
      "execution_count": null,
      "metadata": {
        "id": "F4hjU_wq8dn9"
      },
      "outputs": [],
      "source": [
        "def test_training_loop(config):\n",
        "    \"\"\"Test training with fixed configuration.\"\"\"\n",
        "    print(\"\\nTesting memory-efficient training loop...\")\n",
        "\n",
        "    try:\n",
        "        clear_memory()\n",
        "\n",
        "        # Create model with smaller batch size\n",
        "        model = BrainViT(config=config)\n",
        "        if torch.cuda.device_count() > 1:\n",
        "            model = nn.DataParallel(model)\n",
        "        model = model.to(config.device, non_blocking=True)\n",
        "        model.train()\n",
        "\n",
        "        print(f\"Model parameters: {sum(p.numel() for p in model.parameters()):,}\")\n",
        "\n",
        "        optimizer = torch.optim.AdamW(\n",
        "            model.parameters(),\n",
        "            lr=config.learning_rate,\n",
        "            weight_decay=config.weight_decay,\n",
        "            eps=1e-8,\n",
        "            foreach=True\n",
        "        )\n",
        "\n",
        "        scaler = torch.amp.GradScaler(enabled=config.fp16)\n",
        "\n",
        "        print(\"\\nPreparing test data...\")\n",
        "        dummy_batch = (\n",
        "            torch.randn(1, 16, 64, 30, 208, device='cpu'),\n",
        "            torch.randn(1, device='cpu')\n",
        "        )\n",
        "\n",
        "        try:\n",
        "            print(f\"\\nTesting with minimal batch:\")\n",
        "            print(f\"Input shape: {dummy_batch[0].shape}\")\n",
        "\n",
        "            clear_memory()\n",
        "\n",
        "            losses = training_step(model, dummy_batch, optimizer, scaler, config)\n",
        "\n",
        "            if losses is not None:\n",
        "                print(\"\\nTraining step successful!\")\n",
        "                print(\"Losses:\", losses)\n",
        "\n",
        "        except Exception as e:\n",
        "            print(f\"\\nError during training: {e}\")\n",
        "            clear_memory()\n",
        "\n",
        "        return True\n",
        "\n",
        "    except Exception as e:\n",
        "        print(f\"\\nSetup error: {e}\")\n",
        "        return False\n",
        "\n",
        "    finally:\n",
        "        print(\"\\nCleaning up resources...\")\n",
        "        if 'model' in locals():\n",
        "            del model\n",
        "        if 'optimizer' in locals():\n",
        "            del optimizer\n",
        "        if 'scaler' in locals():\n",
        "            del scaler\n",
        "        if 'dummy_batch' in locals():\n",
        "            del dummy_batch\n",
        "        clear_memory()\n",
        "        print_memory_stats()"
      ]
    },
    {
      "cell_type": "code",
      "execution_count": null,
      "metadata": {
        "id": "mHHoroC87Rn5"
      },
      "outputs": [],
      "source": [
        "def print_gpu_memory():\n",
        "    \"\"\"Print current GPU memory usage.\"\"\"\n",
        "    if torch.cuda.is_available():\n",
        "        print(\"\\nGPU Memory Usage:\")\n",
        "        print(f\"Allocated: {torch.cuda.memory_allocated()/1e9:.2f} GB\")\n",
        "        print(f\"Cached: {torch.cuda.memory_reserved()/1e9:.2f} GB\")\n",
        "\n",
        "def clear_memory():\n",
        "    \"\"\"Clear GPU memory cache.\"\"\"\n",
        "    if torch.cuda.is_available():\n",
        "        torch.cuda.empty_cache()\n",
        "    gc.collect()\n",
        "\n",
        "def get_memory_status():\n",
        "    \"\"\"Get detailed memory status.\"\"\"\n",
        "    if torch.cuda.is_available():\n",
        "        return {\n",
        "            'allocated': torch.cuda.memory_allocated(),\n",
        "            'cached': torch.cuda.memory_reserved(),\n",
        "            'max_allocated': torch.cuda.max_memory_allocated()\n",
        "        }\n",
        "    return None"
      ]
    },
    {
      "cell_type": "code",
      "execution_count": null,
      "metadata": {
        "colab": {
          "base_uri": "https://localhost:8080/"
        },
        "id": "HmTvubiOIfZ7",
        "outputId": "a1884d91-6e58-4986-e3d7-37c8030fbeb2"
      },
      "outputs": [
        {
          "output_type": "stream",
          "name": "stdout",
          "text": [
            "\n",
            "Starting training test...\n",
            "\n",
            "GPU Memory Usage:\n",
            "Allocated: 0.19 GB\n",
            "Cached: 4.95 GB\n",
            "\n",
            "Training Configuration:\n",
            "<__main__.TrainingConfig object at 0x7ca6ee102c20>\n",
            "\n",
            "Testing memory-efficient training loop...\n",
            "Model parameters: 21,997,902\n",
            "\n",
            "Preparing test data...\n",
            "\n",
            "Testing with minimal batch:\n",
            "Input shape: torch.Size([1, 16, 64, 30, 208])\n",
            "\n",
            "Training step successful!\n",
            "Losses: {'knowledge': tensor(0.0427, device='cuda:0', grad_fn=<MeanBackward0>), 'regions': tensor(0.6780, device='cuda:0',\n",
            "       grad_fn=<BinaryCrossEntropyWithLogitsBackward0>), 'states': tensor(1.8545, device='cuda:0', grad_fn=<AddBackward0>), 'total': tensor(0.8024, device='cuda:0', grad_fn=<AddBackward0>)}\n",
            "\n",
            "Cleaning up resources...\n",
            "\n",
            "GPU Memory Stats:\n",
            "Allocated: 0.38 GB\n",
            "Reserved: 4.97 GB\n",
            "Max Allocated: 40.52 GB\n",
            "\n",
            "\n",
            "GPU Memory Usage:\n",
            "Allocated: 0.38 GB\n",
            "Cached: 4.97 GB\n"
          ]
        }
      ],
      "source": [
        "print(\"\\nStarting training test...\")\n",
        "print_gpu_memory()\n",
        "config = test_config()\n",
        "test_training_loop(config)\n",
        "print_gpu_memory()"
      ]
    },
    {
      "cell_type": "markdown",
      "metadata": {
        "id": "e-nCf8LTJXCN"
      },
      "source": [
        "## Training Pipeline"
      ]
    },
    {
      "cell_type": "code",
      "source": [
        "def get_cosine_schedule_with_warmup(optimizer, num_warmup_steps, num_training_steps,\n",
        "                                  num_cycles=0.5, min_lr=1e-6):\n",
        "    \"\"\"\n",
        "    Create a schedule with a learning rate that decreases following the values of the cosine function between the\n",
        "    initial lr set in the optimizer to 0, after a warmup period during which it increases linearly between 0 and the\n",
        "    initial lr set in the optimizer.\n",
        "    \"\"\"\n",
        "    def lr_lambda(current_step):\n",
        "        # Warmup\n",
        "        if current_step < num_warmup_steps:\n",
        "            return float(current_step) / float(max(1, num_warmup_steps))\n",
        "\n",
        "        # Cosine decay\n",
        "        progress = float(current_step - num_warmup_steps) / float(max(1, num_training_steps - num_warmup_steps))\n",
        "        decay = max(min_lr, 0.5 * (1.0 + math.cos(math.pi * num_cycles * 2.0 * progress)))\n",
        "        return decay\n",
        "\n",
        "    return torch.optim.lr_scheduler.LambdaLR(optimizer, lr_lambda)"
      ],
      "metadata": {
        "id": "SgEpPwpcr06t"
      },
      "execution_count": null,
      "outputs": []
    },
    {
      "cell_type": "code",
      "execution_count": null,
      "metadata": {
        "id": "O71t0D_gK3vn"
      },
      "outputs": [],
      "source": [
        "def train(model, train_loader, val_loader, config, run_name=\"fmri_vit_training\", use_wandb=False):\n",
        "    \"\"\"Updated training function with proper data type handling\"\"\"\n",
        "    print(\"\\nInitializing training...\")\n",
        "\n",
        "    model = model.to(config.device)\n",
        "    # Convert model to float32\n",
        "    model = model.float()\n",
        "\n",
        "    if torch.cuda.device_count() > 1:\n",
        "        model = nn.DataParallel(model)\n",
        "    print(f\"Model moved to {config.device}\")\n",
        "\n",
        "    if use_wandb:\n",
        "        wandb.init(project=\"fmri-vit\", name=run_name, config=vars(config))\n",
        "\n",
        "    optimizer = torch.optim.AdamW(\n",
        "        model.parameters(),\n",
        "        lr=config.learning_rate,\n",
        "        weight_decay=config.weight_decay\n",
        "    )\n",
        "\n",
        "    num_training_steps = len(train_loader) * config.num_epochs\n",
        "    num_warmup_steps = len(train_loader) * config.warmup_epochs\n",
        "\n",
        "    scheduler = get_cosine_schedule_with_warmup(\n",
        "        optimizer,\n",
        "        num_warmup_steps=num_warmup_steps,\n",
        "        num_training_steps=num_training_steps\n",
        "    )\n",
        "\n",
        "    scaler = torch.amp.GradScaler('cuda', enabled=config.fp16)\n",
        "\n",
        "    try:\n",
        "        for epoch in range(config.num_epochs):\n",
        "            print(f\"\\nEpoch {epoch+1}/{config.num_epochs}\")\n",
        "\n",
        "            model.train()\n",
        "            train_metrics = AverageMeter()\n",
        "\n",
        "            for batch_idx, batch in enumerate(tqdm(train_loader)):\n",
        "                try:\n",
        "                    # Convert inputs to float32\n",
        "                    inputs = batch[0].to(config.device).float()\n",
        "                    labels = batch[1].to(config.device).float()\n",
        "\n",
        "                    with torch.amp.autocast('cuda', enabled=config.fp16):\n",
        "                        outputs = model(inputs)\n",
        "                        losses = compute_losses(outputs, (inputs, labels), config)\n",
        "                        loss = losses['total']\n",
        "\n",
        "                    optimizer.zero_grad(set_to_none=True)  # More efficient than False\n",
        "                    scaler.scale(loss).backward()\n",
        "\n",
        "                    # Gradient clipping\n",
        "                    if config.grad_clip > 0:\n",
        "                        scaler.unscale_(optimizer)\n",
        "                        torch.nn.utils.clip_grad_norm_(model.parameters(), config.grad_clip)\n",
        "\n",
        "                    scaler.step(optimizer)\n",
        "                    scaler.update()\n",
        "\n",
        "                    scheduler.step()\n",
        "                    train_metrics.update(losses)\n",
        "\n",
        "                    if use_wandb and batch_idx % 10 == 0:\n",
        "                        wandb.log({\n",
        "                            'train/loss': losses['total'].item(),\n",
        "                            'train/knowledge_loss': losses['knowledge'].item(),\n",
        "                            'train/regions_loss': losses['regions'].item(),\n",
        "                            'train/states_loss': losses['states'].item(),\n",
        "                            'train/lr': scheduler.get_last_lr()[0],\n",
        "                            'train/epoch': epoch\n",
        "                        })\n",
        "\n",
        "                    # Print batch statistics\n",
        "                    if batch_idx % 5 == 0:\n",
        "                        print(f\"\\nBatch {batch_idx}: Loss = {losses['total'].item():.4f}\")\n",
        "\n",
        "                except Exception as e:\n",
        "                    print(f\"\\nError in batch {batch_idx}: {e}\")\n",
        "                    print(f\"Input shape: {inputs.shape}, dtype: {inputs.dtype}\")\n",
        "                    print(f\"Model dtype: {next(model.parameters()).dtype}\")\n",
        "                    continue\n",
        "\n",
        "            # Validation phase\n",
        "            val_metrics = validate(model, val_loader, config)\n",
        "\n",
        "            if use_wandb:\n",
        "                wandb.log({\n",
        "                    'val/loss': val_metrics.avg['total'],\n",
        "                    'val/knowledge_loss': val_metrics.avg['knowledge'],\n",
        "                    'val/regions_loss': val_metrics.avg['regions'],\n",
        "                    'val/states_loss': val_metrics.avg['states'],\n",
        "                    'val/epoch': epoch\n",
        "                })\n",
        "\n",
        "    except Exception as e:\n",
        "        print(f\"\\nTraining error: {e}\")\n",
        "        if use_wandb:\n",
        "            wandb.finish()\n",
        "        return model\n",
        "\n",
        "    if use_wandb:\n",
        "        wandb.finish()\n",
        "\n",
        "    return model"
      ]
    },
    {
      "cell_type": "code",
      "source": [
        "def validate(model, val_loader, config):\n",
        "    \"\"\"Updated validation function with proper data type handling\"\"\"\n",
        "    model.eval()\n",
        "    val_metrics = AverageMeter()\n",
        "\n",
        "    with torch.no_grad():\n",
        "        for batch_idx, batch in enumerate(val_loader):\n",
        "            try:\n",
        "                inputs = batch[0].to(config.device).float()\n",
        "                labels = batch[1].to(config.device).float()\n",
        "\n",
        "                with torch.amp.autocast('cuda', enabled=config.fp16):\n",
        "                    outputs = model(inputs)\n",
        "                    losses = compute_losses(outputs, (inputs, labels), config)\n",
        "\n",
        "                val_metrics.update(losses)\n",
        "\n",
        "            except Exception as e:\n",
        "                print(f\"\\nError in validation batch {batch_idx}: {e}\")\n",
        "                continue\n",
        "\n",
        "    return val_metrics"
      ],
      "metadata": {
        "id": "FtHsFxzPs3Z-"
      },
      "execution_count": null,
      "outputs": []
    },
    {
      "cell_type": "markdown",
      "metadata": {
        "id": "hZUVplv-fg9C"
      },
      "source": [
        "Compute and store running averages for multiple metrics"
      ]
    },
    {
      "cell_type": "code",
      "execution_count": null,
      "metadata": {
        "id": "n4GSczFsK6Bh"
      },
      "outputs": [],
      "source": [
        "class AverageMeter:\n",
        "    \"\"\"Running average meter with NaN handling.\"\"\"\n",
        "    def __init__(self):\n",
        "        self.reset()\n",
        "\n",
        "    def reset(self):\n",
        "        self.metrics = defaultdict(lambda: {'sum': 0, 'count': 0, 'avg': 0})\n",
        "\n",
        "    def update(self, values):\n",
        "        for k, v in values.items():\n",
        "            if isinstance(v, torch.Tensor):\n",
        "                v = v.item()\n",
        "            if not np.isnan(v):  # Only update with non-NaN values\n",
        "                self.metrics[k]['sum'] += v\n",
        "                self.metrics[k]['count'] += 1\n",
        "                self.metrics[k]['avg'] = self.metrics[k]['sum'] / self.metrics[k]['count']\n",
        "\n",
        "    @property\n",
        "    def avg(self):\n",
        "        return {k: m['avg'] for k, m in self.metrics.items()}"
      ]
    },
    {
      "cell_type": "markdown",
      "metadata": {
        "id": "KZUubFh7fifj"
      },
      "source": [
        "Early stopping handler"
      ]
    },
    {
      "cell_type": "code",
      "execution_count": null,
      "metadata": {
        "id": "fHH8chT3K700"
      },
      "outputs": [],
      "source": [
        "class EarlyStopping:\n",
        "    \"\"\"Enhanced early stopping with model saving\"\"\"\n",
        "    def __init__(self, patience=15, delta=1e-4, path='checkpoint.pt'):\n",
        "        self.patience = patience\n",
        "        self.delta = delta\n",
        "        self.path = path\n",
        "        self.best_loss = float('inf')\n",
        "        self.counter = 0\n",
        "        self.best_weights = None\n",
        "\n",
        "    def __call__(self, val_loss, model):\n",
        "        if val_loss < self.best_loss - self.delta:\n",
        "            self.best_loss = val_loss\n",
        "            self.counter = 0\n",
        "            self.best_weights = copy.deepcopy(model.state_dict())\n",
        "            return False\n",
        "        else:\n",
        "            self.counter += 1\n",
        "            if self.counter >= self.patience:\n",
        "                if self.best_weights is not None:\n",
        "                    model.load_state_dict(self.best_weights)\n",
        "                return True\n",
        "            return False"
      ]
    },
    {
      "cell_type": "code",
      "execution_count": null,
      "metadata": {
        "id": "-bY8yL_ZUUmS"
      },
      "outputs": [],
      "source": [
        "def update_task_weights(config, epoch):\n",
        "    \"\"\"Update task weights based on curriculum learning\"\"\"\n",
        "    if epoch < config.warmup_epochs:\n",
        "        # Focus more on knowledge prediction during early training\n",
        "        config.TASK_WEIGHTS['knowledge'] = 1.0\n",
        "        config.TASK_WEIGHTS['regions'] = 0.1\n",
        "        config.TASK_WEIGHTS['states'] = 0.1\n",
        "    else:\n",
        "        # Gradually increase auxiliary task weights\n",
        "        config.TASK_WEIGHTS['knowledge'] = 1.0\n",
        "        config.TASK_WEIGHTS['regions'] = min(0.3, 0.1 + (epoch - config.warmup_epochs) * 0.02)\n",
        "        config.TASK_WEIGHTS['states'] = min(0.3, 0.1 + (epoch - config.warmup_epochs) * 0.02)"
      ]
    },
    {
      "cell_type": "code",
      "execution_count": null,
      "metadata": {
        "id": "LHOowG2sUWCm"
      },
      "outputs": [],
      "source": [
        "def get_micro_batch(batch, micro_step, config):\n",
        "    \"\"\"Split batch for gradient accumulation\"\"\"\n",
        "    batch_size = len(batch[0])\n",
        "    micro_batch_size = batch_size // config.gradient_accumulation_steps\n",
        "    start_idx = micro_step * micro_batch_size\n",
        "    end_idx = start_idx + micro_batch_size\n",
        "\n",
        "    return (batch[0][start_idx:end_idx], batch[1][start_idx:end_idx])"
      ]
    },
    {
      "cell_type": "code",
      "execution_count": null,
      "metadata": {
        "id": "N_wGNzNYUXM7"
      },
      "outputs": [],
      "source": [
        "def cleanup_memory():\n",
        "    \"\"\"Enhanced memory cleanup\"\"\"\n",
        "    if torch.cuda.is_available():\n",
        "        torch.cuda.empty_cache()\n",
        "    gc.collect()"
      ]
    },
    {
      "cell_type": "code",
      "execution_count": null,
      "metadata": {
        "id": "v9JJttTbUYlq"
      },
      "outputs": [],
      "source": [
        "def handle_runtime_error(e, config):\n",
        "    \"\"\"Handle runtime errors during training\"\"\"\n",
        "    if \"out of memory\" in str(e):\n",
        "        print(f\"\\nGPU out of memory. Cleaning up...\")\n",
        "        cleanup_memory()\n",
        "        # Reduce batch size if needed\n",
        "        config.batch_size = max(1, config.batch_size // 2)\n",
        "        print(f\"Reduced batch size to {config.batch_size}\")\n",
        "    else:\n",
        "        print(f\"\\nRuntime error: {e}\")"
      ]
    },
    {
      "cell_type": "code",
      "execution_count": null,
      "metadata": {
        "id": "0qjwc_NjUZ7_"
      },
      "outputs": [],
      "source": [
        "def log_metrics(wandb, metrics, scheduler, step, phase):\n",
        "    \"\"\"Log metrics to wandb with proper naming\"\"\"\n",
        "    logs = {\n",
        "        f'{phase}/{k}': v\n",
        "        for k, v in metrics.avg.items()\n",
        "    }\n",
        "    logs[f'{phase}/learning_rate'] = scheduler.get_last_lr()[0]\n",
        "    logs[f'{phase}/step'] = step\n",
        "    wandb.log(logs)"
      ]
    },
    {
      "cell_type": "markdown",
      "metadata": {
        "id": "JJleH1saK8-G"
      },
      "source": [
        "Execute training"
      ]
    },
    {
      "cell_type": "code",
      "execution_count": null,
      "metadata": {
        "id": "19onqICgK-TS",
        "colab": {
          "base_uri": "https://localhost:8080/"
        },
        "outputId": "09be21f7-0072-421a-8743-44d7d709774f"
      },
      "outputs": [
        {
          "output_type": "stream",
          "name": "stdout",
          "text": [
            "Starting production training...\n"
          ]
        }
      ],
      "source": [
        "print(\"Starting production training...\")\n",
        "os.makedirs('checkpoints', exist_ok=True)"
      ]
    },
    {
      "cell_type": "markdown",
      "metadata": {
        "id": "K1GeHmjPLzxK"
      },
      "source": [
        "Initialize model"
      ]
    },
    {
      "cell_type": "code",
      "execution_count": null,
      "metadata": {
        "id": "iCQxWepuLyx6"
      },
      "outputs": [],
      "source": [
        "config = TrainingConfig()\n",
        "model = BrainViT(config)"
      ]
    },
    {
      "cell_type": "markdown",
      "metadata": {
        "id": "y4Q04H9fL0jG"
      },
      "source": [
        "Start training"
      ]
    },
    {
      "cell_type": "code",
      "execution_count": null,
      "metadata": {
        "id": "6P5y__s6UFOJ",
        "colab": {
          "base_uri": "https://localhost:8080/",
          "height": 920
        },
        "outputId": "356159c7-c8a5-4a39-8573-ad6dbed0d1e3"
      },
      "outputs": [
        {
          "output_type": "stream",
          "name": "stdout",
          "text": [
            "\n",
            "Initializing training...\n",
            "Model moved to cuda\n"
          ]
        },
        {
          "output_type": "display_data",
          "data": {
            "text/plain": [
              "<IPython.core.display.HTML object>"
            ],
            "text/html": [
              "Finishing last run (ID:xbz8o4ae) before initializing another..."
            ]
          },
          "metadata": {}
        },
        {
          "output_type": "display_data",
          "data": {
            "text/plain": [
              "<IPython.core.display.HTML object>"
            ],
            "text/html": [
              " View run <strong style=\"color:#cdcd00\">fmri_vit_improved</strong> at: <a href='https://wandb.ai/twarner491-usc/fmri-vit/runs/xbz8o4ae' target=\"_blank\">https://wandb.ai/twarner491-usc/fmri-vit/runs/xbz8o4ae</a><br/> View project at: <a href='https://wandb.ai/twarner491-usc/fmri-vit' target=\"_blank\">https://wandb.ai/twarner491-usc/fmri-vit</a><br/>Synced 5 W&B file(s), 0 media file(s), 0 artifact file(s) and 0 other file(s)"
            ]
          },
          "metadata": {}
        },
        {
          "output_type": "display_data",
          "data": {
            "text/plain": [
              "<IPython.core.display.HTML object>"
            ],
            "text/html": [
              "Find logs at: <code>./wandb/run-20241111_192807-xbz8o4ae/logs</code>"
            ]
          },
          "metadata": {}
        },
        {
          "output_type": "display_data",
          "data": {
            "text/plain": [
              "<IPython.core.display.HTML object>"
            ],
            "text/html": [
              "Successfully finished last run (ID:xbz8o4ae). Initializing new run:<br/>"
            ]
          },
          "metadata": {}
        },
        {
          "output_type": "display_data",
          "data": {
            "text/plain": [
              "<IPython.core.display.HTML object>"
            ],
            "text/html": [
              "Tracking run with wandb version 0.18.5"
            ]
          },
          "metadata": {}
        },
        {
          "output_type": "display_data",
          "data": {
            "text/plain": [
              "<IPython.core.display.HTML object>"
            ],
            "text/html": [
              "Run data is saved locally in <code>/content/wandb/run-20241111_192914-t8u5f7sd</code>"
            ]
          },
          "metadata": {}
        },
        {
          "output_type": "display_data",
          "data": {
            "text/plain": [
              "<IPython.core.display.HTML object>"
            ],
            "text/html": [
              "Syncing run <strong><a href='https://wandb.ai/twarner491-usc/fmri-vit/runs/t8u5f7sd' target=\"_blank\">fmri_vit_improved</a></strong> to <a href='https://wandb.ai/twarner491-usc/fmri-vit' target=\"_blank\">Weights & Biases</a> (<a href='https://wandb.me/run' target=\"_blank\">docs</a>)<br/>"
            ]
          },
          "metadata": {}
        },
        {
          "output_type": "display_data",
          "data": {
            "text/plain": [
              "<IPython.core.display.HTML object>"
            ],
            "text/html": [
              " View project at <a href='https://wandb.ai/twarner491-usc/fmri-vit' target=\"_blank\">https://wandb.ai/twarner491-usc/fmri-vit</a>"
            ]
          },
          "metadata": {}
        },
        {
          "output_type": "display_data",
          "data": {
            "text/plain": [
              "<IPython.core.display.HTML object>"
            ],
            "text/html": [
              " View run at <a href='https://wandb.ai/twarner491-usc/fmri-vit/runs/t8u5f7sd' target=\"_blank\">https://wandb.ai/twarner491-usc/fmri-vit/runs/t8u5f7sd</a>"
            ]
          },
          "metadata": {}
        },
        {
          "output_type": "stream",
          "name": "stdout",
          "text": [
            "\n",
            "Epoch 1/100\n"
          ]
        },
        {
          "output_type": "stream",
          "name": "stderr",
          "text": [
            "  3%|▎         | 1/30 [00:02<01:09,  2.38s/it]"
          ]
        },
        {
          "output_type": "stream",
          "name": "stdout",
          "text": [
            "\n",
            "Error in batch 0: CUDA out of memory. Tried to allocate 6.09 GiB. GPU 0 has a total capacity of 39.56 GiB of which 906.81 MiB is free. Process 15881 has 38.67 GiB memory in use. Of the allocated memory 34.53 GiB is allocated by PyTorch, and 3.61 GiB is reserved by PyTorch but unallocated. If reserved but unallocated memory is large try setting PYTORCH_CUDA_ALLOC_CONF=expandable_segments:True to avoid fragmentation.  See documentation for Memory Management  (https://pytorch.org/docs/stable/notes/cuda.html#environment-variables)\n",
            "Input shape: torch.Size([4, 32, 64, 30, 208]), dtype: torch.float32\n",
            "Model dtype: torch.float32\n"
          ]
        },
        {
          "output_type": "stream",
          "name": "stderr",
          "text": [
            "\r  7%|▋         | 2/30 [00:04<01:03,  2.26s/it]"
          ]
        },
        {
          "output_type": "stream",
          "name": "stdout",
          "text": [
            "\n",
            "Error in batch 1: CUDA out of memory. Tried to allocate 6.09 GiB. GPU 0 has a total capacity of 39.56 GiB of which 904.81 MiB is free. Process 15881 has 38.67 GiB memory in use. Of the allocated memory 28.43 GiB is allocated by PyTorch, and 9.71 GiB is reserved by PyTorch but unallocated. If reserved but unallocated memory is large try setting PYTORCH_CUDA_ALLOC_CONF=expandable_segments:True to avoid fragmentation.  See documentation for Memory Management  (https://pytorch.org/docs/stable/notes/cuda.html#environment-variables)\n",
            "Input shape: torch.Size([4, 32, 64, 30, 208]), dtype: torch.float32\n",
            "Model dtype: torch.float32\n"
          ]
        },
        {
          "output_type": "stream",
          "name": "stderr",
          "text": [
            "\r 10%|█         | 3/30 [00:06<00:55,  2.05s/it]"
          ]
        },
        {
          "output_type": "stream",
          "name": "stdout",
          "text": [
            "\n",
            "Error in batch 2: CUDA out of memory. Tried to allocate 6.09 GiB. GPU 0 has a total capacity of 39.56 GiB of which 904.81 MiB is free. Process 15881 has 38.67 GiB memory in use. Of the allocated memory 34.53 GiB is allocated by PyTorch, and 3.61 GiB is reserved by PyTorch but unallocated. If reserved but unallocated memory is large try setting PYTORCH_CUDA_ALLOC_CONF=expandable_segments:True to avoid fragmentation.  See documentation for Memory Management  (https://pytorch.org/docs/stable/notes/cuda.html#environment-variables)\n",
            "Input shape: torch.Size([4, 32, 64, 30, 208]), dtype: torch.float32\n",
            "Model dtype: torch.float32\n"
          ]
        },
        {
          "output_type": "stream",
          "name": "stderr",
          "text": [
            "\r 10%|█         | 3/30 [00:06<01:00,  2.24s/it]\n"
          ]
        },
        {
          "output_type": "error",
          "ename": "KeyboardInterrupt",
          "evalue": "",
          "traceback": [
            "\u001b[0;31m---------------------------------------------------------------------------\u001b[0m",
            "\u001b[0;31mKeyboardInterrupt\u001b[0m                         Traceback (most recent call last)",
            "\u001b[0;32m<ipython-input-257-e3fad352ebc9>\u001b[0m in \u001b[0;36m<cell line: 1>\u001b[0;34m()\u001b[0m\n\u001b[0;32m----> 1\u001b[0;31m trained_model = train(\n\u001b[0m\u001b[1;32m      2\u001b[0m     \u001b[0mmodel\u001b[0m\u001b[0;34m=\u001b[0m\u001b[0mmodel\u001b[0m\u001b[0;34m,\u001b[0m\u001b[0;34m\u001b[0m\u001b[0;34m\u001b[0m\u001b[0m\n\u001b[1;32m      3\u001b[0m     \u001b[0mtrain_loader\u001b[0m\u001b[0;34m=\u001b[0m\u001b[0mtrain_loader\u001b[0m\u001b[0;34m,\u001b[0m\u001b[0;34m\u001b[0m\u001b[0;34m\u001b[0m\u001b[0m\n\u001b[1;32m      4\u001b[0m     \u001b[0mval_loader\u001b[0m\u001b[0;34m=\u001b[0m\u001b[0mval_loader\u001b[0m\u001b[0;34m,\u001b[0m\u001b[0;34m\u001b[0m\u001b[0;34m\u001b[0m\u001b[0m\n\u001b[1;32m      5\u001b[0m     \u001b[0mconfig\u001b[0m\u001b[0;34m=\u001b[0m\u001b[0mconfig\u001b[0m\u001b[0;34m,\u001b[0m\u001b[0;34m\u001b[0m\u001b[0;34m\u001b[0m\u001b[0m\n",
            "\u001b[0;32m<ipython-input-246-5ba7a16ff6d3>\u001b[0m in \u001b[0;36mtrain\u001b[0;34m(model, train_loader, val_loader, config, run_name, use_wandb)\u001b[0m\n\u001b[1;32m     38\u001b[0m             \u001b[0mtrain_metrics\u001b[0m \u001b[0;34m=\u001b[0m \u001b[0mAverageMeter\u001b[0m\u001b[0;34m(\u001b[0m\u001b[0;34m)\u001b[0m\u001b[0;34m\u001b[0m\u001b[0;34m\u001b[0m\u001b[0m\n\u001b[1;32m     39\u001b[0m \u001b[0;34m\u001b[0m\u001b[0m\n\u001b[0;32m---> 40\u001b[0;31m             \u001b[0;32mfor\u001b[0m \u001b[0mbatch_idx\u001b[0m\u001b[0;34m,\u001b[0m \u001b[0mbatch\u001b[0m \u001b[0;32min\u001b[0m \u001b[0menumerate\u001b[0m\u001b[0;34m(\u001b[0m\u001b[0mtqdm\u001b[0m\u001b[0;34m(\u001b[0m\u001b[0mtrain_loader\u001b[0m\u001b[0;34m)\u001b[0m\u001b[0;34m)\u001b[0m\u001b[0;34m:\u001b[0m\u001b[0;34m\u001b[0m\u001b[0;34m\u001b[0m\u001b[0m\n\u001b[0m\u001b[1;32m     41\u001b[0m                 \u001b[0;32mtry\u001b[0m\u001b[0;34m:\u001b[0m\u001b[0;34m\u001b[0m\u001b[0;34m\u001b[0m\u001b[0m\n\u001b[1;32m     42\u001b[0m                     \u001b[0;31m# Convert inputs to float32\u001b[0m\u001b[0;34m\u001b[0m\u001b[0;34m\u001b[0m\u001b[0m\n",
            "\u001b[0;32m/usr/local/lib/python3.10/dist-packages/tqdm/std.py\u001b[0m in \u001b[0;36m__iter__\u001b[0;34m(self)\u001b[0m\n\u001b[1;32m   1179\u001b[0m \u001b[0;34m\u001b[0m\u001b[0m\n\u001b[1;32m   1180\u001b[0m         \u001b[0;32mtry\u001b[0m\u001b[0;34m:\u001b[0m\u001b[0;34m\u001b[0m\u001b[0;34m\u001b[0m\u001b[0m\n\u001b[0;32m-> 1181\u001b[0;31m             \u001b[0;32mfor\u001b[0m \u001b[0mobj\u001b[0m \u001b[0;32min\u001b[0m \u001b[0miterable\u001b[0m\u001b[0;34m:\u001b[0m\u001b[0;34m\u001b[0m\u001b[0;34m\u001b[0m\u001b[0m\n\u001b[0m\u001b[1;32m   1182\u001b[0m                 \u001b[0;32myield\u001b[0m \u001b[0mobj\u001b[0m\u001b[0;34m\u001b[0m\u001b[0;34m\u001b[0m\u001b[0m\n\u001b[1;32m   1183\u001b[0m                 \u001b[0;31m# Update and possibly print the progressbar.\u001b[0m\u001b[0;34m\u001b[0m\u001b[0;34m\u001b[0m\u001b[0m\n",
            "\u001b[0;32m/usr/local/lib/python3.10/dist-packages/torch/utils/data/dataloader.py\u001b[0m in \u001b[0;36m__next__\u001b[0;34m(self)\u001b[0m\n\u001b[1;32m    699\u001b[0m                 \u001b[0;31m# TODO(https://github.com/pytorch/pytorch/issues/76750)\u001b[0m\u001b[0;34m\u001b[0m\u001b[0;34m\u001b[0m\u001b[0m\n\u001b[1;32m    700\u001b[0m                 \u001b[0mself\u001b[0m\u001b[0;34m.\u001b[0m\u001b[0m_reset\u001b[0m\u001b[0;34m(\u001b[0m\u001b[0;34m)\u001b[0m  \u001b[0;31m# type: ignore[call-arg]\u001b[0m\u001b[0;34m\u001b[0m\u001b[0;34m\u001b[0m\u001b[0m\n\u001b[0;32m--> 701\u001b[0;31m             \u001b[0mdata\u001b[0m \u001b[0;34m=\u001b[0m \u001b[0mself\u001b[0m\u001b[0;34m.\u001b[0m\u001b[0m_next_data\u001b[0m\u001b[0;34m(\u001b[0m\u001b[0;34m)\u001b[0m\u001b[0;34m\u001b[0m\u001b[0;34m\u001b[0m\u001b[0m\n\u001b[0m\u001b[1;32m    702\u001b[0m             \u001b[0mself\u001b[0m\u001b[0;34m.\u001b[0m\u001b[0m_num_yielded\u001b[0m \u001b[0;34m+=\u001b[0m \u001b[0;36m1\u001b[0m\u001b[0;34m\u001b[0m\u001b[0;34m\u001b[0m\u001b[0m\n\u001b[1;32m    703\u001b[0m             if (\n",
            "\u001b[0;32m/usr/local/lib/python3.10/dist-packages/torch/utils/data/dataloader.py\u001b[0m in \u001b[0;36m_next_data\u001b[0;34m(self)\u001b[0m\n\u001b[1;32m    755\u001b[0m     \u001b[0;32mdef\u001b[0m \u001b[0m_next_data\u001b[0m\u001b[0;34m(\u001b[0m\u001b[0mself\u001b[0m\u001b[0;34m)\u001b[0m\u001b[0;34m:\u001b[0m\u001b[0;34m\u001b[0m\u001b[0;34m\u001b[0m\u001b[0m\n\u001b[1;32m    756\u001b[0m         \u001b[0mindex\u001b[0m \u001b[0;34m=\u001b[0m \u001b[0mself\u001b[0m\u001b[0;34m.\u001b[0m\u001b[0m_next_index\u001b[0m\u001b[0;34m(\u001b[0m\u001b[0;34m)\u001b[0m  \u001b[0;31m# may raise StopIteration\u001b[0m\u001b[0;34m\u001b[0m\u001b[0;34m\u001b[0m\u001b[0m\n\u001b[0;32m--> 757\u001b[0;31m         \u001b[0mdata\u001b[0m \u001b[0;34m=\u001b[0m \u001b[0mself\u001b[0m\u001b[0;34m.\u001b[0m\u001b[0m_dataset_fetcher\u001b[0m\u001b[0;34m.\u001b[0m\u001b[0mfetch\u001b[0m\u001b[0;34m(\u001b[0m\u001b[0mindex\u001b[0m\u001b[0;34m)\u001b[0m  \u001b[0;31m# may raise StopIteration\u001b[0m\u001b[0;34m\u001b[0m\u001b[0;34m\u001b[0m\u001b[0m\n\u001b[0m\u001b[1;32m    758\u001b[0m         \u001b[0;32mif\u001b[0m \u001b[0mself\u001b[0m\u001b[0;34m.\u001b[0m\u001b[0m_pin_memory\u001b[0m\u001b[0;34m:\u001b[0m\u001b[0;34m\u001b[0m\u001b[0;34m\u001b[0m\u001b[0m\n\u001b[1;32m    759\u001b[0m             \u001b[0mdata\u001b[0m \u001b[0;34m=\u001b[0m \u001b[0m_utils\u001b[0m\u001b[0;34m.\u001b[0m\u001b[0mpin_memory\u001b[0m\u001b[0;34m.\u001b[0m\u001b[0mpin_memory\u001b[0m\u001b[0;34m(\u001b[0m\u001b[0mdata\u001b[0m\u001b[0;34m,\u001b[0m \u001b[0mself\u001b[0m\u001b[0;34m.\u001b[0m\u001b[0m_pin_memory_device\u001b[0m\u001b[0;34m)\u001b[0m\u001b[0;34m\u001b[0m\u001b[0;34m\u001b[0m\u001b[0m\n",
            "\u001b[0;32m/usr/local/lib/python3.10/dist-packages/torch/utils/data/_utils/fetch.py\u001b[0m in \u001b[0;36mfetch\u001b[0;34m(self, possibly_batched_index)\u001b[0m\n\u001b[1;32m     50\u001b[0m                 \u001b[0mdata\u001b[0m \u001b[0;34m=\u001b[0m \u001b[0mself\u001b[0m\u001b[0;34m.\u001b[0m\u001b[0mdataset\u001b[0m\u001b[0;34m.\u001b[0m\u001b[0m__getitems__\u001b[0m\u001b[0;34m(\u001b[0m\u001b[0mpossibly_batched_index\u001b[0m\u001b[0;34m)\u001b[0m\u001b[0;34m\u001b[0m\u001b[0;34m\u001b[0m\u001b[0m\n\u001b[1;32m     51\u001b[0m             \u001b[0;32melse\u001b[0m\u001b[0;34m:\u001b[0m\u001b[0;34m\u001b[0m\u001b[0;34m\u001b[0m\u001b[0m\n\u001b[0;32m---> 52\u001b[0;31m                 \u001b[0mdata\u001b[0m \u001b[0;34m=\u001b[0m \u001b[0;34m[\u001b[0m\u001b[0mself\u001b[0m\u001b[0;34m.\u001b[0m\u001b[0mdataset\u001b[0m\u001b[0;34m[\u001b[0m\u001b[0midx\u001b[0m\u001b[0;34m]\u001b[0m \u001b[0;32mfor\u001b[0m \u001b[0midx\u001b[0m \u001b[0;32min\u001b[0m \u001b[0mpossibly_batched_index\u001b[0m\u001b[0;34m]\u001b[0m\u001b[0;34m\u001b[0m\u001b[0;34m\u001b[0m\u001b[0m\n\u001b[0m\u001b[1;32m     53\u001b[0m         \u001b[0;32melse\u001b[0m\u001b[0;34m:\u001b[0m\u001b[0;34m\u001b[0m\u001b[0;34m\u001b[0m\u001b[0m\n\u001b[1;32m     54\u001b[0m             \u001b[0mdata\u001b[0m \u001b[0;34m=\u001b[0m \u001b[0mself\u001b[0m\u001b[0;34m.\u001b[0m\u001b[0mdataset\u001b[0m\u001b[0;34m[\u001b[0m\u001b[0mpossibly_batched_index\u001b[0m\u001b[0;34m]\u001b[0m\u001b[0;34m\u001b[0m\u001b[0;34m\u001b[0m\u001b[0m\n",
            "\u001b[0;32m/usr/local/lib/python3.10/dist-packages/torch/utils/data/_utils/fetch.py\u001b[0m in \u001b[0;36m<listcomp>\u001b[0;34m(.0)\u001b[0m\n\u001b[1;32m     50\u001b[0m                 \u001b[0mdata\u001b[0m \u001b[0;34m=\u001b[0m \u001b[0mself\u001b[0m\u001b[0;34m.\u001b[0m\u001b[0mdataset\u001b[0m\u001b[0;34m.\u001b[0m\u001b[0m__getitems__\u001b[0m\u001b[0;34m(\u001b[0m\u001b[0mpossibly_batched_index\u001b[0m\u001b[0;34m)\u001b[0m\u001b[0;34m\u001b[0m\u001b[0;34m\u001b[0m\u001b[0m\n\u001b[1;32m     51\u001b[0m             \u001b[0;32melse\u001b[0m\u001b[0;34m:\u001b[0m\u001b[0;34m\u001b[0m\u001b[0;34m\u001b[0m\u001b[0m\n\u001b[0;32m---> 52\u001b[0;31m                 \u001b[0mdata\u001b[0m \u001b[0;34m=\u001b[0m \u001b[0;34m[\u001b[0m\u001b[0mself\u001b[0m\u001b[0;34m.\u001b[0m\u001b[0mdataset\u001b[0m\u001b[0;34m[\u001b[0m\u001b[0midx\u001b[0m\u001b[0;34m]\u001b[0m \u001b[0;32mfor\u001b[0m \u001b[0midx\u001b[0m \u001b[0;32min\u001b[0m \u001b[0mpossibly_batched_index\u001b[0m\u001b[0;34m]\u001b[0m\u001b[0;34m\u001b[0m\u001b[0;34m\u001b[0m\u001b[0m\n\u001b[0m\u001b[1;32m     53\u001b[0m         \u001b[0;32melse\u001b[0m\u001b[0;34m:\u001b[0m\u001b[0;34m\u001b[0m\u001b[0;34m\u001b[0m\u001b[0m\n\u001b[1;32m     54\u001b[0m             \u001b[0mdata\u001b[0m \u001b[0;34m=\u001b[0m \u001b[0mself\u001b[0m\u001b[0;34m.\u001b[0m\u001b[0mdataset\u001b[0m\u001b[0;34m[\u001b[0m\u001b[0mpossibly_batched_index\u001b[0m\u001b[0;34m]\u001b[0m\u001b[0;34m\u001b[0m\u001b[0;34m\u001b[0m\u001b[0m\n",
            "\u001b[0;32m<ipython-input-31-9b28dd0399ad>\u001b[0m in \u001b[0;36m__getitem__\u001b[0;34m(self, idx)\u001b[0m\n\u001b[1;32m     99\u001b[0m             \u001b[0;32mif\u001b[0m \u001b[0mdata\u001b[0m\u001b[0;34m.\u001b[0m\u001b[0mshape\u001b[0m\u001b[0;34m[\u001b[0m\u001b[0;36m0\u001b[0m\u001b[0;34m]\u001b[0m \u001b[0;34m>\u001b[0m \u001b[0mself\u001b[0m\u001b[0;34m.\u001b[0m\u001b[0mconfig\u001b[0m\u001b[0;34m.\u001b[0m\u001b[0mTIME_STEPS\u001b[0m\u001b[0;34m:\u001b[0m\u001b[0;34m\u001b[0m\u001b[0;34m\u001b[0m\u001b[0m\n\u001b[1;32m    100\u001b[0m                 \u001b[0mdata\u001b[0m \u001b[0;34m=\u001b[0m \u001b[0mself\u001b[0m\u001b[0;34m.\u001b[0m\u001b[0maugmentor\u001b[0m\u001b[0;34m.\u001b[0m\u001b[0mrandom_temporal_crop\u001b[0m\u001b[0;34m(\u001b[0m\u001b[0mdata\u001b[0m\u001b[0;34m,\u001b[0m \u001b[0mself\u001b[0m\u001b[0;34m.\u001b[0m\u001b[0mconfig\u001b[0m\u001b[0;34m.\u001b[0m\u001b[0mTIME_STEPS\u001b[0m\u001b[0;34m)\u001b[0m\u001b[0;34m\u001b[0m\u001b[0;34m\u001b[0m\u001b[0m\n\u001b[0;32m--> 101\u001b[0;31m             \u001b[0mdata\u001b[0m \u001b[0;34m=\u001b[0m \u001b[0mself\u001b[0m\u001b[0;34m.\u001b[0m\u001b[0maugmentor\u001b[0m\u001b[0;34m.\u001b[0m\u001b[0mgaussian_noise\u001b[0m\u001b[0;34m(\u001b[0m\u001b[0mdata\u001b[0m\u001b[0;34m)\u001b[0m\u001b[0;34m\u001b[0m\u001b[0;34m\u001b[0m\u001b[0m\n\u001b[0m\u001b[1;32m    102\u001b[0m \u001b[0;34m\u001b[0m\u001b[0m\n\u001b[1;32m    103\u001b[0m         \u001b[0;31m# Get label\u001b[0m\u001b[0;34m\u001b[0m\u001b[0;34m\u001b[0m\u001b[0m\n",
            "\u001b[0;32m<ipython-input-29-d6bd02621586>\u001b[0m in \u001b[0;36mgaussian_noise\u001b[0;34m(data, noise_level)\u001b[0m\n\u001b[1;32m     15\u001b[0m         \u001b[0;34m\"\"\"Add Gaussian noise to data.\"\"\"\u001b[0m\u001b[0;34m\u001b[0m\u001b[0;34m\u001b[0m\u001b[0m\n\u001b[1;32m     16\u001b[0m         \u001b[0mdata\u001b[0m \u001b[0;34m=\u001b[0m \u001b[0mnp\u001b[0m\u001b[0;34m.\u001b[0m\u001b[0mascontiguousarray\u001b[0m\u001b[0;34m(\u001b[0m\u001b[0mdata\u001b[0m\u001b[0;34m)\u001b[0m\u001b[0;34m\u001b[0m\u001b[0;34m\u001b[0m\u001b[0m\n\u001b[0;32m---> 17\u001b[0;31m         \u001b[0mnoise\u001b[0m \u001b[0;34m=\u001b[0m \u001b[0mnp\u001b[0m\u001b[0;34m.\u001b[0m\u001b[0mrandom\u001b[0m\u001b[0;34m.\u001b[0m\u001b[0mnormal\u001b[0m\u001b[0;34m(\u001b[0m\u001b[0;36m0\u001b[0m\u001b[0;34m,\u001b[0m \u001b[0mnoise_level\u001b[0m\u001b[0;34m,\u001b[0m \u001b[0mdata\u001b[0m\u001b[0;34m.\u001b[0m\u001b[0mshape\u001b[0m\u001b[0;34m)\u001b[0m\u001b[0;34m\u001b[0m\u001b[0;34m\u001b[0m\u001b[0m\n\u001b[0m\u001b[1;32m     18\u001b[0m         \u001b[0;32mreturn\u001b[0m \u001b[0mnp\u001b[0m\u001b[0;34m.\u001b[0m\u001b[0mascontiguousarray\u001b[0m\u001b[0;34m(\u001b[0m\u001b[0mdata\u001b[0m \u001b[0;34m+\u001b[0m \u001b[0mnoise\u001b[0m\u001b[0;34m)\u001b[0m\u001b[0;34m\u001b[0m\u001b[0;34m\u001b[0m\u001b[0m\n\u001b[1;32m     19\u001b[0m \u001b[0;34m\u001b[0m\u001b[0m\n",
            "\u001b[0;31mKeyboardInterrupt\u001b[0m: "
          ]
        }
      ],
      "source": [
        "trained_model = train(\n",
        "    model=model,\n",
        "    train_loader=train_loader,\n",
        "    val_loader=val_loader,\n",
        "    config=config,\n",
        "    run_name=\"fmri_vit_improved\",\n",
        "    use_wandb=True  # Set to False if not using wandb\n",
        ")"
      ]
    },
    {
      "cell_type": "markdown",
      "metadata": {
        "id": "aYO4cufMGc9d"
      },
      "source": [
        "## Analysis & Visualization"
      ]
    },
    {
      "cell_type": "markdown",
      "metadata": {
        "id": "MK4q29iJItEa"
      },
      "source": [
        "#### Model Analysis"
      ]
    },
    {
      "cell_type": "code",
      "execution_count": null,
      "metadata": {
        "id": "PfMhNu1tJ-0r"
      },
      "outputs": [],
      "source": [
        "def clear_gpu_memory():\n",
        "    if torch.cuda.is_available():\n",
        "        torch.cuda.empty_cache()\n",
        "    gc.collect()"
      ]
    },
    {
      "cell_type": "code",
      "execution_count": null,
      "metadata": {
        "id": "ZlLMbKOUIujp"
      },
      "outputs": [],
      "source": [
        "predictions = []\n",
        "true_labels = []"
      ]
    },
    {
      "cell_type": "code",
      "execution_count": null,
      "metadata": {
        "id": "K5AKnyXxIwsK"
      },
      "outputs": [],
      "source": [
        "smaller_batch_size = 1\n",
        "val_loader_small = torch.utils.data.DataLoader(\n",
        "    val_loader.dataset,\n",
        "    batch_size=smaller_batch_size,\n",
        "    shuffle=False\n",
        ")"
      ]
    },
    {
      "cell_type": "code",
      "execution_count": null,
      "metadata": {
        "id": "dkcXCQ18KGcl"
      },
      "outputs": [],
      "source": [
        "model.eval()\n",
        "clear_gpu_memory()"
      ]
    },
    {
      "cell_type": "code",
      "execution_count": null,
      "metadata": {
        "id": "CeEws3bCKIL6"
      },
      "outputs": [],
      "source": [
        "try:\n",
        "    with torch.no_grad():\n",
        "        for batch, labels in tqdm(val_loader_small, desc=\"Computing metrics\"):\n",
        "            # Process one sample at a time\n",
        "            outputs = model(batch.to(config.device))\n",
        "            # Get scalar prediction value\n",
        "            pred = outputs['knowledge'].squeeze().cpu().numpy().item()\n",
        "            label = labels.item()\n",
        "\n",
        "            # Append to lists\n",
        "            predictions.append(pred)\n",
        "            true_labels.append(label)\n",
        "\n",
        "            # Clear memory after each batch\n",
        "            clear_gpu_memory()\n",
        "\n",
        "except RuntimeError as e:\n",
        "    print(f\"Error during prediction: {e}\")\n",
        "    clear_gpu_memory()"
      ]
    },
    {
      "cell_type": "markdown",
      "metadata": {
        "id": "2UbP3eD_KYLY"
      },
      "source": [
        "Convert to numpy arrays"
      ]
    },
    {
      "cell_type": "code",
      "execution_count": null,
      "metadata": {
        "id": "WLPPiCQ3Iz6G"
      },
      "outputs": [],
      "source": [
        "predictions = np.array(predictions)\n",
        "true_labels = np.array(true_labels)"
      ]
    },
    {
      "cell_type": "code",
      "execution_count": null,
      "metadata": {
        "id": "5AgKfOCBK4ym"
      },
      "outputs": [],
      "source": [
        "print(f\"\\nProcessed {len(predictions)} samples\")\n",
        "print(f\"Predictions shape: {predictions.shape}\")\n",
        "print(f\"True labels shape: {true_labels.shape}\")"
      ]
    },
    {
      "cell_type": "markdown",
      "metadata": {
        "id": "P-wD8dPJKXMA"
      },
      "source": [
        "Compute metrics"
      ]
    },
    {
      "cell_type": "code",
      "execution_count": null,
      "metadata": {
        "id": "lt8AbXCHI01X"
      },
      "outputs": [],
      "source": [
        "mse = np.mean((predictions - true_labels) ** 2)\n",
        "correlation = np.corrcoef(predictions, true_labels)[0, 1]"
      ]
    },
    {
      "cell_type": "code",
      "execution_count": null,
      "metadata": {
        "id": "AsZCruMtI1r8"
      },
      "outputs": [],
      "source": [
        "print(f\"\\nValidation Results:\")\n",
        "print(f\"Mean Squared Error: {mse:.4f}\")\n",
        "print(f\"Correlation: {correlation:.4f}\")"
      ]
    },
    {
      "cell_type": "markdown",
      "metadata": {
        "id": "lTfXyPOfI23O"
      },
      "source": [
        "#### Visualize predictions vs ground truth"
      ]
    },
    {
      "cell_type": "code",
      "execution_count": null,
      "metadata": {
        "id": "znz0ujdiI4Y-"
      },
      "outputs": [],
      "source": [
        "plt.figure(figsize=(8, 6))\n",
        "plt.scatter(true_labels, predictions, alpha=0.5)\n",
        "plt.plot([min(true_labels), max(true_labels)],\n",
        "         [min(true_labels), max(true_labels)],\n",
        "         'r--')\n",
        "plt.xlabel('True Values')\n",
        "plt.ylabel('Predictions')\n",
        "plt.title('Predictions vs Ground Truth')\n",
        "plt.grid(True)\n",
        "plt.show()"
      ]
    },
    {
      "cell_type": "markdown",
      "metadata": {
        "id": "SQg23j2PLB5k"
      },
      "source": [
        "example predictions"
      ]
    },
    {
      "cell_type": "code",
      "execution_count": null,
      "metadata": {
        "id": "TRTwEX9qLDHO"
      },
      "outputs": [],
      "source": [
        "print(\"\\nExample predictions vs true labels:\")\n",
        "for i in range(min(5, len(predictions))):\n",
        "    print(f\"True: {true_labels[i]:.4f}, Predicted: {predictions[i]:.4f}\")\n",
        "\n",
        "clear_gpu_memory()"
      ]
    },
    {
      "cell_type": "markdown",
      "metadata": {
        "id": "GzyZWF4dI5n2"
      },
      "source": [
        "#### Attention Analysis"
      ]
    },
    {
      "cell_type": "code",
      "execution_count": null,
      "metadata": {
        "id": "R-sA0eH6I7eS"
      },
      "outputs": [],
      "source": [
        "sample_batch, sample_labels = next(iter(val_loader_small))\n",
        "sample_batch = sample_batch.to(config.device)"
      ]
    },
    {
      "cell_type": "code",
      "execution_count": null,
      "metadata": {
        "id": "6_CgFeExJAkt"
      },
      "outputs": [],
      "source": [
        "try:\n",
        "    with torch.no_grad():\n",
        "        outputs = model(sample_batch)\n",
        "        attention_maps = outputs['attention_maps'][-1]  # Get last layer attention\n",
        "\n",
        "        # Print attention map shapes for debugging\n",
        "        print(\"\\nAttention map shapes:\")\n",
        "        print(f\"Raw attention maps shape: {attention_maps.shape}\")\n",
        "\n",
        "        # Process attention maps\n",
        "        avg_attention = attention_maps.mean(dim=1)[0]  # First sample\n",
        "        print(f\"Average attention shape: {avg_attention.shape}\")\n",
        "\n",
        "        attention_map = avg_attention.cpu().numpy()\n",
        "        print(f\"Numpy attention map shape: {attention_map.shape}\")\n",
        "        print(f\"Total elements: {attention_map.size}\")\n",
        "\n",
        "        # Calculate proper dimensions\n",
        "        # For a square attention map, we exclude the CLS token\n",
        "        n = int(np.sqrt(attention_map.shape[0] - 1))\n",
        "        print(f\"Calculated n: {n}\")\n",
        "\n",
        "        # Remove CLS token and reshape\n",
        "        attention_map = attention_map[1:]  # Remove CLS token\n",
        "        attention_map = attention_map.reshape(n, n)\n",
        "        print(f\"Final attention map shape: {attention_map.shape}\")\n",
        "\n",
        "        # Clear GPU tensors\n",
        "        del outputs, attention_maps\n",
        "        clear_gpu_memory()\n",
        "\n",
        "        # Visualize attention map\n",
        "        plt.figure(figsize=(10, 8))\n",
        "        sns.heatmap(attention_map, cmap='viridis')\n",
        "        plt.title('Average Attention Map (without CLS token)')\n",
        "        plt.xlabel('Patches')\n",
        "        plt.ylabel('Patches')\n",
        "        plt.show()\n",
        "\n",
        "        # Also show attention pattern with CLS token\n",
        "        print(\"\\nVisualization with CLS token:\")\n",
        "        plt.figure(figsize=(10, 8))\n",
        "        attention_with_cls = avg_attention.cpu().numpy()\n",
        "        plt.imshow(attention_with_cls.reshape(1, -1), cmap='viridis', aspect='auto')\n",
        "        plt.title('Attention Pattern (with CLS token)')\n",
        "        plt.xlabel('Position (including CLS token)')\n",
        "        plt.ylabel('Attention')\n",
        "        plt.colorbar()\n",
        "        plt.show()\n",
        "\n",
        "except RuntimeError as e:\n",
        "    print(f\"Error during attention analysis: {e}\")\n",
        "    clear_gpu_memory()\n",
        "except ValueError as e:\n",
        "    print(f\"Error reshaping attention map: {e}\")\n",
        "    print(\"\\nTrying alternative visualization...\")\n",
        "    try:\n",
        "        # Alternative visualization without reshaping\n",
        "        plt.figure(figsize=(12, 4))\n",
        "        plt.plot(attention_map, label='Attention Weights')\n",
        "        plt.title('Attention Weights Distribution')\n",
        "        plt.xlabel('Position')\n",
        "        plt.ylabel('Attention Weight')\n",
        "        plt.legend()\n",
        "        plt.grid(True)\n",
        "        plt.show()\n",
        "    except Exception as e2:\n",
        "        print(f\"Alternative visualization failed: {e2}\")\n",
        "    clear_gpu_memory()"
      ]
    },
    {
      "cell_type": "markdown",
      "metadata": {
        "id": "jMzcTFLZLq6y"
      },
      "source": [
        "#### Feature Attribution"
      ]
    },
    {
      "cell_type": "code",
      "execution_count": null,
      "metadata": {
        "id": "BbHnS1ejNShy"
      },
      "outputs": [],
      "source": [
        "try:\n",
        "    # Initialize GradientShap\n",
        "    gradient_shap = GradientShap(model)\n",
        "\n",
        "    # Get a single sample\n",
        "    sample_batch, sample_labels = next(iter(val_loader_small))\n",
        "    print(f\"Original sample shape: {sample_batch.shape}\")\n",
        "\n",
        "    # Take central time window\n",
        "    window_size = 32\n",
        "    start_time = (sample_batch.shape[1] - window_size) // 2\n",
        "\n",
        "    # Extract central slice along y-axis (axis 3)\n",
        "    central_y = sample_batch.shape[3] // 2\n",
        "\n",
        "    # Get the central slice with time window\n",
        "    slice_data = sample_batch[:, start_time:start_time+window_size, :, central_y:central_y+1, :]\n",
        "    print(f\"Slice data shape: {slice_data.shape}\")\n",
        "\n",
        "    # Move to device\n",
        "    slice_data = slice_data.to(config.device)\n",
        "\n",
        "    # Create a baseline input (all zeros)\n",
        "    baseline = torch.zeros_like(slice_data).to(config.device)\n",
        "\n",
        "    print(\"Computing attributions...\")\n",
        "\n",
        "    # Get attributions\n",
        "    attributions = gradient_shap.attribute(\n",
        "        slice_data,\n",
        "        n_samples=50,\n",
        "        baselines=baseline\n",
        "    )\n",
        "\n",
        "    print(f\"Attribution shape: {attributions.shape}\")\n",
        "\n",
        "    # Take middle time point for visualization\n",
        "    middle_time = window_size // 2\n",
        "\n",
        "    # Visualize\n",
        "    plt.figure(figsize=(15, 5))\n",
        "\n",
        "    # Original input\n",
        "    plt.subplot(131)\n",
        "    input_vis = slice_data[0, middle_time, :, 0, :].cpu().numpy()\n",
        "    plt.imshow(input_vis, cmap='gray')\n",
        "    plt.title('Input (Central Slice)')\n",
        "    plt.colorbar()\n",
        "    plt.axis('off')\n",
        "\n",
        "    # Attribution map\n",
        "    plt.subplot(132)\n",
        "    attr_vis = attributions[0, middle_time, :, 0, :].cpu().detach().numpy()\n",
        "    plt.imshow(attr_vis, cmap='RdBu_r')\n",
        "    plt.title('Feature Attribution')\n",
        "    plt.colorbar()\n",
        "    plt.axis('off')\n",
        "\n",
        "    # Overlay\n",
        "    plt.subplot(133)\n",
        "    plt.imshow(input_vis, cmap='gray')\n",
        "    plt.imshow(attr_vis, cmap='RdBu_r', alpha=0.6)\n",
        "    plt.title('Overlay')\n",
        "    plt.colorbar()\n",
        "    plt.axis('off')\n",
        "\n",
        "    plt.tight_layout()\n",
        "    plt.show()\n",
        "\n",
        "    # Attribution statistics\n",
        "    attr_stats = {\n",
        "        'mean': float(attributions.mean().cpu()),\n",
        "        'std': float(attributions.std().cpu()),\n",
        "        'max': float(attributions.max().cpu()),\n",
        "        'min': float(attributions.min().cpu())\n",
        "    }\n",
        "\n",
        "    print(\"\\nAttribution Statistics:\")\n",
        "    for key, value in attr_stats.items():\n",
        "        print(f\"{key}: {value:.4f}\")\n",
        "\n",
        "    # Plot attribution distribution\n",
        "    plt.figure(figsize=(10, 4))\n",
        "    attr_flat = attr_vis.flatten()\n",
        "    plt.hist(attr_flat, bins=50, density=True)\n",
        "    plt.title('Attribution Distribution')\n",
        "    plt.xlabel('Attribution Value')\n",
        "    plt.ylabel('Density')\n",
        "    plt.grid(True)\n",
        "    plt.show()\n",
        "\n",
        "    # Time series analysis\n",
        "    print(\"\\nAnalyzing temporal patterns...\")\n",
        "    center_x = attr_vis.shape[0] // 2\n",
        "    center_z = attr_vis.shape[1] // 2\n",
        "    time_attrs = attributions[0, :, center_x, 0, center_z].cpu().numpy()\n",
        "\n",
        "    plt.figure(figsize=(10, 4))\n",
        "    plt.plot(time_attrs)\n",
        "    plt.title('Attribution Values Over Time (Central Point)')\n",
        "    plt.xlabel('Time Step')\n",
        "    plt.ylabel('Attribution Value')\n",
        "    plt.grid(True)\n",
        "    plt.show()\n",
        "\n",
        "except Exception as e:\n",
        "    print(f\"Error in feature attribution analysis: {e}\")\n",
        "    import traceback\n",
        "    traceback.print_exc()\n",
        "    clear_gpu_memory()"
      ]
    },
    {
      "cell_type": "markdown",
      "metadata": {
        "id": "Nl8d6UzIN1ya"
      },
      "source": [
        "#### Temporal Analysis"
      ]
    },
    {
      "cell_type": "code",
      "execution_count": null,
      "metadata": {
        "id": "iNy5buSRN4DQ"
      },
      "outputs": [],
      "source": [
        "try:\n",
        "    sample_batch, sample_labels = next(iter(val_loader_small))\n",
        "    temporal_preds = []\n",
        "    temporal_features = []\n",
        "\n",
        "    time_points = 10\n",
        "    window_size = 5\n",
        "\n",
        "    sample_sequence = sample_batch[0, :time_points].to(config.device)\n",
        "    print(f\"Analyzing temporal sequence of shape: {sample_sequence.shape}\")\n",
        "\n",
        "    for i in range(time_points - window_size + 1):\n",
        "        window = sample_sequence[i:i+window_size].unsqueeze(0)\n",
        "\n",
        "        with torch.no_grad():\n",
        "            outputs = model(window)\n",
        "            pred = outputs['knowledge'].cpu().numpy().item()\n",
        "            temporal_preds.append(pred)\n",
        "\n",
        "            features = outputs['attention_maps'][-1].mean(dim=1).cpu().numpy()\n",
        "            temporal_features.append(features)\n",
        "\n",
        "        del outputs\n",
        "        clear_gpu_memory()\n",
        "\n",
        "    plt.figure(figsize=(15, 5))\n",
        "\n",
        "    plt.subplot(121)\n",
        "    plt.plot(temporal_preds, marker='o')\n",
        "    plt.title('Predictions Over Time')\n",
        "    plt.xlabel('Time Window')\n",
        "    plt.ylabel('Prediction')\n",
        "    plt.grid(True)\n",
        "\n",
        "    plt.subplot(122)\n",
        "    temporal_features = np.array(temporal_features).squeeze()\n",
        "    sns.heatmap(temporal_features, cmap='viridis')\n",
        "    plt.title('Feature Patterns Over Time')\n",
        "    plt.xlabel('Feature Dimension')\n",
        "    plt.ylabel('Time Window')\n",
        "\n",
        "    plt.tight_layout()\n",
        "    plt.show()\n",
        "\n",
        "    print(\"\\nTemporal Statistics:\")\n",
        "    print(f\"Mean prediction: {np.mean(temporal_preds):.4f}\")\n",
        "    print(f\"Std prediction: {np.std(temporal_preds):.4f}\")\n",
        "    print(f\"Temporal correlation: {np.corrcoef(temporal_preds[:-1], temporal_preds[1:])[0,1]:.4f}\")\n",
        "\n",
        "except Exception as e:\n",
        "    print(f\"Error in temporal analysis: {e}\")\n",
        "    clear_gpu_memory()"
      ]
    },
    {
      "cell_type": "markdown",
      "metadata": {
        "id": "nCLLRVisN8T4"
      },
      "source": [
        "#### Region Analysis"
      ]
    },
    {
      "cell_type": "code",
      "execution_count": null,
      "metadata": {
        "id": "fixbKXkfUw41"
      },
      "outputs": [],
      "source": [
        "clear_gpu_memory()"
      ]
    },
    {
      "cell_type": "code",
      "execution_count": null,
      "metadata": {
        "id": "5XRlo8mXN-tj"
      },
      "outputs": [],
      "source": [
        "import numpy as np\n",
        "import torch\n",
        "import matplotlib.pyplot as plt\n",
        "import seaborn as sns\n",
        "import gc\n",
        "\n",
        "def compute_region_importance(model, val_loader_small, config):\n",
        "    try:\n",
        "        # Get attributions for multiple samples\n",
        "        n_samples = 30\n",
        "        region_attributions = []\n",
        "\n",
        "        for i, (batch, _) in enumerate(tqdm(val_loader_small, desc=\"Computing region attributions\")):\n",
        "            if i >= n_samples:\n",
        "                break\n",
        "\n",
        "            # Move batch to GPU\n",
        "            batch = batch.to(config.device)\n",
        "\n",
        "            # Compute occlusion sensitivity for each sample in the batch\n",
        "            for j in range(batch.size(0)):\n",
        "                sample = batch[j:j+1]\n",
        "\n",
        "                # Compute occlusion sensitivity\n",
        "                original_output = model(sample)['knowledge']\n",
        "                occlusion_sensitivities = []\n",
        "\n",
        "                for k in range(sample.size(1)):  # Loop through time steps\n",
        "                    for l in range(sample.size(2)):  # Loop through height\n",
        "                        for m in range(sample.size(3)):  # Loop through width\n",
        "                            for n in range(sample.size(4)):  # Loop through depth\n",
        "                                occluded_sample = sample.clone()\n",
        "                                occluded_sample[:, k:k+1, l:l+1, m:m+1, n:n+1] = 0\n",
        "\n",
        "                                # Get model output with occluded input\n",
        "                                occluded_output = model(occluded_sample)['knowledge']\n",
        "                                sensitivity = (original_output - occluded_output).abs().item()\n",
        "                                occlusion_sensitivities.append(sensitivity)\n",
        "\n",
        "                # Average occlusion sensitivities across spatial dimensions\n",
        "                attr_avg = np.array(occlusion_sensitivities).reshape(sample.size(1), sample.size(2), sample.size(3), sample.size(4)).mean(axis=(1, 2, 3))\n",
        "                region_attributions.append(attr_avg)\n",
        "\n",
        "                # Clean up sample-level tensors\n",
        "                del sample, original_output, occluded_sample, occluded_output\n",
        "                torch.cuda.empty_cache()\n",
        "                gc.collect()\n",
        "\n",
        "            # Clean up batch-level tensors\n",
        "            del batch\n",
        "            torch.cuda.empty_cache()\n",
        "            gc.collect()\n",
        "\n",
        "        region_attributions = np.array(region_attributions)\n",
        "\n",
        "        # Compute region importance\n",
        "        region_importance = np.mean(np.abs(region_attributions), axis=0)\n",
        "\n",
        "        # Plot region importance\n",
        "        plt.figure(figsize=(12, 5))\n",
        "\n",
        "        # Region importance bar plot\n",
        "        plt.subplot(121)\n",
        "        plt.bar(range(len(region_importance)), region_importance)\n",
        "        plt.title('Region Importance')\n",
        "        plt.xlabel('Region Index')\n",
        "        plt.ylabel('Average Attribution Magnitude')\n",
        "\n",
        "        # Region correlation heatmap\n",
        "        plt.subplot(122)\n",
        "        region_corr = np.corrcoef(region_attributions.T)\n",
        "        sns.heatmap(region_corr, cmap='RdBu_r', center=0)\n",
        "        plt.title('Region Correlations')\n",
        "\n",
        "        plt.tight_layout()\n",
        "        plt.show()\n",
        "\n",
        "        # Print top regions\n",
        "        top_k = 5\n",
        "        top_regions = np.argsort(region_importance)[-top_k:]\n",
        "        print(f\"\\nTop {top_k} important regions:\")\n",
        "        for i, region_idx in enumerate(reversed(top_regions)):\n",
        "            print(f\"{i+1}. Region {region_idx}: {region_importance[region_idx]:.4f}\")\n",
        "\n",
        "        return region_importance, top_regions\n",
        "\n",
        "    except Exception as e:\n",
        "        print(f\"Error in region analysis: {e}\")\n",
        "        torch.cuda.empty_cache()\n",
        "        gc.collect()\n",
        "        raise"
      ]
    },
    {
      "cell_type": "code",
      "execution_count": null,
      "metadata": {
        "id": "aiep9S2kQr7s"
      },
      "outputs": [],
      "source": [
        "region_importance, top_regions = compute_region_importance(trained_model, val_loader_small, config)"
      ]
    },
    {
      "cell_type": "markdown",
      "metadata": {
        "id": "mwah8pUQh6Ce"
      },
      "source": [
        "# 4. Methodology\n",
        "\n",
        "### 4.1 Data Preprocessing\n",
        "\n",
        "Our preprocessing pipeline consists of several key steps to prepare the fMRI data for analysis:\n",
        "\n",
        "1. **Normalization**: We apply z-score normalization to standardize the fMRI data across subjects and sessions.\n",
        "2. **Temporal Filtering**: A bandpass filter is applied to remove low-frequency drift and high-frequency noise.\n",
        "3. **Spatial Standardization**: All fMRI volumes are resized to a standard shape (64x64x30x208) to ensure consistency across datasets.\n",
        "\n",
        "### 4.2 Data Augmentation\n",
        "\n",
        "To enhance model generalization, we implement fMRI-specific data augmentation techniques:\n",
        "\n",
        "1. **Random Temporal Cropping**: Extracts a random continuous segment of the time series.\n",
        "2. **Gaussian Noise Injection**: Adds controlled noise to simulate variability in fMRI signals.\n",
        "3. **3D Rotation**: Applies small random rotations to the 3D volume, mimicking slight head movements.\n",
        "\n",
        "### 4.3 Model Architecture\n",
        "\n",
        "Our proposed FMRITransformer model consists of the following key components:\n",
        "\n",
        "1. **Patch Embedding**: Converts 3D fMRI volumes into a sequence of embedded patches.\n",
        "2. **Position Embedding**: Adds learnable position information to maintain spatial context.\n",
        "3. **Transformer Encoder**: Processes the embedded patches using self-attention mechanisms.\n",
        "4. **Multi-Task Prediction Heads**: Outputs predictions for knowledgeability score, brain region activation, and cognitive states.\n",
        "\n",
        "### 4.4 Training Procedure\n",
        "\n",
        "We employ a multi-task learning approach with the following details:\n",
        "\n",
        "1. **Loss Function**: A weighted combination of losses for each prediction task.\n",
        "2. **Optimization**: AdamW optimizer with a learning rate of 1e-4 and weight decay of 0.01.\n",
        "3. **Learning Rate Schedule**: Cosine annealing with warm-up.\n",
        "4. **Gradient Clipping**: Applied to prevent exploding gradients.\n",
        "5. **Mixed Precision Training**: Utilized to improve computational efficiency.\n",
        "\n",
        "### 4.5 Evaluation Metrics\n",
        "\n",
        "We assess our model's performance using:\n",
        "\n",
        "1. Mean Squared Error (MSE) for knowledgeability score prediction.\n",
        "2. Mean Absolute Error (MAE) for brain region activation prediction.\n",
        "3. Accuracy and F1-score for cognitive state classification."
      ]
    },
    {
      "cell_type": "markdown",
      "metadata": {
        "id": "36JnSDTCigNU"
      },
      "source": [
        "# 5. Experimental Setup\n",
        "\n",
        "### 5.1 Datasets\n",
        "\n",
        "We utilize four datasets from OpenNeuro:\n",
        "\n",
        "1. ds000002: Classification learning task\n",
        "2. ds000011: Classification learning and tone counting task\n",
        "3. ds000017: Classification learning and stop-signal task\n",
        "4. ds000052: Classification learning and reversal task\n",
        "\n",
        "These datasets provide a diverse range of cognitive tasks, allowing us to test our model's generalizability.\n",
        "\n",
        "### 5.2 Hardware and Software\n",
        "\n",
        "Our experiments were conducted using:\n",
        "\n",
        "- Hardware: NVIDIA A100 GPUs\n",
        "- Software: PyTorch 1.9, CUDA 11.1, and Python 3.8\n",
        "\n",
        "### 5.3 Hyperparameter Tuning\n",
        "\n",
        "We perform a grid search over the following hyperparameters:\n",
        "\n",
        "- Number of transformer layers: [6, 12, 18]\n",
        "- Number of attention heads: [8, 12, 16]\n",
        "- Embedding dimension: [512, 768, 1024]\n",
        "- Dropout rate: [0.1, 0.2, 0.3]\n",
        "\n",
        "### 5.4 Baseline Models\n",
        "\n",
        "We compare our FMRITransformer against the following baselines:\n",
        "\n",
        "1. 3D Convolutional Neural Network (CNN)\n",
        "2. Long Short-Term Memory (LSTM) network\n",
        "3. Traditional machine learning models (Random Forest, SVM)\n",
        "\n",
        "### 5.5 Ablation Studies\n",
        "\n",
        "To understand the contribution of different components, we conduct ablation studies on:\n",
        "\n",
        "1. The effect of data augmentation techniques\n",
        "2. The impact of multi-task learning vs. single-task learning\n",
        "3. The influence of the number of transformer layers and attention heads\n"
      ]
    },
    {
      "cell_type": "markdown",
      "metadata": {
        "id": "RLa2ByajijwS"
      },
      "source": [
        "# 6. Results\n",
        "\n",
        "In this section, we present the findings from our experiments using the FMRITransformer model on the four OpenNeuro datasets. We evaluate the model's performance in assessing knowledgeability, predicting brain region activation, and classifying cognitive states.\n",
        "\n",
        "### 6.1 Overall Performance\n",
        "\n",
        "Our FMRITransformer model demonstrated promising results across all tasks:\n",
        "\n",
        "- Knowledgeability Score Prediction: [Insert MSE and brief interpretation]\n",
        "- Brain Region Activation Prediction: [Insert MAE and brief interpretation]\n",
        "- Cognitive State Classification: [Insert accuracy, F1-score, and brief interpretation]\n",
        "\n",
        "[Insert a summary table or graph showing the overall performance metrics]\n",
        "\n",
        "### 6.2 Comparison with Baseline Models\n",
        "\n",
        "The FMRITransformer outperformed the baseline models in most tasks:\n",
        "\n",
        "| Model | Knowledgeability MSE | Region Activation MAE | Cognitive State Accuracy |\n",
        "|-------|----------------------|-----------------------|--------------------------|\n",
        "| FMRITransformer | [Insert] | [Insert] | [Insert] |\n",
        "| 3D CNN | [Insert] | [Insert] | [Insert] |\n",
        "| LSTM | [Insert] | [Insert] | [Insert] |\n",
        "| Random Forest | [Insert] | [Insert] | [Insert] |\n",
        "| SVM | [Insert] | [Insert] | [Insert] |\n",
        "\n",
        "[Brief discussion of the comparative performance]\n",
        "\n",
        "### 6.3 Performance Across Datasets\n",
        "\n",
        "We observed variations in model performance across the four datasets:\n",
        "\n",
        "- ds000002: [Brief summary of performance]\n",
        "- ds000011: [Brief summary of performance]\n",
        "- ds000017: [Brief summary of performance]\n",
        "- ds000052: [Brief summary of performance]\n",
        "\n",
        "[Insert a graph or table showing performance metrics for each dataset]\n",
        "\n",
        "### 6.4 Ablation Study Results\n",
        "\n",
        "Our ablation studies revealed the following:\n",
        "\n",
        "1. Impact of Data Augmentation: [Brief summary of findings]\n",
        "2. Multi-task vs. Single-task Learning: [Brief summary of findings]\n",
        "3. Effect of Transformer Layers and Attention Heads: [Brief summary of findings]\n",
        "\n",
        "[Insert a table or graph illustrating the ablation study results]\n",
        "\n",
        "### 6.5 Attention Visualization\n",
        "\n",
        "The attention visualization revealed interesting patterns in how the model focuses on different brain regions:\n",
        "\n",
        "[Insert 2-3 attention visualization images with brief descriptions]\n",
        "\n",
        "### 6.6 Learning Curves\n",
        "\n",
        "The learning curves for our model showed:\n",
        "\n",
        "[Insert a graph of training and validation loss over epochs]\n",
        "\n",
        "[Brief description of convergence behavior and any interesting patterns]\n",
        "\n",
        "### 6.7 Error Analysis\n",
        "\n",
        "We conducted an error analysis to understand the model's limitations:\n",
        "\n",
        "[Insert a brief summary of common error patterns or challenging cases]\n",
        "\n",
        "[Consider including a confusion matrix for the cognitive state classification task]"
      ]
    },
    {
      "cell_type": "markdown",
      "metadata": {
        "id": "X9QXgTv0i0yr"
      },
      "source": [
        "# 7. Conclusions\n",
        "\n",
        "In this study, we developed and evaluated a novel approach for assessing an individual's knowledge level using fMRI data processed by vision transformers. Our FMRITransformer model demonstrated promising results in predicting knowledgeability scores, brain region activation, and cognitive states across multiple datasets.\n",
        "\n",
        "### 7.1 Summary of Findings\n",
        "\n",
        "- [Insert brief summary of the most significant results]\n",
        "- [Highlight how the model performed compared to baselines]\n",
        "- [Mention any unexpected or particularly interesting findings]\n",
        "\n",
        "### 7.2 Implications for Cognitive Neuroscience\n",
        "\n",
        "Our results have several important implications for the field of cognitive neuroscience:\n",
        "\n",
        "- [Discuss how the findings contribute to our understanding of brain function during learning and recall]\n",
        "- [Explain any new insights into the neural correlates of knowledge acquisition]\n",
        "- [Describe how the multi-task learning approach provides a more comprehensive view of cognitive processes]\n",
        "\n",
        "### 7.3 Methodological Contributions\n",
        "\n",
        "The FMRITransformer model introduces several methodological advancements:\n",
        "\n",
        "- [Highlight the benefits of using vision transformers for fMRI data analysis]\n",
        "- [Discuss the advantages of the multi-task learning approach]\n",
        "- [Explain how the attention visualization contributes to model interpretability]\n",
        "\n",
        "### 7.4 Limitations and Future Work\n",
        "\n",
        "While our study provides valuable insights, it also has some limitations:\n",
        "\n",
        "- [Discuss any limitations in the datasets or methodology]\n",
        "- [Mention potential confounding factors or sources of bias]\n",
        "\n",
        "Future research directions could include:\n",
        "\n",
        "- [Suggest improvements or extensions to the model architecture]\n",
        "- [Propose additional tasks or datasets that could be incorporated]\n",
        "- [Discuss potential clinical or educational applications of the model]\n",
        "\n",
        "### 7.5 Broader Impact\n",
        "\n",
        "The ability to assess knowledge levels based on fMRI data has potential implications beyond cognitive neuroscience:\n",
        "\n",
        "- [Discuss potential applications in personalized education]\n",
        "- [Mention possible uses in cognitive assessment or early detection of learning disorders]\n",
        "- [Address any ethical considerations or potential misuses of the technology]\n",
        "\n",
        "In conclusion, our FMRITransformer model represents a significant step forward in using neuroimaging data to understand and assess cognitive processes. By leveraging advanced machine learning techniques and a multi-task approach, we have developed a tool that not only predicts knowledge levels but also provides insights into the underlying neural mechanisms of learning and recall. This research opens up new avenues for understanding human cognition and has potential applications in education, cognitive assessment, and beyond."
      ]
    },
    {
      "cell_type": "markdown",
      "metadata": {
        "id": "IWcsDBSnorK2"
      },
      "source": [
        "The code we used to train and evaluate our models is available at **REPO**.\n",
        "\n",
        "Acknowledgements\n",
        "We are grateful to **NAMES** for their fruitful comments, corrections and inspiration."
      ]
    },
    {
      "cell_type": "markdown",
      "metadata": {
        "id": "MSPwD3oGosKo"
      },
      "source": [
        "# References\n"
      ]
    }
  ],
  "metadata": {
    "accelerator": "GPU",
    "colab": {
      "gpuType": "A100",
      "provenance": []
    },
    "kernelspec": {
      "display_name": "Python 3",
      "name": "python3"
    },
    "language_info": {
      "name": "python"
    }
  },
  "nbformat": 4,
  "nbformat_minor": 0
}